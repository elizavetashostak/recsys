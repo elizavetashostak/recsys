{
 "cells": [
  {
   "cell_type": "code",
   "execution_count": 5,
   "metadata": {},
   "outputs": [],
   "source": [
    "import pandas as pd"
   ]
  },
  {
   "cell_type": "code",
   "execution_count": 6,
   "metadata": {},
   "outputs": [],
   "source": [
    "from flask import Flask\n",
    "from flask import request\n",
    "import re\n",
    "import pandas as pd\n",
    "import numpy as np\n",
    "import pickle\n",
    "\n",
    "app = Flask(__name__)\n",
    "\n",
    "@app.route('/predict', methods=['GET'])\n",
    "def hello_world_input():\n",
    "    data = request.query_string\n",
    "    data = str(data)\n",
    "    data = re.sub(r\"b'\", '', data)\n",
    "    data = re.sub(r\"'\", '', data)\n",
    "    data = data.split('&')\n",
    "    user_id = int(re.sub(r'user_id=', '', data[0]))\n",
    "    k = int(re.sub(r'k=', '', data[1]))\n",
    "    rec = predict(user_id, k)\n",
    "    return 'Hello, World!' + \" \" + str(user_id) + \" \" + str(k) + ' ' + str(rec)\n",
    "\n",
    "\n",
    "def predict(user_id, k):\n",
    "    pivot_table = pd.read_pickle('/mnt/c/Users/Elizaveta_Masharina/Documents/RecSys/Task_3/data/pivot_table.pkl')\n",
    "    df_val = pd.read_pickle('/mnt/c/Users/Elizaveta_Masharina/Documents/RecSys/Task_3/data/df_val.pkl')\n",
    "    loaded_svd = pickle.load(open('/mnt/c/Users/Elizaveta_Masharina/Documents/RecSys/Task_3/models/svd.pickle.dat', 'rb'))\n",
    "    y_pred = loaded_svd.predict(pivot_table[pivot_table['user_id'] == user_id], k=k)['svd']\n",
    "    return y_pred"
   ]
  },
  {
   "cell_type": "code",
   "execution_count": null,
   "metadata": {},
   "outputs": [],
   "source": []
  },
  {
   "cell_type": "code",
   "execution_count": 1,
   "metadata": {},
   "outputs": [],
   "source": [
    "# pd.read_pickle('C:\\\\Users\\\\Elizaveta_Masharina\\\\Documents\\\\RecSys\\\\Task_3\\\\data\\\\pivot_table.pkl')"
   ]
  },
  {
   "cell_type": "code",
   "execution_count": null,
   "metadata": {},
   "outputs": [],
   "source": []
  },
  {
   "cell_type": "code",
   "execution_count": null,
   "metadata": {},
   "outputs": [],
   "source": []
  },
  {
   "cell_type": "code",
   "execution_count": 1,
   "metadata": {},
   "outputs": [],
   "source": [
    "# from flask import Flask\n",
    "# from flask import request\n",
    "# import re\n",
    "# import pandas as pd\n",
    "# import numpy as np\n",
    "# import pickle\n",
    "# from xgboost import XGBClassifier\n",
    "\n",
    "# app = Flask(__name__)\n",
    "\n",
    "# # @app.route('/predict', methods=['GET'])\n",
    "# def hello_world_input(data):\n",
    "#     data = request.query_string\n",
    "#     data = str(data)\n",
    "#     data = re.sub(r\"b'\", '', data)\n",
    "#     data = re.sub(r\"'\", '', data)\n",
    "#     data = data.split('&')\n",
    "#     user_id = int(re.sub(r'user_id=', '', data[0]))\n",
    "#     k = int(re.sub(r'k=', '', data[1]))\n",
    "#     rec = predict(user_id, k)\n",
    "#     return 'Hello, World!' + \" \" + str(user_id) + \" \" + str(k) + ' ' + str(rec)\n",
    "\n",
    "\n",
    "# def predict(user_id, k):\n",
    "#     loaded_xgb = pickle.load(open(\"models/best_xg_clf_2.pickle.dat\", \"rb\"))\n",
    "#     df_test = pd.read_pickle('data/df_train_val.pkl')\n",
    "#     df_user = df_test[df_test['user_id'] == user_id]\n",
    "#     x_test = df_user.drop(columns=['user_id', 'product_id', 'rating', 'rating_sum', 'rating_norm', 'product_and_rating', 0, 'reordered']).values\n",
    "#     y_test_pred = loaded_xgb.predict_proba(x_test)[:, 1]\n",
    "#     df_test_user = df_user[['user_id', 'product_id']]\n",
    "#     df_test_user['xgb_proba'] = y_test_pred\n",
    "#     df_test_user = df_test_user.sort_values(by=['user_id', 'xgb_proba'], ascending=False)\n",
    "#     y_test_rec = df_test_user['product_id'][:k].values\n",
    "#     return y_test_rec"
   ]
  },
  {
   "cell_type": "code",
   "execution_count": 2,
   "metadata": {},
   "outputs": [
    {
     "name": "stderr",
     "output_type": "stream",
     "text": [
      "<ipython-input-1-3d1867b3bc54>:28: SettingWithCopyWarning: \n",
      "A value is trying to be set on a copy of a slice from a DataFrame.\n",
      "Try using .loc[row_indexer,col_indexer] = value instead\n",
      "\n",
      "See the caveats in the documentation: https://pandas.pydata.org/pandas-docs/stable/user_guide/indexing.html#returning-a-view-versus-a-copy\n",
      "  df_test_user['xgb_proba'] = y_test_pred\n"
     ]
    },
    {
     "data": {
      "text/plain": [
       "'Hello, World! 123 456 [27790 25653 30162 19508 35951 19887 37687 33081 26914 30720 22819 11759\\n  6324 12341 30450 46562 12078 35336 27845 25659 25170 18441 35561   116\\n 30731 41973 14114 17419 40742  4913 38768 39001]'"
      ]
     },
     "execution_count": 2,
     "metadata": {},
     "output_type": "execute_result"
    }
   ],
   "source": [
    "hello_world_input('user_id=123&k=10')"
   ]
  },
  {
   "cell_type": "code",
   "execution_count": null,
   "metadata": {},
   "outputs": [],
   "source": []
  },
  {
   "cell_type": "code",
   "execution_count": null,
   "metadata": {},
   "outputs": [],
   "source": [
    "import re\n",
    "import pandas as pd\n",
    "import numpy as np\n",
    "import pickle\n",
    "\n",
    "from flask import Flask\n",
    "from flask import request\n",
    "\n",
    "app = Flask(__name__)\n",
    "\n",
    "# @app.route('/predict', methods=['GET'])\n",
    "def main(data):\n",
    "#     data = request.query_string\n",
    "    data = data.split('&')\n",
    "    user_id = int(re.sub(r'user_id=', '', data[0]))\n",
    "    k = int(re.sub(r'k=', '', data[1]))\n",
    "    rec = predict(user_id, k)\n",
    "    return 'Hello, World!' + \" \" + str(user_id) + \" \" + str(k) + ' ' + str(rec)\n",
    "\n",
    "\n",
    "def predict(user_id, k):\n",
    "    pivot_table = pd.read_pickle('data/pivot_table.pkl')\n",
    "    df_val = pd.read_pickle('data/df_val.pkl')\n",
    "    loaded_svd = pickle.load(open(\"models/svd.pickle.dat\", \"rb\"))\n",
    "    y_pred = loaded_svd.predict(pivot_table[pivot_table['user_id'] == user_id], k=k)['svd']\n",
    "    return y_pred"
   ]
  },
  {
   "cell_type": "code",
   "execution_count": null,
   "metadata": {},
   "outputs": [],
   "source": []
  }
 ],
 "metadata": {
  "kernelspec": {
   "display_name": "Python 3",
   "language": "python",
   "name": "python3"
  },
  "language_info": {
   "codemirror_mode": {
    "name": "ipython",
    "version": 3
   },
   "file_extension": ".py",
   "mimetype": "text/x-python",
   "name": "python",
   "nbconvert_exporter": "python",
   "pygments_lexer": "ipython3",
   "version": "3.8.5"
  }
 },
 "nbformat": 4,
 "nbformat_minor": 4
}
