{
 "cells": [
  {
   "cell_type": "code",
   "execution_count": 1,
   "metadata": {
    "executionInfo": {
     "elapsed": 709,
     "status": "ok",
     "timestamp": 1618836673751,
     "user": {
      "displayName": "Elizaveta Masharina",
      "photoUrl": "https://lh3.googleusercontent.com/a-/AOh14GiFXsiQs01PDe5isGcONZrnOSWvMP957lyqKHlUcw=s64",
      "userId": "03302194834916015829"
     },
     "user_tz": -180
    },
    "id": "u--TlDNgtUnU"
   },
   "outputs": [],
   "source": [
    "import pandas as pd\n",
    "import numpy as np\n",
    "import pickle\n",
    "import math\n",
    "\n",
    "from scipy.sparse import csc_matrix, csr_matrix\n",
    "from sparsesvd import sparsesvd"
   ]
  },
  {
   "cell_type": "markdown",
   "metadata": {
    "id": "DOFRPn5FLdnA"
   },
   "source": [
    "## SVD recommender"
   ]
  },
  {
   "cell_type": "code",
   "execution_count": 2,
   "metadata": {
    "id": "OGHVZ7myLdnA"
   },
   "outputs": [],
   "source": [
    "USER_COL = 'user_id'\n",
    "ITEM_COL = 'product_id'\n",
    "DEFAULT_RATING_COL = 'rating'\n",
    "DEFAULT_K = 10\n",
    "DEFAULT_M = 90\n",
    "\n",
    "class SVDRecommender:\n",
    "\n",
    "    def __init__(self):\n",
    "        pass\n",
    "\n",
    "    def fit(self, train_df, \n",
    "            col_user=USER_COL, \n",
    "            col_item=ITEM_COL, \n",
    "            col_rating=DEFAULT_RATING_COL,\n",
    "            m=DEFAULT_M) -> None:\n",
    "        \"\"\"\n",
    "        perform train procedure for the recommendation algorithm\n",
    "        :param col_item: name for items column\n",
    "        :param col_user: name for user column\n",
    "        :param col_rating: name for rating column\n",
    "        :param train_df: pandas data frame with users, items and ratings columns\n",
    "        :param m: number of most significant features\n",
    "        :return: None\n",
    "        \"\"\"\n",
    "        self.train_df = train_df.copy()\n",
    "        self.col_user = col_user\n",
    "        self.col_item = col_item\n",
    "        self.col_rating = col_rating\n",
    "        \n",
    "        self.items = np.unique(self.train_df[self.col_item].values)\n",
    "        item_to_encodeditem = {x: i for i, x in enumerate(self.items)}\n",
    "        self.train_df[self.col_item] = self.train_df[self.col_item].map(item_to_encodeditem)\n",
    "        \n",
    "        self.users = np.unique(self.train_df[self.col_user].values)\n",
    "        self.user_to_encodeduser = {x: i for i, x in enumerate(self.users)}\n",
    "        self.train_df[self.col_user] = self.train_df[self.col_user].map(self.user_to_encodeduser)\n",
    "\n",
    "        sparse_matrix = csc_matrix((self.train_df[self.col_rating], \n",
    "                            (self.train_df[self.col_user].values, self.train_df[self.col_item].values)), \n",
    "                            shape = (len(self.users), len(self.items)))\n",
    "        \n",
    "        U, S, Vt = sparsesvd(sparse_matrix, m)\n",
    "        \n",
    "        S_diag = np.zeros((len(S), len(S)), dtype=np.float32)\n",
    "        \n",
    "        for i in range(len(S)):\n",
    "            S_diag[i, i] = math.sqrt(S[i])\n",
    "    \n",
    "        self.U = csr_matrix(np.transpose(U), dtype=np.float32)\n",
    "        \n",
    "        S_diag = csr_matrix(S_diag, dtype=np.float32)\n",
    "        Vt = csr_matrix(Vt, dtype=np.float32)\n",
    "        self.right_term = S_diag * Vt\n",
    "\n",
    "    def predict(self, test_df, col_user=USER_COL, k=DEFAULT_K) -> pd.DataFrame:\n",
    "        \"\"\"\n",
    "        predicts recommendations for test users\n",
    "        :param test_df: pandas data frame with users column\n",
    "        :param k: number of items to predict per user\n",
    "        :return: prediction pandas data frame with two columns first contains user's\n",
    "        and second contains list of recommended items\n",
    "        \"\"\"        \n",
    "        test_df_new = test_df.copy()\n",
    "        estimatedRatings = []\n",
    "        \n",
    "        encodeditem_to_item = {i: x for i, x in enumerate(self.items)}\n",
    "        \n",
    "        test_df_new[col_user] = test_df_new[col_user].map(self.user_to_encodeduser)\n",
    "        user_list = test_df_new[col_user].values\n",
    "        \n",
    "        for i in user_list:\n",
    "            prod = self.U[i, :] * self.right_term\n",
    "            prod_dense = prod.todense()\n",
    "            prod_dense_top = (-prod_dense).argsort()[0, :k].tolist()[0]\n",
    "            prod_dense_top_encoded = [encodeditem_to_item.get(prod_dense_top[j]) for j in range(k)]\n",
    "            estimatedRatings.append(prod_dense_top_encoded)\n",
    "        \n",
    "        encodeduser_to_user = {i: x for i, x in enumerate(self.users)}\n",
    "        test_df_new[col_user] = test_df_new[col_user].map(encodeduser_to_user)\n",
    "        \n",
    "        test_df_new['svd'] = estimatedRatings\n",
    "        return test_df_new"
   ]
  },
  {
   "cell_type": "code",
   "execution_count": 3,
   "metadata": {},
   "outputs": [
    {
     "data": {
      "text/html": [
       "<div>\n",
       "<style scoped>\n",
       "    .dataframe tbody tr th:only-of-type {\n",
       "        vertical-align: middle;\n",
       "    }\n",
       "\n",
       "    .dataframe tbody tr th {\n",
       "        vertical-align: top;\n",
       "    }\n",
       "\n",
       "    .dataframe thead th {\n",
       "        text-align: right;\n",
       "    }\n",
       "</style>\n",
       "<table border=\"1\" class=\"dataframe\">\n",
       "  <thead>\n",
       "    <tr style=\"text-align: right;\">\n",
       "      <th></th>\n",
       "      <th>user_id</th>\n",
       "      <th>val_products</th>\n",
       "      <th>test_products</th>\n",
       "    </tr>\n",
       "  </thead>\n",
       "  <tbody>\n",
       "    <tr>\n",
       "      <th>0</th>\n",
       "      <td>1</td>\n",
       "      <td>[196, 46149, 39657, 38928, 25133, 10258, 35951...</td>\n",
       "      <td>[196, 25133, 38928, 26405, 39657, 10258, 13032...</td>\n",
       "    </tr>\n",
       "    <tr>\n",
       "      <th>1</th>\n",
       "      <td>2</td>\n",
       "      <td>[24852, 16589, 1559, 19156, 18523, 22825, 2741...</td>\n",
       "      <td>[22963, 7963, 16589, 32792, 41787, 22825, 1364...</td>\n",
       "    </tr>\n",
       "    <tr>\n",
       "      <th>2</th>\n",
       "      <td>3</td>\n",
       "      <td>[39190, 47766, 21903, 43961, 17668]</td>\n",
       "      <td>[39190, 18599, 23650, 21903, 47766, 24810]</td>\n",
       "    </tr>\n",
       "  </tbody>\n",
       "</table>\n",
       "</div>"
      ],
      "text/plain": [
       "   user_id                                       val_products  \\\n",
       "0        1  [196, 46149, 39657, 38928, 25133, 10258, 35951...   \n",
       "1        2  [24852, 16589, 1559, 19156, 18523, 22825, 2741...   \n",
       "2        3                [39190, 47766, 21903, 43961, 17668]   \n",
       "\n",
       "                                       test_products  \n",
       "0  [196, 25133, 38928, 26405, 39657, 10258, 13032...  \n",
       "1  [22963, 7963, 16589, 32792, 41787, 22825, 1364...  \n",
       "2         [39190, 18599, 23650, 21903, 47766, 24810]  "
      ]
     },
     "execution_count": 3,
     "metadata": {},
     "output_type": "execute_result"
    }
   ],
   "source": [
    "pivot_table = pd.read_pickle('data/pivot_table.pkl')\n",
    "pivot_table.head(3)"
   ]
  },
  {
   "cell_type": "code",
   "execution_count": 4,
   "metadata": {
    "id": "BI-GsaW3LdnB"
   },
   "outputs": [
    {
     "data": {
      "text/html": [
       "<div>\n",
       "<style scoped>\n",
       "    .dataframe tbody tr th:only-of-type {\n",
       "        vertical-align: middle;\n",
       "    }\n",
       "\n",
       "    .dataframe tbody tr th {\n",
       "        vertical-align: top;\n",
       "    }\n",
       "\n",
       "    .dataframe thead th {\n",
       "        text-align: right;\n",
       "    }\n",
       "</style>\n",
       "<table border=\"1\" class=\"dataframe\">\n",
       "  <thead>\n",
       "    <tr style=\"text-align: right;\">\n",
       "      <th></th>\n",
       "      <th>user_id</th>\n",
       "      <th>product_id</th>\n",
       "      <th>rating</th>\n",
       "      <th>rating_sum</th>\n",
       "      <th>rating_norm</th>\n",
       "      <th>reordered</th>\n",
       "    </tr>\n",
       "  </thead>\n",
       "  <tbody>\n",
       "    <tr>\n",
       "      <th>0</th>\n",
       "      <td>1</td>\n",
       "      <td>196</td>\n",
       "      <td>10</td>\n",
       "      <td>59</td>\n",
       "      <td>0.169492</td>\n",
       "      <td>1</td>\n",
       "    </tr>\n",
       "    <tr>\n",
       "      <th>1</th>\n",
       "      <td>1</td>\n",
       "      <td>10258</td>\n",
       "      <td>9</td>\n",
       "      <td>59</td>\n",
       "      <td>0.152542</td>\n",
       "      <td>1</td>\n",
       "    </tr>\n",
       "    <tr>\n",
       "      <th>2</th>\n",
       "      <td>1</td>\n",
       "      <td>10326</td>\n",
       "      <td>1</td>\n",
       "      <td>59</td>\n",
       "      <td>0.016949</td>\n",
       "      <td>0</td>\n",
       "    </tr>\n",
       "  </tbody>\n",
       "</table>\n",
       "</div>"
      ],
      "text/plain": [
       "   user_id  product_id  rating  rating_sum  rating_norm  reordered\n",
       "0        1         196      10          59     0.169492          1\n",
       "1        1       10258       9          59     0.152542          1\n",
       "2        1       10326       1          59     0.016949          0"
      ]
     },
     "execution_count": 4,
     "metadata": {},
     "output_type": "execute_result"
    }
   ],
   "source": [
    "df_test = pd.read_pickle('data/df_test.pkl')\n",
    "df_test.head(3)"
   ]
  },
  {
   "cell_type": "code",
   "execution_count": 5,
   "metadata": {
    "id": "g80vd_CkLdnB"
   },
   "outputs": [],
   "source": [
    "svd = SVDRecommender()\n",
    "svd.fit(df_test)"
   ]
  },
  {
   "cell_type": "code",
   "execution_count": 6,
   "metadata": {},
   "outputs": [
    {
     "data": {
      "text/html": [
       "<div>\n",
       "<style scoped>\n",
       "    .dataframe tbody tr th:only-of-type {\n",
       "        vertical-align: middle;\n",
       "    }\n",
       "\n",
       "    .dataframe tbody tr th {\n",
       "        vertical-align: top;\n",
       "    }\n",
       "\n",
       "    .dataframe thead th {\n",
       "        text-align: right;\n",
       "    }\n",
       "</style>\n",
       "<table border=\"1\" class=\"dataframe\">\n",
       "  <thead>\n",
       "    <tr style=\"text-align: right;\">\n",
       "      <th></th>\n",
       "      <th>user_id</th>\n",
       "      <th>val_products</th>\n",
       "      <th>test_products</th>\n",
       "      <th>svd</th>\n",
       "    </tr>\n",
       "  </thead>\n",
       "  <tbody>\n",
       "    <tr>\n",
       "      <th>0</th>\n",
       "      <td>1</td>\n",
       "      <td>[196, 46149, 39657, 38928, 25133, 10258, 35951...</td>\n",
       "      <td>[196, 25133, 38928, 26405, 39657, 10258, 13032...</td>\n",
       "      <td>[196, 46149, 43154, 49235, 38928, 13176, 35951...</td>\n",
       "    </tr>\n",
       "  </tbody>\n",
       "</table>\n",
       "</div>"
      ],
      "text/plain": [
       "   user_id                                       val_products  \\\n",
       "0        1  [196, 46149, 39657, 38928, 25133, 10258, 35951...   \n",
       "\n",
       "                                       test_products  \\\n",
       "0  [196, 25133, 38928, 26405, 39657, 10258, 13032...   \n",
       "\n",
       "                                                 svd  \n",
       "0  [196, 46149, 43154, 49235, 38928, 13176, 35951...  "
      ]
     },
     "execution_count": 6,
     "metadata": {},
     "output_type": "execute_result"
    }
   ],
   "source": [
    "svd.predict(pivot_table[:1])"
   ]
  },
  {
   "cell_type": "code",
   "execution_count": null,
   "metadata": {},
   "outputs": [],
   "source": []
  },
  {
   "cell_type": "code",
   "execution_count": 7,
   "metadata": {},
   "outputs": [],
   "source": [
    "pickle.dump(svd, open(\"models/svd.pickle.dat\", \"wb\"))"
   ]
  },
  {
   "cell_type": "code",
   "execution_count": 8,
   "metadata": {},
   "outputs": [],
   "source": [
    "loaded_svd = pickle.load(open(\"models/svd.pickle.dat\", \"rb\"))"
   ]
  },
  {
   "cell_type": "code",
   "execution_count": 18,
   "metadata": {},
   "outputs": [
    {
     "data": {
      "text/plain": [
       "0    [196, 46149, 43154, 49235, 38928, 13176, 35951...\n",
       "Name: svd, dtype: object"
      ]
     },
     "execution_count": 18,
     "metadata": {},
     "output_type": "execute_result"
    }
   ],
   "source": [
    "loaded_svd.predict(pivot_table[:1], k=10)['svd']"
   ]
  },
  {
   "cell_type": "code",
   "execution_count": null,
   "metadata": {},
   "outputs": [],
   "source": []
  },
  {
   "cell_type": "code",
   "execution_count": 21,
   "metadata": {},
   "outputs": [
    {
     "data": {
      "text/plain": [
       "[196, 46149, 43154, 49235, 38928, 13176, 35951, 31651, 46061, 41276]"
      ]
     },
     "execution_count": 21,
     "metadata": {},
     "output_type": "execute_result"
    }
   ],
   "source": [
    "y = loaded_svd.predict(pivot_table[:1], k=10)['svd'][0]\n",
    "y"
   ]
  },
  {
   "cell_type": "code",
   "execution_count": 22,
   "metadata": {},
   "outputs": [
    {
     "data": {
      "text/plain": [
       "list"
      ]
     },
     "execution_count": 22,
     "metadata": {},
     "output_type": "execute_result"
    }
   ],
   "source": [
    "type(y)"
   ]
  },
  {
   "cell_type": "code",
   "execution_count": 31,
   "metadata": {},
   "outputs": [
    {
     "data": {
      "text/plain": [
       "[196, 46149, 43154, 49235, 38928, 13176, 35951, 31651, 46061, 41276]"
      ]
     },
     "execution_count": 31,
     "metadata": {},
     "output_type": "execute_result"
    }
   ],
   "source": [
    "[int(i) for i in y]"
   ]
  },
  {
   "cell_type": "code",
   "execution_count": 16,
   "metadata": {},
   "outputs": [],
   "source": [
    "import json"
   ]
  },
  {
   "cell_type": "code",
   "execution_count": 25,
   "metadata": {},
   "outputs": [],
   "source": [
    "data_set = {\"user_id\": [1], \"items\": [y]}"
   ]
  },
  {
   "cell_type": "code",
   "execution_count": 32,
   "metadata": {},
   "outputs": [
    {
     "name": "stdout",
     "output_type": "stream",
     "text": [
      "{'user_id': 1, 'items': [196, 46149, 43154, 49235, 38928, 13176, 35951, 31651, 46061, 41276]}\n",
      "{\"user_id\": 1, \"items\": [196, 46149, 43154, 49235, 38928, 13176, 35951, 31651, 46061, 41276]}\n"
     ]
    }
   ],
   "source": [
    "data_set = {\"user_id\": int(1), \"items\": [int(i) for i in y]}\n",
    "print(data_set)\n",
    "\n",
    "json_dump = json.dumps(data_set)\n",
    "print(json_dump)"
   ]
  },
  {
   "cell_type": "code",
   "execution_count": null,
   "metadata": {},
   "outputs": [],
   "source": []
  }
 ],
 "metadata": {
  "colab": {
   "collapsed_sections": [
    "OCMm0cDltUnj",
    "3k5tYfs_tUnr"
   ],
   "name": "Task_2_meta_classifier.ipynb",
   "provenance": [],
   "toc_visible": true
  },
  "kernelspec": {
   "display_name": "Python 3",
   "language": "python",
   "name": "python3"
  },
  "language_info": {
   "codemirror_mode": {
    "name": "ipython",
    "version": 3
   },
   "file_extension": ".py",
   "mimetype": "text/x-python",
   "name": "python",
   "nbconvert_exporter": "python",
   "pygments_lexer": "ipython3",
   "version": "3.8.5"
  }
 },
 "nbformat": 4,
 "nbformat_minor": 1
}
