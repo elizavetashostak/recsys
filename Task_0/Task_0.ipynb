{
 "cells": [
  {
   "cell_type": "markdown",
   "metadata": {
    "id": "_6-8Th1tRf97"
   },
   "source": [
    "**Student:** Masharina Elizaveta"
   ]
  },
  {
   "cell_type": "markdown",
   "metadata": {
    "id": "tyT35DQrRf-H"
   },
   "source": [
    "#### Task 0 (Metrics)\n",
    "Using materials from the topic, implement the following metrics yourself:\n",
    "- RMSE\n",
    "- HitRate@k\n",
    "- MAP@k\n",
    "- NDCG@k  \n",
    "  \n",
    "Evaluation criteria:\n",
    "- RMSE – 1  \n",
    "    - The metric is implemented correctly\n",
    "- HitRate@k – 2\n",
    "    - The metric is implemented correctly\n",
    "- MAP@k – 3\n",
    "    - The metric is implemented correctly\n",
    "- NDCG@k – 4\n",
    "    - The metric is implemented correctly\n",
    "\n",
    "Total - 10"
   ]
  },
  {
   "cell_type": "code",
   "execution_count": null,
   "metadata": {
    "id": "QntS6vdpRf-I"
   },
   "outputs": [],
   "source": [
    "import math\n",
    "import numpy as np\n",
    "# import itertools"
   ]
  },
  {
   "cell_type": "markdown",
   "metadata": {
    "id": "WSGR77xXRf-J"
   },
   "source": [
    "#### RMSE"
   ]
  },
  {
   "cell_type": "code",
   "execution_count": null,
   "metadata": {
    "id": "FyqO_j6aRf-K"
   },
   "outputs": [],
   "source": [
    "Y = [7, 10, 12, 10, 10, 8, 7, 8, 11, 13, 10, 8]\n",
    "Y_hat = [6, 10, 14, 16, 7, 5, 5, 13, 12, 13, 8, 5]"
   ]
  },
  {
   "cell_type": "code",
   "execution_count": null,
   "metadata": {
    "colab": {
     "base_uri": "https://localhost:8080/"
    },
    "executionInfo": {
     "elapsed": 643,
     "status": "ok",
     "timestamp": 1611219815768,
     "user": {
      "displayName": "Elizaveta Masharina",
      "photoUrl": "https://lh3.googleusercontent.com/a-/AOh14GiFXsiQs01PDe5isGcONZrnOSWvMP957lyqKHlUcw=s64",
      "userId": "03302194834916015829"
     },
     "user_tz": -180
    },
    "id": "gU3SnATIRf-K",
    "outputId": "5673d003-ba12-44bb-cb1f-9d9727852ba5"
   },
   "outputs": [
    {
     "data": {
      "text/plain": [
       "2.9154759474226504"
      ]
     },
     "execution_count": 4,
     "metadata": {
      "tags": []
     },
     "output_type": "execute_result"
    }
   ],
   "source": [
    "def RMSE(y, y_hat):\n",
    "    \"\"\"\n",
    "    y : true user ratings\n",
    "    y_hat : predicted user ratings\n",
    "    \"\"\"\n",
    "    return np.sqrt(sum([(y[i] - y_hat[i]) ** 2 for i in range(len(y))]) / len(y))\n",
    "\n",
    "RMSE(Y, Y_hat)"
   ]
  },
  {
   "cell_type": "markdown",
   "metadata": {
    "id": "-778NwLmRf-M"
   },
   "source": [
    "#### HitRate@k"
   ]
  },
  {
   "cell_type": "code",
   "execution_count": null,
   "metadata": {
    "id": "89wtd-wHRf-N"
   },
   "outputs": [],
   "source": [
    "ground_truth_list = [\n",
    "    [1, 2, 3, 10, 6, 9],\n",
    "    [4, 5, 6, 1, 12, 7, 8],\n",
    "    [7, 8, 9, 2, 22, 76]\n",
    "]\n",
    "\n",
    "recommendation_list = [\n",
    "    [13, 5, 7, 2],\n",
    "    [4, 2, 6, 8],\n",
    "    [1, 4, 3, 7]\n",
    "]"
   ]
  },
  {
   "cell_type": "code",
   "execution_count": null,
   "metadata": {
    "id": "tYLhijhBRf-N"
   },
   "outputs": [],
   "source": [
    "def hit_rate_one(ground_truth, recommendation, k):\n",
    "    if len(list(set(ground_truth) & set(recommendation[:k]))) != 0:\n",
    "        return 1\n",
    "    return 0\n",
    "\n",
    "# hit_rate_one(usersPreferences[2], recommendation[2], 3)"
   ]
  },
  {
   "cell_type": "code",
   "execution_count": null,
   "metadata": {
    "colab": {
     "base_uri": "https://localhost:8080/"
    },
    "executionInfo": {
     "elapsed": 603,
     "status": "ok",
     "timestamp": 1611219824839,
     "user": {
      "displayName": "Elizaveta Masharina",
      "photoUrl": "https://lh3.googleusercontent.com/a-/AOh14GiFXsiQs01PDe5isGcONZrnOSWvMP957lyqKHlUcw=s64",
      "userId": "03302194834916015829"
     },
     "user_tz": -180
    },
    "id": "fuBQo7aARf-P",
    "outputId": "e8c57782-66ae-40fb-d6e7-071c62e71b74"
   },
   "outputs": [
    {
     "data": {
      "text/plain": [
       "0.3333333333333333"
      ]
     },
     "execution_count": 7,
     "metadata": {
      "tags": []
     },
     "output_type": "execute_result"
    }
   ],
   "source": [
    "def hit_rate(ground_truth, recommendation, k):\n",
    "    return sum([hit_rate_one(ground_truth[i], recommendation[i], k) for i in range(len(recommendation))]) / len(recommendation)\n",
    "\n",
    "hit_rate(ground_truth_list, recommendation_list, 3)"
   ]
  },
  {
   "cell_type": "markdown",
   "metadata": {
    "id": "TIXKUzRIRf-P"
   },
   "source": [
    "#### MAP@k"
   ]
  },
  {
   "cell_type": "code",
   "execution_count": null,
   "metadata": {
    "id": "eIJHE-4ftrQH"
   },
   "outputs": [],
   "source": [
    "# ground_truth_list = [\n",
    "#     [1, 2, 3, 10, 6, 9],\n",
    "#     [4, 5, 6, 1, 12, 7, 8],\n",
    "#     [7, 8, 9, 2, 22, 76]\n",
    "# ]\n",
    "\n",
    "# recommendation_list = [\n",
    "#     [13, 5, 7, 2],\n",
    "#     [4, 2, 6, 8],\n",
    "#     [1, 4, 3, 7]\n",
    "# ]\n",
    "\n",
    "ground_truth_list = [\n",
    "[1, 2, 3, 10, 6, 9],\n",
    "[4, 5, 6, 1, 12, 7, 8],\n",
    "[7, 8, 9, 2, 22, 76]\n",
    "]\n",
    "recommendation_list = [\n",
    "[13, 5, 7, 2],\n",
    "[4, 2, 6],\n",
    "[1, 4, 3, 7]\n",
    "]"
   ]
  },
  {
   "cell_type": "code",
   "execution_count": null,
   "metadata": {
    "id": "r7iwbrF8o5zl"
   },
   "outputs": [],
   "source": [
    "def get_binary_relevance(ground_truth, recomendation):\n",
    "    relevance = []\n",
    "    for i in range(len(recomendation)):\n",
    "        if recomendation[i] in ground_truth:\n",
    "            relevance.append(1)\n",
    "        else:\n",
    "            relevance.append(0)\n",
    "    return relevance"
   ]
  },
  {
   "cell_type": "code",
   "execution_count": null,
   "metadata": {
    "id": "QC4WyuHuRf-Q"
   },
   "outputs": [],
   "source": [
    "def precision(recommendation, k):\n",
    "    return sum(recommendation[:k]) / k\n",
    "\n",
    "# precision(3, rel[0])"
   ]
  },
  {
   "cell_type": "code",
   "execution_count": null,
   "metadata": {
    "id": "PkvHbaAERf-R"
   },
   "outputs": [],
   "source": [
    "def AP(ground_truth, recommendation, k):\n",
    "    if k > len(recommendation):\n",
    "        k = len(recommendation)\n",
    "    relevance = get_binary_relevance(ground_truth, recommendation)\n",
    "    if sum(relevance[:k]) == 0:\n",
    "        return 0\n",
    "    return sum([relevance[i] * precision(relevance, i + 1) for i in range(k)]) / sum(relevance[:k])\n",
    "\n",
    "# AP(5, rel[0])"
   ]
  },
  {
   "cell_type": "code",
   "execution_count": null,
   "metadata": {
    "id": "AxFMiRMrRf-S"
   },
   "outputs": [],
   "source": [
    "def MAP(ground_truth, recommendation, k):\n",
    "    return sum([AP(ground_truth[i], recommendation[i], k) for i in range(len(recommendation))]) / len(recommendation)"
   ]
  },
  {
   "cell_type": "code",
   "execution_count": null,
   "metadata": {
    "colab": {
     "base_uri": "https://localhost:8080/"
    },
    "executionInfo": {
     "elapsed": 1135,
     "status": "ok",
     "timestamp": 1611583855317,
     "user": {
      "displayName": "Elizaveta Masharina",
      "photoUrl": "https://lh3.googleusercontent.com/a-/AOh14GiFXsiQs01PDe5isGcONZrnOSWvMP957lyqKHlUcw=s64",
      "userId": "03302194834916015829"
     },
     "user_tz": -180
    },
    "id": "Mb4Ai0Bm4fI1",
    "outputId": "e7a347e4-e34a-4993-8fe3-ee847af03522"
   },
   "outputs": [
    {
     "data": {
      "text/plain": [
       "0.4444444444444444"
      ]
     },
     "execution_count": 39,
     "metadata": {
      "tags": []
     },
     "output_type": "execute_result"
    }
   ],
   "source": [
    "MAP(ground_truth_list, recommendation_list, 4)"
   ]
  },
  {
   "cell_type": "code",
   "execution_count": null,
   "metadata": {
    "colab": {
     "base_uri": "https://localhost:8080/"
    },
    "executionInfo": {
     "elapsed": 938,
     "status": "ok",
     "timestamp": 1611583855319,
     "user": {
      "displayName": "Elizaveta Masharina",
      "photoUrl": "https://lh3.googleusercontent.com/a-/AOh14GiFXsiQs01PDe5isGcONZrnOSWvMP957lyqKHlUcw=s64",
      "userId": "03302194834916015829"
     },
     "user_tz": -180
    },
    "id": "UXlG1_pV4f0X",
    "outputId": "fc25a103-4eea-4915-d031-c5f6bdae9fd9"
   },
   "outputs": [
    {
     "data": {
      "text/plain": [
       "0.4444444444444444"
      ]
     },
     "execution_count": 40,
     "metadata": {
      "tags": []
     },
     "output_type": "execute_result"
    }
   ],
   "source": [
    "MAP(ground_truth_list, recommendation_list, 900)"
   ]
  },
  {
   "cell_type": "markdown",
   "metadata": {
    "id": "vFyed7fTRf-S"
   },
   "source": [
    "#### NDCG@k"
   ]
  },
  {
   "cell_type": "code",
   "execution_count": null,
   "metadata": {
    "id": "mJHM7DJUGI35"
   },
   "outputs": [],
   "source": [
    "ground_truth_list = [\n",
    "    [1, 2, 3, 10],\n",
    "    [4, 5, 6, 1],\n",
    "    [7, 8, 9, 2]\n",
    "]\n",
    "\n",
    "recommendation_list = [\n",
    "    [13, 5, 3, 2],\n",
    "    [4, 2, 6, 8],\n",
    "    [1, 4, 3, 7]\n",
    "]"
   ]
  },
  {
   "cell_type": "code",
   "execution_count": null,
   "metadata": {
    "id": "5_fOe8NsRf-T"
   },
   "outputs": [],
   "source": [
    "def DCG_one(ground_truth, recommendation, k):\n",
    "    if k > len(recommendation):\n",
    "        k = len(recommendation)\n",
    "    relevance = get_binary_relevance(ground_truth, recommendation)\n",
    "    return sum([(2 ** relevance[i] - 1) / (math.log2(i + 2)) for i in range(k)])\n",
    "\n",
    "# DCG(6, rel2[0])"
   ]
  },
  {
   "cell_type": "code",
   "execution_count": null,
   "metadata": {
    "id": "r_w42ThWLOF5"
   },
   "outputs": [],
   "source": [
    "def best_DCG_one(ground_truth, recommendation, k):\n",
    "    if k > len(ground_truth):\n",
    "        relevance = [1] * len(ground_truth) + [0] * (k - len(ground_truth))\n",
    "    else:\n",
    "        relevance = [1] * k\n",
    "    return sum([(2 ** relevance[i] - 1) / (math.log2(i + 2)) for i in range(k)])\n",
    "    # relevance = get_binary_relevance(ground_truth, recommendation)\n",
    "    # relevance_sort = np.sort(relevance)[::-1]\n",
    "    # return sum([(2 ** relevance_sort[i] - 1) / (math.log2(i + 2)) for i in range(k)])"
   ]
  },
  {
   "cell_type": "code",
   "execution_count": null,
   "metadata": {
    "id": "aoKc63-aRf-U"
   },
   "outputs": [],
   "source": [
    "def NDCG_one(ground_truth, recommendation, k):\n",
    "    # return sum([DCG(ground_truth[i], recommendation[i], k) / best_DCG(ground_truth[i], recommendation[i], k) for i in range(len(recommendation))]) / len(recommendation)\n",
    "    return DCG_one(ground_truth, recommendation, k) / best_DCG_one(ground_truth, recommendation, k)"
   ]
  },
  {
   "cell_type": "code",
   "execution_count": null,
   "metadata": {
    "colab": {
     "base_uri": "https://localhost:8080/"
    },
    "executionInfo": {
     "elapsed": 586,
     "status": "ok",
     "timestamp": 1611584955762,
     "user": {
      "displayName": "Elizaveta Masharina",
      "photoUrl": "https://lh3.googleusercontent.com/a-/AOh14GiFXsiQs01PDe5isGcONZrnOSWvMP957lyqKHlUcw=s64",
      "userId": "03302194834916015829"
     },
     "user_tz": -180
    },
    "id": "-4VQhGe3W3Dn",
    "outputId": "4fa57380-01f0-4140-e8ac-d166c8500ee5"
   },
   "outputs": [
    {
     "data": {
      "text/plain": [
       "0.3723383908421461"
      ]
     },
     "execution_count": 10,
     "metadata": {
      "tags": []
     },
     "output_type": "execute_result"
    }
   ],
   "source": [
    "def NDCG(ground_truth, recommendation, k):\n",
    "    # return sum([DCG(ground_truth[i], recommendation[i], k) / best_DCG(ground_truth[i], recommendation[i], k) for i in range(len(recommendation))]) / len(recommendation)\n",
    "    return sum([NDCG_one(ground_truth[i], recommendation[i], k) for i in range(len(recommendation))]) / len(recommendation)\n",
    "    \n",
    "NDCG(ground_truth_list, recommendation_list, 4)"
   ]
  },
  {
   "cell_type": "code",
   "execution_count": null,
   "metadata": {
    "id": "enqbP5bM82Pl"
   },
   "outputs": [],
   "source": []
  }
 ],
 "metadata": {
  "colab": {
   "collapsed_sections": [],
   "name": "Task 0.ipynb",
   "provenance": []
  },
  "kernelspec": {
   "display_name": "Python 3",
   "language": "python",
   "name": "python3"
  },
  "language_info": {
   "codemirror_mode": {
    "name": "ipython",
    "version": 3
   },
   "file_extension": ".py",
   "mimetype": "text/x-python",
   "name": "python",
   "nbconvert_exporter": "python",
   "pygments_lexer": "ipython3",
   "version": "3.6.13"
  }
 },
 "nbformat": 4,
 "nbformat_minor": 4
}
