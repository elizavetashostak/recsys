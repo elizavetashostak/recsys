{
 "cells": [
  {
   "cell_type": "markdown",
   "metadata": {
    "id": "trNbCVEF3YC0"
   },
   "source": [
    "**Student:** Masharina Elizaveta"
   ]
  },
  {
   "cell_type": "markdown",
   "metadata": {
    "id": "anGI5KMG3Req"
   },
   "source": [
    "#### Task 1\n",
    "\n",
    "Dataset - Instacart https://www.kaggle.com/c/instacart-market-basket-analysis/data (use this data for all tasks below)\n",
    "\n",
    "EDA (2 points):\n",
    "- Investigation of tables and mapping between them\n",
    "- Distribution of users/ products/ orders\n",
    "- Popularity of products/categories\n",
    "- Existence of dummy products\n",
    "\n",
    "Metrics (1 point): \n",
    "- MAP@k\n",
    "- HitRate@k\n",
    "- NDCG@k\n",
    "\n",
    "Models (7 points):\n",
    "- Most popular recommender (1 point)\n",
    "- SVD based recommender (3 points)\n",
    "- Neural Network recommender which has 2 embedding layers for user and item and calculates the score as the dot product. Fully-connected layers can be incorporated as well to improve the model's expressiveness. (3 points)\n",
    "\n",
    "Optional models (6 points): \n",
    "- Nearest Neighbor recommender utilizing SVD embeddings and annoy library for fast neighbors search (2 points). \n",
    "- ALS recommender from the implicit library (2 points).\n",
    "- Gradient boosting recommender utilizing SVD embedding (2 points).\n",
    "\n",
    "Total - 10 points + 6 extra points"
   ]
  },
  {
   "cell_type": "markdown",
   "metadata": {
    "id": "Vseex-LkeZXH"
   },
   "source": [
    "## Imports"
   ]
  },
  {
   "cell_type": "code",
   "execution_count": null,
   "metadata": {
    "id": "bAdqcWTe4LSm"
   },
   "outputs": [],
   "source": [
    "import pandas as pd\n",
    "import numpy as np\n",
    "import matplotlib.pyplot as plt\n",
    "import seaborn as sns\n",
    "import math\n",
    "import tensorflow as tf\n",
    "import os\n",
    "import implicit\n",
    "import random\n",
    "import annoy\n",
    "\n",
    "from scipy.sparse import csc_matrix, csr_matrix\n",
    "from sparsesvd import sparsesvd\n",
    "from zipfile import ZipFile\n",
    "from tensorflow import keras\n",
    "from tensorflow.keras import layers\n",
    "from pathlib import Path\n",
    "from annoy import AnnoyIndex"
   ]
  },
  {
   "cell_type": "markdown",
   "metadata": {
    "id": "qErr0o0q3QHf"
   },
   "source": [
    "## Utils"
   ]
  },
  {
   "cell_type": "code",
   "execution_count": null,
   "metadata": {
    "id": "iPU8wqL4CFec"
   },
   "outputs": [],
   "source": [
    "def hit_rate_one(ground_truth, recommendation, k):\n",
    "    if len(list(set(ground_truth) & set(recommendation[:k]))) != 0:\n",
    "        return 1\n",
    "    return 0"
   ]
  },
  {
   "cell_type": "code",
   "execution_count": null,
   "metadata": {
    "id": "CS_peEzSCFlr"
   },
   "outputs": [],
   "source": [
    "def hit_rate(ground_truth, recommendation, k):\n",
    "    return sum([hit_rate_one(ground_truth[i], recommendation[i], k) for i in range(len(recommendation))]) / len(recommendation)"
   ]
  },
  {
   "cell_type": "code",
   "execution_count": null,
   "metadata": {
    "id": "5PogWkWVCSbl"
   },
   "outputs": [],
   "source": [
    "def get_binary_relevance(ground_truth, recomendation):\n",
    "    relevance = []\n",
    "    for i in range(len(recomendation)):\n",
    "        if recomendation[i] in ground_truth:\n",
    "            relevance.append(1)\n",
    "        else:\n",
    "            relevance.append(0)\n",
    "    return relevance"
   ]
  },
  {
   "cell_type": "code",
   "execution_count": null,
   "metadata": {
    "id": "YriZssotCSoP"
   },
   "outputs": [],
   "source": [
    "def precision(recommendation, k):\n",
    "    return sum(recommendation[:k]) / k"
   ]
  },
  {
   "cell_type": "code",
   "execution_count": null,
   "metadata": {
    "id": "Mig43FFtCXeS"
   },
   "outputs": [],
   "source": [
    "def AP(ground_truth, recommendation, k):\n",
    "    if k > len(recommendation):\n",
    "        k = len(recommendation)\n",
    "    relevance = get_binary_relevance(ground_truth, recommendation)\n",
    "    if sum(relevance[:k]) == 0:\n",
    "        return 0\n",
    "    return sum([relevance[i] * precision(relevance, i + 1) for i in range(k)]) / sum(relevance[:k])"
   ]
  },
  {
   "cell_type": "code",
   "execution_count": null,
   "metadata": {
    "id": "Lrvjlr-kCXqI"
   },
   "outputs": [],
   "source": [
    "def MAP(ground_truth, recommendation, k):\n",
    "    return sum([AP(ground_truth[i], recommendation[i], k) for i in range(len(recommendation))]) / len(recommendation)"
   ]
  },
  {
   "cell_type": "code",
   "execution_count": null,
   "metadata": {
    "id": "bX5cRjGXCcot"
   },
   "outputs": [],
   "source": [
    "def DCG_one(ground_truth, recommendation, k):\n",
    "    if k > len(recommendation):\n",
    "        k = len(recommendation)\n",
    "    relevance = get_binary_relevance(ground_truth, recommendation)\n",
    "    return sum([(2 ** relevance[i] - 1) / (math.log2(i + 2)) for i in range(k)])"
   ]
  },
  {
   "cell_type": "code",
   "execution_count": null,
   "metadata": {
    "id": "PwG10zSXCc71"
   },
   "outputs": [],
   "source": [
    "def best_DCG_one(ground_truth, recommendation, k):\n",
    "    if k > len(ground_truth):\n",
    "        relevance = [1] * len(ground_truth) + [0] * (k - len(ground_truth))\n",
    "    else:\n",
    "        relevance = [1] * k\n",
    "    return sum([(2 ** relevance[i] - 1) / (math.log2(i + 2)) for i in range(k)])"
   ]
  },
  {
   "cell_type": "code",
   "execution_count": null,
   "metadata": {
    "id": "tO0ZpgitCiiY"
   },
   "outputs": [],
   "source": [
    "def NDCG_one(ground_truth, recommendation, k):\n",
    "    return DCG_one(ground_truth, recommendation, k) / best_DCG_one(ground_truth, recommendation, k)"
   ]
  },
  {
   "cell_type": "code",
   "execution_count": null,
   "metadata": {
    "id": "MlLIOqeuCisT"
   },
   "outputs": [],
   "source": [
    "def NDCG(ground_truth, recommendation, k):\n",
    "    return sum([NDCG_one(ground_truth[i], recommendation[i], k) for i in range(len(recommendation))]) / len(recommendation)"
   ]
  },
  {
   "cell_type": "code",
   "execution_count": null,
   "metadata": {
    "id": "VSXyjtRf3PWL"
   },
   "outputs": [],
   "source": [
    "def print_metrics(ground_truth, recommendation, k):\n",
    "    df = pd.DataFrame({'metric': ['HitRate@k', 'MAP@k', 'NDCG@k'], \n",
    "                       'value': [hit_rate(ground_truth, recommendation, k),\n",
    "                                 MAP(ground_truth, recommendation, k),\n",
    "                                 NDCG(ground_truth, recommendation, k)]})\n",
    "    print(df)"
   ]
  },
  {
   "cell_type": "markdown",
   "metadata": {
    "id": "xrwDJ1kN3ToX"
   },
   "source": [
    "## Read data"
   ]
  },
  {
   "cell_type": "code",
   "execution_count": null,
   "metadata": {
    "id": "jImi7-xF5nF5"
   },
   "outputs": [],
   "source": [
    "# aisles = pd.read_csv('/content/drive/MyDrive/EPAM RecSys/data/aisles.csv') # торговый ряд (готовые салаты, сыры, батончики)\n",
    "# departments = pd.read_csv('/content/drive/MyDrive/EPAM RecSys/data/departments.csv') # отдел (заморозка, пекарня, другое) \n",
    "# orders = pd.read_csv('/content/drive/MyDrive/EPAM RecSys/data/orders.csv') # к какому набору относится заказ (prior, train, test)\n",
    "# products = pd.read_csv('/content/drive/MyDrive/EPAM RecSys/data/products.csv') # продукты\n",
    "# order_products__prior = pd.read_csv('/content/drive/MyDrive/EPAM RecSys/data/order_products__prior.csv') # продукты в предыдущем заказе\n",
    "# order_products__train = pd.read_csv('/content/drive/MyDrive/EPAM RecSys/data/order_products__train.csv') # продукты в тренировочном заказе"
   ]
  },
  {
   "cell_type": "code",
   "execution_count": null,
   "metadata": {
    "id": "JTttonpISyJ4"
   },
   "outputs": [],
   "source": [
    "aisles = pd.read_csv('data/aisles.csv')\n",
    "departments = pd.read_csv('data/departments.csv')\n",
    "orders = pd.read_csv('data/orders.csv')\n",
    "products = pd.read_csv('data/products.csv')\n",
    "order_products__prior = pd.read_csv('data/order_products__prior.csv') \n",
    "order_products__train = pd.read_csv('data/order_products__train.csv')"
   ]
  },
  {
   "cell_type": "markdown",
   "metadata": {
    "id": "IoretanXdOae"
   },
   "source": [
    "## EDA"
   ]
  },
  {
   "cell_type": "markdown",
   "metadata": {
    "id": "TpUJqqzq3eNS"
   },
   "source": [
    "### Check all data"
   ]
  },
  {
   "cell_type": "markdown",
   "metadata": {
    "id": "P9UtXDVOdfi-"
   },
   "source": [
    "#### aisles"
   ]
  },
  {
   "cell_type": "code",
   "execution_count": null,
   "metadata": {
    "colab": {
     "base_uri": "https://localhost:8080/"
    },
    "id": "74sKeKVc6w2Y",
    "outputId": "be9374c4-bd13-4b44-a82d-f8ccc02f1b5e"
   },
   "outputs": [
    {
     "data": {
      "text/html": [
       "<div>\n",
       "<style scoped>\n",
       "    .dataframe tbody tr th:only-of-type {\n",
       "        vertical-align: middle;\n",
       "    }\n",
       "\n",
       "    .dataframe tbody tr th {\n",
       "        vertical-align: top;\n",
       "    }\n",
       "\n",
       "    .dataframe thead th {\n",
       "        text-align: right;\n",
       "    }\n",
       "</style>\n",
       "<table border=\"1\" class=\"dataframe\">\n",
       "  <thead>\n",
       "    <tr style=\"text-align: right;\">\n",
       "      <th></th>\n",
       "      <th>aisle_id</th>\n",
       "      <th>aisle</th>\n",
       "    </tr>\n",
       "  </thead>\n",
       "  <tbody>\n",
       "    <tr>\n",
       "      <th>0</th>\n",
       "      <td>1</td>\n",
       "      <td>prepared soups salads</td>\n",
       "    </tr>\n",
       "    <tr>\n",
       "      <th>1</th>\n",
       "      <td>2</td>\n",
       "      <td>specialty cheeses</td>\n",
       "    </tr>\n",
       "    <tr>\n",
       "      <th>2</th>\n",
       "      <td>3</td>\n",
       "      <td>energy granola bars</td>\n",
       "    </tr>\n",
       "    <tr>\n",
       "      <th>3</th>\n",
       "      <td>4</td>\n",
       "      <td>instant foods</td>\n",
       "    </tr>\n",
       "    <tr>\n",
       "      <th>4</th>\n",
       "      <td>5</td>\n",
       "      <td>marinades meat preparation</td>\n",
       "    </tr>\n",
       "  </tbody>\n",
       "</table>\n",
       "</div>"
      ],
      "text/plain": [
       "   aisle_id                       aisle\n",
       "0         1       prepared soups salads\n",
       "1         2           specialty cheeses\n",
       "2         3         energy granola bars\n",
       "3         4               instant foods\n",
       "4         5  marinades meat preparation"
      ]
     },
     "execution_count": 16,
     "metadata": {
      "tags": []
     },
     "output_type": "execute_result"
    }
   ],
   "source": [
    "aisles.head()"
   ]
  },
  {
   "cell_type": "code",
   "execution_count": null,
   "metadata": {
    "colab": {
     "base_uri": "https://localhost:8080/"
    },
    "id": "0M3rJ9WlddXK",
    "outputId": "cdc328e0-7c63-4c41-b96a-b9aa2c267720"
   },
   "outputs": [
    {
     "name": "stdout",
     "output_type": "stream",
     "text": [
      "<class 'pandas.core.frame.DataFrame'>\n",
      "RangeIndex: 134 entries, 0 to 133\n",
      "Data columns (total 2 columns):\n",
      " #   Column    Non-Null Count  Dtype \n",
      "---  ------    --------------  ----- \n",
      " 0   aisle_id  134 non-null    int64 \n",
      " 1   aisle     134 non-null    object\n",
      "dtypes: int64(1), object(1)\n",
      "memory usage: 2.2+ KB\n"
     ]
    }
   ],
   "source": [
    "aisles.info()"
   ]
  },
  {
   "cell_type": "markdown",
   "metadata": {
    "id": "1ORctviMe5F5"
   },
   "source": [
    "134 элемента."
   ]
  },
  {
   "cell_type": "code",
   "execution_count": null,
   "metadata": {
    "colab": {
     "base_uri": "https://localhost:8080/"
    },
    "id": "dykyAGhddbfk",
    "outputId": "f1242a14-86d9-4972-9bc8-beb29e04aa65"
   },
   "outputs": [
    {
     "data": {
      "text/plain": [
       "aisle_id    0\n",
       "aisle       0\n",
       "dtype: int64"
      ]
     },
     "execution_count": 18,
     "metadata": {
      "tags": []
     },
     "output_type": "execute_result"
    }
   ],
   "source": [
    "aisles.isna().sum()"
   ]
  },
  {
   "cell_type": "markdown",
   "metadata": {
    "id": "6_VheWxyeyZP"
   },
   "source": [
    "Нет пропусков."
   ]
  },
  {
   "cell_type": "code",
   "execution_count": null,
   "metadata": {
    "colab": {
     "base_uri": "https://localhost:8080/"
    },
    "id": "tlTmr5b8d0IK",
    "outputId": "f100c5e6-4d2a-448f-d6a3-d469b3347c1f"
   },
   "outputs": [
    {
     "data": {
      "text/plain": [
       "134"
      ]
     },
     "execution_count": 19,
     "metadata": {
      "tags": []
     },
     "output_type": "execute_result"
    }
   ],
   "source": [
    "len(pd.unique(aisles['aisle']))"
   ]
  },
  {
   "cell_type": "markdown",
   "metadata": {
    "id": "NHtfltA9e0xb"
   },
   "source": [
    "Все значения уникальны."
   ]
  },
  {
   "cell_type": "markdown",
   "metadata": {
    "id": "eA-O2lm9e_LH"
   },
   "source": [
    "#### departments"
   ]
  },
  {
   "cell_type": "code",
   "execution_count": null,
   "metadata": {
    "colab": {
     "base_uri": "https://localhost:8080/"
    },
    "id": "cy369eFRfEF8",
    "outputId": "b74de81f-cacc-434e-ce10-6e409664a327"
   },
   "outputs": [
    {
     "data": {
      "text/html": [
       "<div>\n",
       "<style scoped>\n",
       "    .dataframe tbody tr th:only-of-type {\n",
       "        vertical-align: middle;\n",
       "    }\n",
       "\n",
       "    .dataframe tbody tr th {\n",
       "        vertical-align: top;\n",
       "    }\n",
       "\n",
       "    .dataframe thead th {\n",
       "        text-align: right;\n",
       "    }\n",
       "</style>\n",
       "<table border=\"1\" class=\"dataframe\">\n",
       "  <thead>\n",
       "    <tr style=\"text-align: right;\">\n",
       "      <th></th>\n",
       "      <th>department_id</th>\n",
       "      <th>department</th>\n",
       "    </tr>\n",
       "  </thead>\n",
       "  <tbody>\n",
       "    <tr>\n",
       "      <th>0</th>\n",
       "      <td>1</td>\n",
       "      <td>frozen</td>\n",
       "    </tr>\n",
       "    <tr>\n",
       "      <th>1</th>\n",
       "      <td>2</td>\n",
       "      <td>other</td>\n",
       "    </tr>\n",
       "    <tr>\n",
       "      <th>2</th>\n",
       "      <td>3</td>\n",
       "      <td>bakery</td>\n",
       "    </tr>\n",
       "    <tr>\n",
       "      <th>3</th>\n",
       "      <td>4</td>\n",
       "      <td>produce</td>\n",
       "    </tr>\n",
       "    <tr>\n",
       "      <th>4</th>\n",
       "      <td>5</td>\n",
       "      <td>alcohol</td>\n",
       "    </tr>\n",
       "  </tbody>\n",
       "</table>\n",
       "</div>"
      ],
      "text/plain": [
       "   department_id department\n",
       "0              1     frozen\n",
       "1              2      other\n",
       "2              3     bakery\n",
       "3              4    produce\n",
       "4              5    alcohol"
      ]
     },
     "execution_count": 20,
     "metadata": {
      "tags": []
     },
     "output_type": "execute_result"
    }
   ],
   "source": [
    "departments.head()"
   ]
  },
  {
   "cell_type": "code",
   "execution_count": null,
   "metadata": {
    "colab": {
     "base_uri": "https://localhost:8080/"
    },
    "id": "VOlbFGXCfEGA",
    "outputId": "54e1c203-93ca-47de-ab7c-fe712595e6eb"
   },
   "outputs": [
    {
     "name": "stdout",
     "output_type": "stream",
     "text": [
      "<class 'pandas.core.frame.DataFrame'>\n",
      "RangeIndex: 21 entries, 0 to 20\n",
      "Data columns (total 2 columns):\n",
      " #   Column         Non-Null Count  Dtype \n",
      "---  ------         --------------  ----- \n",
      " 0   department_id  21 non-null     int64 \n",
      " 1   department     21 non-null     object\n",
      "dtypes: int64(1), object(1)\n",
      "memory usage: 464.0+ bytes\n"
     ]
    }
   ],
   "source": [
    "departments.info()"
   ]
  },
  {
   "cell_type": "markdown",
   "metadata": {
    "id": "oWqQmdmHfEGB"
   },
   "source": [
    "21 элемент."
   ]
  },
  {
   "cell_type": "code",
   "execution_count": null,
   "metadata": {
    "colab": {
     "base_uri": "https://localhost:8080/"
    },
    "id": "nNONW1HVfEGC",
    "outputId": "c5d257b8-568e-40a0-bc3e-15727c01b20b"
   },
   "outputs": [
    {
     "data": {
      "text/plain": [
       "department_id    0\n",
       "department       0\n",
       "dtype: int64"
      ]
     },
     "execution_count": 22,
     "metadata": {
      "tags": []
     },
     "output_type": "execute_result"
    }
   ],
   "source": [
    "departments.isna().sum()"
   ]
  },
  {
   "cell_type": "markdown",
   "metadata": {
    "id": "6PNM2zAtfEGD"
   },
   "source": [
    "Нет пропусков."
   ]
  },
  {
   "cell_type": "code",
   "execution_count": null,
   "metadata": {
    "colab": {
     "base_uri": "https://localhost:8080/"
    },
    "id": "FuFp26s6fEGE",
    "outputId": "21cef518-9bb6-4cdb-9989-db477a3f3e69"
   },
   "outputs": [
    {
     "data": {
      "text/plain": [
       "21"
      ]
     },
     "execution_count": 23,
     "metadata": {
      "tags": []
     },
     "output_type": "execute_result"
    }
   ],
   "source": [
    "len(pd.unique(departments['department']))"
   ]
  },
  {
   "cell_type": "markdown",
   "metadata": {
    "id": "-wq36nFofEGF"
   },
   "source": [
    "Все значения уникальны."
   ]
  },
  {
   "cell_type": "markdown",
   "metadata": {
    "id": "nFwSehFbkNFs"
   },
   "source": [
    "#### orders"
   ]
  },
  {
   "cell_type": "code",
   "execution_count": null,
   "metadata": {
    "colab": {
     "base_uri": "https://localhost:8080/"
    },
    "id": "iC1Z0XAakNFt",
    "outputId": "a2deb7b1-b568-4aae-8cd0-e74a22dab058"
   },
   "outputs": [
    {
     "data": {
      "text/html": [
       "<div>\n",
       "<style scoped>\n",
       "    .dataframe tbody tr th:only-of-type {\n",
       "        vertical-align: middle;\n",
       "    }\n",
       "\n",
       "    .dataframe tbody tr th {\n",
       "        vertical-align: top;\n",
       "    }\n",
       "\n",
       "    .dataframe thead th {\n",
       "        text-align: right;\n",
       "    }\n",
       "</style>\n",
       "<table border=\"1\" class=\"dataframe\">\n",
       "  <thead>\n",
       "    <tr style=\"text-align: right;\">\n",
       "      <th></th>\n",
       "      <th>order_id</th>\n",
       "      <th>user_id</th>\n",
       "      <th>eval_set</th>\n",
       "      <th>order_number</th>\n",
       "      <th>order_dow</th>\n",
       "      <th>order_hour_of_day</th>\n",
       "      <th>days_since_prior_order</th>\n",
       "    </tr>\n",
       "  </thead>\n",
       "  <tbody>\n",
       "    <tr>\n",
       "      <th>0</th>\n",
       "      <td>2539329</td>\n",
       "      <td>1</td>\n",
       "      <td>prior</td>\n",
       "      <td>1</td>\n",
       "      <td>2</td>\n",
       "      <td>8</td>\n",
       "      <td>NaN</td>\n",
       "    </tr>\n",
       "    <tr>\n",
       "      <th>1</th>\n",
       "      <td>2398795</td>\n",
       "      <td>1</td>\n",
       "      <td>prior</td>\n",
       "      <td>2</td>\n",
       "      <td>3</td>\n",
       "      <td>7</td>\n",
       "      <td>15.0</td>\n",
       "    </tr>\n",
       "    <tr>\n",
       "      <th>2</th>\n",
       "      <td>473747</td>\n",
       "      <td>1</td>\n",
       "      <td>prior</td>\n",
       "      <td>3</td>\n",
       "      <td>3</td>\n",
       "      <td>12</td>\n",
       "      <td>21.0</td>\n",
       "    </tr>\n",
       "    <tr>\n",
       "      <th>3</th>\n",
       "      <td>2254736</td>\n",
       "      <td>1</td>\n",
       "      <td>prior</td>\n",
       "      <td>4</td>\n",
       "      <td>4</td>\n",
       "      <td>7</td>\n",
       "      <td>29.0</td>\n",
       "    </tr>\n",
       "    <tr>\n",
       "      <th>4</th>\n",
       "      <td>431534</td>\n",
       "      <td>1</td>\n",
       "      <td>prior</td>\n",
       "      <td>5</td>\n",
       "      <td>4</td>\n",
       "      <td>15</td>\n",
       "      <td>28.0</td>\n",
       "    </tr>\n",
       "  </tbody>\n",
       "</table>\n",
       "</div>"
      ],
      "text/plain": [
       "   order_id  user_id  ... order_hour_of_day  days_since_prior_order\n",
       "0   2539329        1  ...                 8                     NaN\n",
       "1   2398795        1  ...                 7                    15.0\n",
       "2    473747        1  ...                12                    21.0\n",
       "3   2254736        1  ...                 7                    29.0\n",
       "4    431534        1  ...                15                    28.0\n",
       "\n",
       "[5 rows x 7 columns]"
      ]
     },
     "execution_count": 24,
     "metadata": {
      "tags": []
     },
     "output_type": "execute_result"
    }
   ],
   "source": [
    "orders.head()\n",
    "# order_dow - день недели"
   ]
  },
  {
   "cell_type": "code",
   "execution_count": null,
   "metadata": {
    "colab": {
     "base_uri": "https://localhost:8080/",
     "height": 204
    },
    "id": "71BqxJf-POYS",
    "outputId": "d88914f7-c205-4163-d451-c1614c57fd67"
   },
   "outputs": [
    {
     "data": {
      "text/html": [
       "<div>\n",
       "<style scoped>\n",
       "    .dataframe tbody tr th:only-of-type {\n",
       "        vertical-align: middle;\n",
       "    }\n",
       "\n",
       "    .dataframe tbody tr th {\n",
       "        vertical-align: top;\n",
       "    }\n",
       "\n",
       "    .dataframe thead th {\n",
       "        text-align: right;\n",
       "    }\n",
       "</style>\n",
       "<table border=\"1\" class=\"dataframe\">\n",
       "  <thead>\n",
       "    <tr style=\"text-align: right;\">\n",
       "      <th></th>\n",
       "      <th>order_id</th>\n",
       "      <th>user_id</th>\n",
       "      <th>eval_set</th>\n",
       "      <th>order_number</th>\n",
       "      <th>order_dow</th>\n",
       "      <th>order_hour_of_day</th>\n",
       "      <th>days_since_prior_order</th>\n",
       "    </tr>\n",
       "  </thead>\n",
       "  <tbody>\n",
       "    <tr>\n",
       "      <th>0</th>\n",
       "      <td>2539329</td>\n",
       "      <td>1</td>\n",
       "      <td>prior</td>\n",
       "      <td>1</td>\n",
       "      <td>2</td>\n",
       "      <td>8</td>\n",
       "      <td>NaN</td>\n",
       "    </tr>\n",
       "    <tr>\n",
       "      <th>1</th>\n",
       "      <td>2398795</td>\n",
       "      <td>1</td>\n",
       "      <td>prior</td>\n",
       "      <td>2</td>\n",
       "      <td>3</td>\n",
       "      <td>7</td>\n",
       "      <td>15.0</td>\n",
       "    </tr>\n",
       "    <tr>\n",
       "      <th>2</th>\n",
       "      <td>473747</td>\n",
       "      <td>1</td>\n",
       "      <td>prior</td>\n",
       "      <td>3</td>\n",
       "      <td>3</td>\n",
       "      <td>12</td>\n",
       "      <td>21.0</td>\n",
       "    </tr>\n",
       "    <tr>\n",
       "      <th>3</th>\n",
       "      <td>2254736</td>\n",
       "      <td>1</td>\n",
       "      <td>prior</td>\n",
       "      <td>4</td>\n",
       "      <td>4</td>\n",
       "      <td>7</td>\n",
       "      <td>29.0</td>\n",
       "    </tr>\n",
       "    <tr>\n",
       "      <th>4</th>\n",
       "      <td>431534</td>\n",
       "      <td>1</td>\n",
       "      <td>prior</td>\n",
       "      <td>5</td>\n",
       "      <td>4</td>\n",
       "      <td>15</td>\n",
       "      <td>28.0</td>\n",
       "    </tr>\n",
       "  </tbody>\n",
       "</table>\n",
       "</div>"
      ],
      "text/plain": [
       "   order_id  user_id  ... order_hour_of_day  days_since_prior_order\n",
       "0   2539329        1  ...                 8                     NaN\n",
       "1   2398795        1  ...                 7                    15.0\n",
       "2    473747        1  ...                12                    21.0\n",
       "3   2254736        1  ...                 7                    29.0\n",
       "4    431534        1  ...                15                    28.0\n",
       "\n",
       "[5 rows x 7 columns]"
      ]
     },
     "execution_count": 3,
     "metadata": {
      "tags": []
     },
     "output_type": "execute_result"
    }
   ],
   "source": [
    "orders = orders.sort_values(by=['user_id', 'order_number'])\n",
    "orders.head()"
   ]
  },
  {
   "cell_type": "code",
   "execution_count": null,
   "metadata": {
    "colab": {
     "base_uri": "https://localhost:8080/"
    },
    "id": "mXUw1IrvkNFu",
    "outputId": "581a88f0-f273-41de-a6d0-d4efd21ce52d"
   },
   "outputs": [
    {
     "name": "stdout",
     "output_type": "stream",
     "text": [
      "<class 'pandas.core.frame.DataFrame'>\n",
      "RangeIndex: 3421083 entries, 0 to 3421082\n",
      "Data columns (total 7 columns):\n",
      " #   Column                  Dtype  \n",
      "---  ------                  -----  \n",
      " 0   order_id                int64  \n",
      " 1   user_id                 int64  \n",
      " 2   eval_set                object \n",
      " 3   order_number            int64  \n",
      " 4   order_dow               int64  \n",
      " 5   order_hour_of_day       int64  \n",
      " 6   days_since_prior_order  float64\n",
      "dtypes: float64(1), int64(5), object(1)\n",
      "memory usage: 182.7+ MB\n"
     ]
    }
   ],
   "source": [
    "orders.info()"
   ]
  },
  {
   "cell_type": "code",
   "execution_count": null,
   "metadata": {
    "colab": {
     "base_uri": "https://localhost:8080/"
    },
    "id": "92ZYFPTSkNFv",
    "outputId": "a24d0369-45c7-48c3-915e-786a06a9449f"
   },
   "outputs": [
    {
     "data": {
      "text/plain": [
       "order_id                       0\n",
       "user_id                        0\n",
       "eval_set                       0\n",
       "order_number                   0\n",
       "order_dow                      0\n",
       "order_hour_of_day              0\n",
       "days_since_prior_order    206209\n",
       "dtype: int64"
      ]
     },
     "execution_count": 26,
     "metadata": {
      "tags": []
     },
     "output_type": "execute_result"
    }
   ],
   "source": [
    "orders.isna().sum()"
   ]
  },
  {
   "cell_type": "code",
   "execution_count": null,
   "metadata": {
    "colab": {
     "base_uri": "https://localhost:8080/"
    },
    "id": "B_YFIRI0kNFw",
    "outputId": "fd137be3-60b1-43df-829c-da2d90221791"
   },
   "outputs": [
    {
     "data": {
      "text/plain": [
       "0"
      ]
     },
     "execution_count": 27,
     "metadata": {
      "tags": []
     },
     "output_type": "execute_result"
    }
   ],
   "source": [
    "orders.duplicated().sum()"
   ]
  },
  {
   "cell_type": "markdown",
   "metadata": {
    "id": "-zF2t59dkNFx"
   },
   "source": [
    "Все значения уникальны."
   ]
  },
  {
   "cell_type": "code",
   "execution_count": null,
   "metadata": {
    "colab": {
     "base_uri": "https://localhost:8080/"
    },
    "id": "gJPBYeaXqRAk",
    "outputId": "8ded0a73-9b5d-44c3-83dc-cae884a53f0a"
   },
   "outputs": [
    {
     "data": {
      "text/plain": [
       "user_id\n",
       "127633      4\n",
       "74147       4\n",
       "160570      4\n",
       "160560      4\n",
       "74171       4\n",
       "         ... \n",
       "1868      100\n",
       "31118     100\n",
       "122476    100\n",
       "120897    100\n",
       "26086     100\n",
       "Name: order_id, Length: 206209, dtype: int64"
      ]
     },
     "execution_count": 26,
     "metadata": {
      "tags": []
     },
     "output_type": "execute_result"
    }
   ],
   "source": [
    "orders.groupby(['user_id']).count().sort_values(by=['order_id'])['order_id']"
   ]
  },
  {
   "cell_type": "markdown",
   "metadata": {
    "id": "o-48Z5MyGY9G"
   },
   "source": [
    "206209 пользователей есть в базе. Пользователи совершали от 4 до 100 заказов."
   ]
  },
  {
   "cell_type": "code",
   "execution_count": null,
   "metadata": {
    "colab": {
     "base_uri": "https://localhost:8080/",
     "height": 421
    },
    "id": "qS2GZ-K0G-ZI",
    "outputId": "05290c27-948b-41ae-96aa-0ddded2bef55"
   },
   "outputs": [
    {
     "data": {
      "text/plain": [
       "array([[<matplotlib.axes._subplots.AxesSubplot object at 0x7feb63bc4470>,\n",
       "        <matplotlib.axes._subplots.AxesSubplot object at 0x7feb64b59cc0>],\n",
       "       [<matplotlib.axes._subplots.AxesSubplot object at 0x7feb63fa1908>,\n",
       "        <matplotlib.axes._subplots.AxesSubplot object at 0x7feb63f282b0>]],\n",
       "      dtype=object)"
      ]
     },
     "execution_count": 34,
     "metadata": {
      "tags": []
     },
     "output_type": "execute_result"
    },
    {
     "data": {
      "image/png": "[encoded data removed]",
      "text/plain": [
       "<Figure size 720x360 with 4 Axes>"
      ]
     },
     "metadata": {
      "needs_background": "light",
      "tags": []
     },
     "output_type": "display_data"
    }
   ],
   "source": [
    "orders[['order_hour_of_day', 'order_dow', 'days_since_prior_order']].hist(figsize=(10, 5))"
   ]
  },
  {
   "cell_type": "markdown",
   "metadata": {
    "id": "8a0L9Yt0U42d"
   },
   "source": [
    "Продукты заказываются, в основном, днём - с 7-8 утра, до 21. Наиболее часто - в районе обеда, в 15.  \n",
    "Чаще всего продукты заказывают примерно раз в неделю, но бывает и раз в месяц. "
   ]
  },
  {
   "cell_type": "code",
   "execution_count": null,
   "metadata": {
    "colab": {
     "base_uri": "https://localhost:8080/",
     "height": 297
    },
    "id": "XP0LsJS9qRES",
    "outputId": "774d0463-8bcb-40fb-d69a-7a96afe94e97"
   },
   "outputs": [
    {
     "data": {
      "text/html": [
       "<div>\n",
       "<style scoped>\n",
       "    .dataframe tbody tr th:only-of-type {\n",
       "        vertical-align: middle;\n",
       "    }\n",
       "\n",
       "    .dataframe tbody tr th {\n",
       "        vertical-align: top;\n",
       "    }\n",
       "\n",
       "    .dataframe thead th {\n",
       "        text-align: right;\n",
       "    }\n",
       "</style>\n",
       "<table border=\"1\" class=\"dataframe\">\n",
       "  <thead>\n",
       "    <tr style=\"text-align: right;\">\n",
       "      <th></th>\n",
       "      <th>order_hour_of_day</th>\n",
       "      <th>order_dow</th>\n",
       "      <th>days_since_prior_order</th>\n",
       "    </tr>\n",
       "  </thead>\n",
       "  <tbody>\n",
       "    <tr>\n",
       "      <th>count</th>\n",
       "      <td>3.421083e+06</td>\n",
       "      <td>3.421083e+06</td>\n",
       "      <td>3.214874e+06</td>\n",
       "    </tr>\n",
       "    <tr>\n",
       "      <th>mean</th>\n",
       "      <td>1.345202e+01</td>\n",
       "      <td>2.776219e+00</td>\n",
       "      <td>1.111484e+01</td>\n",
       "    </tr>\n",
       "    <tr>\n",
       "      <th>std</th>\n",
       "      <td>4.226088e+00</td>\n",
       "      <td>2.046829e+00</td>\n",
       "      <td>9.206737e+00</td>\n",
       "    </tr>\n",
       "    <tr>\n",
       "      <th>min</th>\n",
       "      <td>0.000000e+00</td>\n",
       "      <td>0.000000e+00</td>\n",
       "      <td>0.000000e+00</td>\n",
       "    </tr>\n",
       "    <tr>\n",
       "      <th>25%</th>\n",
       "      <td>1.000000e+01</td>\n",
       "      <td>1.000000e+00</td>\n",
       "      <td>4.000000e+00</td>\n",
       "    </tr>\n",
       "    <tr>\n",
       "      <th>50%</th>\n",
       "      <td>1.300000e+01</td>\n",
       "      <td>3.000000e+00</td>\n",
       "      <td>7.000000e+00</td>\n",
       "    </tr>\n",
       "    <tr>\n",
       "      <th>75%</th>\n",
       "      <td>1.600000e+01</td>\n",
       "      <td>5.000000e+00</td>\n",
       "      <td>1.500000e+01</td>\n",
       "    </tr>\n",
       "    <tr>\n",
       "      <th>max</th>\n",
       "      <td>2.300000e+01</td>\n",
       "      <td>6.000000e+00</td>\n",
       "      <td>3.000000e+01</td>\n",
       "    </tr>\n",
       "  </tbody>\n",
       "</table>\n",
       "</div>"
      ],
      "text/plain": [
       "       order_hour_of_day     order_dow  days_since_prior_order\n",
       "count       3.421083e+06  3.421083e+06            3.214874e+06\n",
       "mean        1.345202e+01  2.776219e+00            1.111484e+01\n",
       "std         4.226088e+00  2.046829e+00            9.206737e+00\n",
       "min         0.000000e+00  0.000000e+00            0.000000e+00\n",
       "25%         1.000000e+01  1.000000e+00            4.000000e+00\n",
       "50%         1.300000e+01  3.000000e+00            7.000000e+00\n",
       "75%         1.600000e+01  5.000000e+00            1.500000e+01\n",
       "max         2.300000e+01  6.000000e+00            3.000000e+01"
      ]
     },
     "execution_count": 35,
     "metadata": {
      "tags": []
     },
     "output_type": "execute_result"
    }
   ],
   "source": [
    "orders[['order_hour_of_day', 'order_dow', 'days_since_prior_order']].describe()"
   ]
  },
  {
   "cell_type": "markdown",
   "metadata": {
    "id": "YX00tjUYn_Tt"
   },
   "source": [
    "#### products"
   ]
  },
  {
   "cell_type": "code",
   "execution_count": null,
   "metadata": {
    "colab": {
     "base_uri": "https://localhost:8080/",
     "height": 204
    },
    "id": "4EzHxd6wn_Tv",
    "outputId": "6fe153eb-6b08-4bc2-e0de-cc75153e221c"
   },
   "outputs": [
    {
     "data": {
      "text/html": [
       "<div>\n",
       "<style scoped>\n",
       "    .dataframe tbody tr th:only-of-type {\n",
       "        vertical-align: middle;\n",
       "    }\n",
       "\n",
       "    .dataframe tbody tr th {\n",
       "        vertical-align: top;\n",
       "    }\n",
       "\n",
       "    .dataframe thead th {\n",
       "        text-align: right;\n",
       "    }\n",
       "</style>\n",
       "<table border=\"1\" class=\"dataframe\">\n",
       "  <thead>\n",
       "    <tr style=\"text-align: right;\">\n",
       "      <th></th>\n",
       "      <th>product_id</th>\n",
       "      <th>product_name</th>\n",
       "      <th>aisle_id</th>\n",
       "      <th>department_id</th>\n",
       "    </tr>\n",
       "  </thead>\n",
       "  <tbody>\n",
       "    <tr>\n",
       "      <th>0</th>\n",
       "      <td>1</td>\n",
       "      <td>Chocolate Sandwich Cookies</td>\n",
       "      <td>61</td>\n",
       "      <td>19</td>\n",
       "    </tr>\n",
       "    <tr>\n",
       "      <th>1</th>\n",
       "      <td>2</td>\n",
       "      <td>All-Seasons Salt</td>\n",
       "      <td>104</td>\n",
       "      <td>13</td>\n",
       "    </tr>\n",
       "    <tr>\n",
       "      <th>2</th>\n",
       "      <td>3</td>\n",
       "      <td>Robust Golden Unsweetened Oolong Tea</td>\n",
       "      <td>94</td>\n",
       "      <td>7</td>\n",
       "    </tr>\n",
       "    <tr>\n",
       "      <th>3</th>\n",
       "      <td>4</td>\n",
       "      <td>Smart Ones Classic Favorites Mini Rigatoni Wit...</td>\n",
       "      <td>38</td>\n",
       "      <td>1</td>\n",
       "    </tr>\n",
       "    <tr>\n",
       "      <th>4</th>\n",
       "      <td>5</td>\n",
       "      <td>Green Chile Anytime Sauce</td>\n",
       "      <td>5</td>\n",
       "      <td>13</td>\n",
       "    </tr>\n",
       "  </tbody>\n",
       "</table>\n",
       "</div>"
      ],
      "text/plain": [
       "   product_id  ... department_id\n",
       "0           1  ...            19\n",
       "1           2  ...            13\n",
       "2           3  ...             7\n",
       "3           4  ...             1\n",
       "4           5  ...            13\n",
       "\n",
       "[5 rows x 4 columns]"
      ]
     },
     "execution_count": 29,
     "metadata": {
      "tags": []
     },
     "output_type": "execute_result"
    }
   ],
   "source": [
    "products.head()"
   ]
  },
  {
   "cell_type": "code",
   "execution_count": null,
   "metadata": {
    "colab": {
     "base_uri": "https://localhost:8080/"
    },
    "id": "8G3uGpZGn_Tx",
    "outputId": "aed14c30-8d50-4e3f-d807-d9a39105c800"
   },
   "outputs": [
    {
     "name": "stdout",
     "output_type": "stream",
     "text": [
      "<class 'pandas.core.frame.DataFrame'>\n",
      "RangeIndex: 49688 entries, 0 to 49687\n",
      "Data columns (total 4 columns):\n",
      " #   Column         Non-Null Count  Dtype \n",
      "---  ------         --------------  ----- \n",
      " 0   product_id     49688 non-null  int64 \n",
      " 1   product_name   49688 non-null  object\n",
      " 2   aisle_id       49688 non-null  int64 \n",
      " 3   department_id  49688 non-null  int64 \n",
      "dtypes: int64(3), object(1)\n",
      "memory usage: 1.5+ MB\n"
     ]
    }
   ],
   "source": [
    "products.info()"
   ]
  },
  {
   "cell_type": "code",
   "execution_count": null,
   "metadata": {
    "colab": {
     "base_uri": "https://localhost:8080/"
    },
    "id": "1R3mkj-mn_Ty",
    "outputId": "02800e8f-3c12-48a4-e7c6-afb429dfb816"
   },
   "outputs": [
    {
     "data": {
      "text/plain": [
       "0"
      ]
     },
     "execution_count": 31,
     "metadata": {
      "tags": []
     },
     "output_type": "execute_result"
    }
   ],
   "source": [
    "products.duplicated().sum()"
   ]
  },
  {
   "cell_type": "markdown",
   "metadata": {
    "id": "UYIFzjnIn_Tz"
   },
   "source": [
    "Все значения уникальны."
   ]
  },
  {
   "cell_type": "code",
   "execution_count": null,
   "metadata": {
    "colab": {
     "base_uri": "https://localhost:8080/",
     "height": 278
    },
    "id": "Ip2K0eHtVeq7",
    "outputId": "a267a997-c212-4274-eee2-ad8033038326"
   },
   "outputs": [
    {
     "data": {
      "text/plain": [
       "array([[<matplotlib.axes._subplots.AxesSubplot object at 0x7feb636aceb8>,\n",
       "        <matplotlib.axes._subplots.AxesSubplot object at 0x7feb636cbeb8>]],\n",
       "      dtype=object)"
      ]
     },
     "execution_count": 39,
     "metadata": {
      "tags": []
     },
     "output_type": "execute_result"
    },
    {
     "data": {
      "image/png": "[encoded data removed]",
      "text/plain": [
       "<Figure size 720x216 with 2 Axes>"
      ]
     },
     "metadata": {
      "needs_background": "light",
      "tags": []
     },
     "output_type": "display_data"
    }
   ],
   "source": [
    "products[['aisle_id', 'department_id']].hist(figsize=(10, 3))"
   ]
  },
  {
   "cell_type": "code",
   "execution_count": null,
   "metadata": {
    "colab": {
     "base_uri": "https://localhost:8080/"
    },
    "id": "wJ3GTBfUV6IT",
    "outputId": "af029c2e-6277-4eb0-a2f3-a04d9826911e"
   },
   "outputs": [
    {
     "data": {
      "text/plain": [
       "count     134.000000\n",
       "mean      370.805970\n",
       "std       267.010165\n",
       "min        12.000000\n",
       "25%       179.750000\n",
       "50%       305.500000\n",
       "75%       497.500000\n",
       "max      1258.000000\n",
       "Name: product_id, dtype: float64"
      ]
     },
     "execution_count": 43,
     "metadata": {
      "tags": []
     },
     "output_type": "execute_result"
    }
   ],
   "source": [
    "products.groupby(by=['aisle_id']).count()['product_id'].describe()"
   ]
  },
  {
   "cell_type": "markdown",
   "metadata": {
    "id": "37bIRr_fV0BB"
   },
   "source": [
    "В каждом торговом ряду представлено от 12 до 1258 видов товаров, в среднем - 370. "
   ]
  },
  {
   "cell_type": "code",
   "execution_count": null,
   "metadata": {
    "colab": {
     "base_uri": "https://localhost:8080/"
    },
    "id": "LrBfL5eTVexj",
    "outputId": "fcd79556-caaf-4c5a-bd33-412299b55fc5"
   },
   "outputs": [
    {
     "data": {
      "text/plain": [
       "count      21.000000\n",
       "mean     2366.095238\n",
       "std      1914.367491\n",
       "min        38.000000\n",
       "25%      1081.000000\n",
       "50%      1516.000000\n",
       "75%      3449.000000\n",
       "max      6563.000000\n",
       "Name: product_id, dtype: float64"
      ]
     },
     "execution_count": 45,
     "metadata": {
      "tags": []
     },
     "output_type": "execute_result"
    }
   ],
   "source": [
    "products.groupby(by=['department_id']).count()['product_id'].describe()"
   ]
  },
  {
   "cell_type": "markdown",
   "metadata": {
    "id": "_4bR2qDpXetB"
   },
   "source": [
    "В каждом отделе представлено от 38 до 6563 видов товаров, в среднем - 2366."
   ]
  },
  {
   "cell_type": "markdown",
   "metadata": {
    "id": "YmYIOrJHoBS-"
   },
   "source": [
    "#### order_products__prior"
   ]
  },
  {
   "cell_type": "code",
   "execution_count": null,
   "metadata": {
    "colab": {
     "base_uri": "https://localhost:8080/"
    },
    "id": "j_k9uz3goBS_",
    "outputId": "79ad752b-7e3c-4424-b23f-96e14d17961d"
   },
   "outputs": [
    {
     "data": {
      "text/html": [
       "<div>\n",
       "<style scoped>\n",
       "    .dataframe tbody tr th:only-of-type {\n",
       "        vertical-align: middle;\n",
       "    }\n",
       "\n",
       "    .dataframe tbody tr th {\n",
       "        vertical-align: top;\n",
       "    }\n",
       "\n",
       "    .dataframe thead th {\n",
       "        text-align: right;\n",
       "    }\n",
       "</style>\n",
       "<table border=\"1\" class=\"dataframe\">\n",
       "  <thead>\n",
       "    <tr style=\"text-align: right;\">\n",
       "      <th></th>\n",
       "      <th>order_id</th>\n",
       "      <th>product_id</th>\n",
       "      <th>add_to_cart_order</th>\n",
       "      <th>reordered</th>\n",
       "    </tr>\n",
       "  </thead>\n",
       "  <tbody>\n",
       "    <tr>\n",
       "      <th>0</th>\n",
       "      <td>2</td>\n",
       "      <td>33120</td>\n",
       "      <td>1</td>\n",
       "      <td>1</td>\n",
       "    </tr>\n",
       "    <tr>\n",
       "      <th>1</th>\n",
       "      <td>2</td>\n",
       "      <td>28985</td>\n",
       "      <td>2</td>\n",
       "      <td>1</td>\n",
       "    </tr>\n",
       "    <tr>\n",
       "      <th>2</th>\n",
       "      <td>2</td>\n",
       "      <td>9327</td>\n",
       "      <td>3</td>\n",
       "      <td>0</td>\n",
       "    </tr>\n",
       "    <tr>\n",
       "      <th>3</th>\n",
       "      <td>2</td>\n",
       "      <td>45918</td>\n",
       "      <td>4</td>\n",
       "      <td>1</td>\n",
       "    </tr>\n",
       "    <tr>\n",
       "      <th>4</th>\n",
       "      <td>2</td>\n",
       "      <td>30035</td>\n",
       "      <td>5</td>\n",
       "      <td>0</td>\n",
       "    </tr>\n",
       "  </tbody>\n",
       "</table>\n",
       "</div>"
      ],
      "text/plain": [
       "   order_id  product_id  add_to_cart_order  reordered\n",
       "0         2       33120                  1          1\n",
       "1         2       28985                  2          1\n",
       "2         2        9327                  3          0\n",
       "3         2       45918                  4          1\n",
       "4         2       30035                  5          0"
      ]
     },
     "execution_count": 35,
     "metadata": {
      "tags": []
     },
     "output_type": "execute_result"
    }
   ],
   "source": [
    "order_products__prior.head()"
   ]
  },
  {
   "cell_type": "code",
   "execution_count": null,
   "metadata": {
    "colab": {
     "base_uri": "https://localhost:8080/"
    },
    "id": "vGgK97iqoBTA",
    "outputId": "886c81f0-1f44-4728-8dae-d653a3d35166"
   },
   "outputs": [
    {
     "name": "stdout",
     "output_type": "stream",
     "text": [
      "<class 'pandas.core.frame.DataFrame'>\n",
      "RangeIndex: 32434489 entries, 0 to 32434488\n",
      "Data columns (total 4 columns):\n",
      " #   Column             Dtype\n",
      "---  ------             -----\n",
      " 0   order_id           int64\n",
      " 1   product_id         int64\n",
      " 2   add_to_cart_order  int64\n",
      " 3   reordered          int64\n",
      "dtypes: int64(4)\n",
      "memory usage: 989.8 MB\n"
     ]
    }
   ],
   "source": [
    "order_products__prior.info()"
   ]
  },
  {
   "cell_type": "code",
   "execution_count": null,
   "metadata": {
    "colab": {
     "base_uri": "https://localhost:8080/"
    },
    "id": "pI9sCbVSoBTA",
    "outputId": "7bebb431-b733-4933-f83f-901a8f4bddf8"
   },
   "outputs": [
    {
     "data": {
      "text/plain": [
       "order_id             0\n",
       "product_id           0\n",
       "add_to_cart_order    0\n",
       "reordered            0\n",
       "dtype: int64"
      ]
     },
     "execution_count": 37,
     "metadata": {
      "tags": []
     },
     "output_type": "execute_result"
    }
   ],
   "source": [
    "order_products__prior.isna().sum()"
   ]
  },
  {
   "cell_type": "code",
   "execution_count": null,
   "metadata": {
    "colab": {
     "base_uri": "https://localhost:8080/"
    },
    "id": "aottoimLoBTB",
    "outputId": "7b6429b7-2a94-48e8-efc3-873ee71f57ad"
   },
   "outputs": [
    {
     "data": {
      "text/plain": [
       "0"
      ]
     },
     "execution_count": 38,
     "metadata": {
      "tags": []
     },
     "output_type": "execute_result"
    }
   ],
   "source": [
    "order_products__prior.duplicated().sum()"
   ]
  },
  {
   "cell_type": "markdown",
   "metadata": {
    "id": "igWLOGdNoBTB"
   },
   "source": [
    "Все значения уникальны."
   ]
  },
  {
   "cell_type": "code",
   "execution_count": null,
   "metadata": {
    "colab": {
     "base_uri": "https://localhost:8080/"
    },
    "id": "-Z5TUu0-rwa9",
    "outputId": "ead71266-eace-4c14-b691-22304038016a"
   },
   "outputs": [
    {
     "data": {
      "text/html": [
       "<div>\n",
       "<style scoped>\n",
       "    .dataframe tbody tr th:only-of-type {\n",
       "        vertical-align: middle;\n",
       "    }\n",
       "\n",
       "    .dataframe tbody tr th {\n",
       "        vertical-align: top;\n",
       "    }\n",
       "\n",
       "    .dataframe thead th {\n",
       "        text-align: right;\n",
       "    }\n",
       "</style>\n",
       "<table border=\"1\" class=\"dataframe\">\n",
       "  <thead>\n",
       "    <tr style=\"text-align: right;\">\n",
       "      <th></th>\n",
       "      <th>product_id</th>\n",
       "      <th>add_to_cart_order</th>\n",
       "      <th>reordered</th>\n",
       "    </tr>\n",
       "    <tr>\n",
       "      <th>order_id</th>\n",
       "      <th></th>\n",
       "      <th></th>\n",
       "      <th></th>\n",
       "    </tr>\n",
       "  </thead>\n",
       "  <tbody>\n",
       "    <tr>\n",
       "      <th>2</th>\n",
       "      <td>9</td>\n",
       "      <td>9</td>\n",
       "      <td>9</td>\n",
       "    </tr>\n",
       "    <tr>\n",
       "      <th>3</th>\n",
       "      <td>8</td>\n",
       "      <td>8</td>\n",
       "      <td>8</td>\n",
       "    </tr>\n",
       "    <tr>\n",
       "      <th>4</th>\n",
       "      <td>13</td>\n",
       "      <td>13</td>\n",
       "      <td>13</td>\n",
       "    </tr>\n",
       "    <tr>\n",
       "      <th>5</th>\n",
       "      <td>26</td>\n",
       "      <td>26</td>\n",
       "      <td>26</td>\n",
       "    </tr>\n",
       "    <tr>\n",
       "      <th>6</th>\n",
       "      <td>3</td>\n",
       "      <td>3</td>\n",
       "      <td>3</td>\n",
       "    </tr>\n",
       "    <tr>\n",
       "      <th>...</th>\n",
       "      <td>...</td>\n",
       "      <td>...</td>\n",
       "      <td>...</td>\n",
       "    </tr>\n",
       "    <tr>\n",
       "      <th>3421079</th>\n",
       "      <td>1</td>\n",
       "      <td>1</td>\n",
       "      <td>1</td>\n",
       "    </tr>\n",
       "    <tr>\n",
       "      <th>3421080</th>\n",
       "      <td>9</td>\n",
       "      <td>9</td>\n",
       "      <td>9</td>\n",
       "    </tr>\n",
       "    <tr>\n",
       "      <th>3421081</th>\n",
       "      <td>7</td>\n",
       "      <td>7</td>\n",
       "      <td>7</td>\n",
       "    </tr>\n",
       "    <tr>\n",
       "      <th>3421082</th>\n",
       "      <td>7</td>\n",
       "      <td>7</td>\n",
       "      <td>7</td>\n",
       "    </tr>\n",
       "    <tr>\n",
       "      <th>3421083</th>\n",
       "      <td>10</td>\n",
       "      <td>10</td>\n",
       "      <td>10</td>\n",
       "    </tr>\n",
       "  </tbody>\n",
       "</table>\n",
       "<p>3214874 rows × 3 columns</p>\n",
       "</div>"
      ],
      "text/plain": [
       "          product_id  add_to_cart_order  reordered\n",
       "order_id                                          \n",
       "2                  9                  9          9\n",
       "3                  8                  8          8\n",
       "4                 13                 13         13\n",
       "5                 26                 26         26\n",
       "6                  3                  3          3\n",
       "...              ...                ...        ...\n",
       "3421079            1                  1          1\n",
       "3421080            9                  9          9\n",
       "3421081            7                  7          7\n",
       "3421082            7                  7          7\n",
       "3421083           10                 10         10\n",
       "\n",
       "[3214874 rows x 3 columns]"
      ]
     },
     "execution_count": 39,
     "metadata": {
      "tags": []
     },
     "output_type": "execute_result"
    }
   ],
   "source": [
    "order_products__prior.groupby(['order_id']).count()"
   ]
  },
  {
   "cell_type": "markdown",
   "metadata": {
    "id": "7vnbT1xfoB3J"
   },
   "source": [
    "#### order_products__train"
   ]
  },
  {
   "cell_type": "code",
   "execution_count": null,
   "metadata": {
    "colab": {
     "base_uri": "https://localhost:8080/"
    },
    "id": "Nfs3f99OoB3K",
    "outputId": "c91abf08-1c2a-4091-eea1-466f00516488"
   },
   "outputs": [
    {
     "data": {
      "text/html": [
       "<div>\n",
       "<style scoped>\n",
       "    .dataframe tbody tr th:only-of-type {\n",
       "        vertical-align: middle;\n",
       "    }\n",
       "\n",
       "    .dataframe tbody tr th {\n",
       "        vertical-align: top;\n",
       "    }\n",
       "\n",
       "    .dataframe thead th {\n",
       "        text-align: right;\n",
       "    }\n",
       "</style>\n",
       "<table border=\"1\" class=\"dataframe\">\n",
       "  <thead>\n",
       "    <tr style=\"text-align: right;\">\n",
       "      <th></th>\n",
       "      <th>order_id</th>\n",
       "      <th>product_id</th>\n",
       "      <th>add_to_cart_order</th>\n",
       "      <th>reordered</th>\n",
       "    </tr>\n",
       "  </thead>\n",
       "  <tbody>\n",
       "    <tr>\n",
       "      <th>0</th>\n",
       "      <td>1</td>\n",
       "      <td>49302</td>\n",
       "      <td>1</td>\n",
       "      <td>1</td>\n",
       "    </tr>\n",
       "    <tr>\n",
       "      <th>1</th>\n",
       "      <td>1</td>\n",
       "      <td>11109</td>\n",
       "      <td>2</td>\n",
       "      <td>1</td>\n",
       "    </tr>\n",
       "    <tr>\n",
       "      <th>2</th>\n",
       "      <td>1</td>\n",
       "      <td>10246</td>\n",
       "      <td>3</td>\n",
       "      <td>0</td>\n",
       "    </tr>\n",
       "    <tr>\n",
       "      <th>3</th>\n",
       "      <td>1</td>\n",
       "      <td>49683</td>\n",
       "      <td>4</td>\n",
       "      <td>0</td>\n",
       "    </tr>\n",
       "    <tr>\n",
       "      <th>4</th>\n",
       "      <td>1</td>\n",
       "      <td>43633</td>\n",
       "      <td>5</td>\n",
       "      <td>1</td>\n",
       "    </tr>\n",
       "  </tbody>\n",
       "</table>\n",
       "</div>"
      ],
      "text/plain": [
       "   order_id  product_id  add_to_cart_order  reordered\n",
       "0         1       49302                  1          1\n",
       "1         1       11109                  2          1\n",
       "2         1       10246                  3          0\n",
       "3         1       49683                  4          0\n",
       "4         1       43633                  5          1"
      ]
     },
     "execution_count": 40,
     "metadata": {
      "tags": []
     },
     "output_type": "execute_result"
    }
   ],
   "source": [
    "order_products__train.head()"
   ]
  },
  {
   "cell_type": "code",
   "execution_count": null,
   "metadata": {
    "colab": {
     "base_uri": "https://localhost:8080/"
    },
    "id": "seIHjQ_XoB3K",
    "outputId": "b34cdb48-d9c4-436d-ee32-ace7029df632"
   },
   "outputs": [
    {
     "name": "stdout",
     "output_type": "stream",
     "text": [
      "<class 'pandas.core.frame.DataFrame'>\n",
      "RangeIndex: 1384617 entries, 0 to 1384616\n",
      "Data columns (total 4 columns):\n",
      " #   Column             Non-Null Count    Dtype\n",
      "---  ------             --------------    -----\n",
      " 0   order_id           1384617 non-null  int64\n",
      " 1   product_id         1384617 non-null  int64\n",
      " 2   add_to_cart_order  1384617 non-null  int64\n",
      " 3   reordered          1384617 non-null  int64\n",
      "dtypes: int64(4)\n",
      "memory usage: 42.3 MB\n"
     ]
    }
   ],
   "source": [
    "order_products__train.info()"
   ]
  },
  {
   "cell_type": "code",
   "execution_count": null,
   "metadata": {
    "colab": {
     "base_uri": "https://localhost:8080/"
    },
    "id": "oIyOqvZyoB3L",
    "outputId": "573c454e-430f-4590-cbae-f38a5524e61f"
   },
   "outputs": [
    {
     "data": {
      "text/plain": [
       "0"
      ]
     },
     "execution_count": 42,
     "metadata": {
      "tags": []
     },
     "output_type": "execute_result"
    }
   ],
   "source": [
    "order_products__train.duplicated().sum()"
   ]
  },
  {
   "cell_type": "markdown",
   "metadata": {
    "id": "TsgtqnG1oB3L"
   },
   "source": [
    "Все значения уникальны."
   ]
  },
  {
   "cell_type": "code",
   "execution_count": null,
   "metadata": {
    "colab": {
     "base_uri": "https://localhost:8080/"
    },
    "id": "yrYQfOsuqn4j",
    "outputId": "7b184517-ad32-48c9-a6c5-8d694caed639"
   },
   "outputs": [
    {
     "data": {
      "text/html": [
       "<div>\n",
       "<style scoped>\n",
       "    .dataframe tbody tr th:only-of-type {\n",
       "        vertical-align: middle;\n",
       "    }\n",
       "\n",
       "    .dataframe tbody tr th {\n",
       "        vertical-align: top;\n",
       "    }\n",
       "\n",
       "    .dataframe thead th {\n",
       "        text-align: right;\n",
       "    }\n",
       "</style>\n",
       "<table border=\"1\" class=\"dataframe\">\n",
       "  <thead>\n",
       "    <tr style=\"text-align: right;\">\n",
       "      <th></th>\n",
       "      <th>product_id</th>\n",
       "      <th>add_to_cart_order</th>\n",
       "      <th>reordered</th>\n",
       "    </tr>\n",
       "    <tr>\n",
       "      <th>order_id</th>\n",
       "      <th></th>\n",
       "      <th></th>\n",
       "      <th></th>\n",
       "    </tr>\n",
       "  </thead>\n",
       "  <tbody>\n",
       "    <tr>\n",
       "      <th>1</th>\n",
       "      <td>8</td>\n",
       "      <td>8</td>\n",
       "      <td>8</td>\n",
       "    </tr>\n",
       "    <tr>\n",
       "      <th>36</th>\n",
       "      <td>8</td>\n",
       "      <td>8</td>\n",
       "      <td>8</td>\n",
       "    </tr>\n",
       "    <tr>\n",
       "      <th>38</th>\n",
       "      <td>9</td>\n",
       "      <td>9</td>\n",
       "      <td>9</td>\n",
       "    </tr>\n",
       "    <tr>\n",
       "      <th>96</th>\n",
       "      <td>7</td>\n",
       "      <td>7</td>\n",
       "      <td>7</td>\n",
       "    </tr>\n",
       "    <tr>\n",
       "      <th>98</th>\n",
       "      <td>49</td>\n",
       "      <td>49</td>\n",
       "      <td>49</td>\n",
       "    </tr>\n",
       "    <tr>\n",
       "      <th>...</th>\n",
       "      <td>...</td>\n",
       "      <td>...</td>\n",
       "      <td>...</td>\n",
       "    </tr>\n",
       "    <tr>\n",
       "      <th>3421049</th>\n",
       "      <td>6</td>\n",
       "      <td>6</td>\n",
       "      <td>6</td>\n",
       "    </tr>\n",
       "    <tr>\n",
       "      <th>3421056</th>\n",
       "      <td>5</td>\n",
       "      <td>5</td>\n",
       "      <td>5</td>\n",
       "    </tr>\n",
       "    <tr>\n",
       "      <th>3421058</th>\n",
       "      <td>8</td>\n",
       "      <td>8</td>\n",
       "      <td>8</td>\n",
       "    </tr>\n",
       "    <tr>\n",
       "      <th>3421063</th>\n",
       "      <td>4</td>\n",
       "      <td>4</td>\n",
       "      <td>4</td>\n",
       "    </tr>\n",
       "    <tr>\n",
       "      <th>3421070</th>\n",
       "      <td>3</td>\n",
       "      <td>3</td>\n",
       "      <td>3</td>\n",
       "    </tr>\n",
       "  </tbody>\n",
       "</table>\n",
       "<p>131209 rows × 3 columns</p>\n",
       "</div>"
      ],
      "text/plain": [
       "          product_id  add_to_cart_order  reordered\n",
       "order_id                                          \n",
       "1                  8                  8          8\n",
       "36                 8                  8          8\n",
       "38                 9                  9          9\n",
       "96                 7                  7          7\n",
       "98                49                 49         49\n",
       "...              ...                ...        ...\n",
       "3421049            6                  6          6\n",
       "3421056            5                  5          5\n",
       "3421058            8                  8          8\n",
       "3421063            4                  4          4\n",
       "3421070            3                  3          3\n",
       "\n",
       "[131209 rows x 3 columns]"
      ]
     },
     "execution_count": 43,
     "metadata": {
      "tags": []
     },
     "output_type": "execute_result"
    }
   ],
   "source": [
    "order_products__train.groupby(['order_id']).count()"
   ]
  },
  {
   "cell_type": "code",
   "execution_count": null,
   "metadata": {
    "id": "Y-rP2uZjqn7p"
   },
   "outputs": [],
   "source": []
  },
  {
   "cell_type": "markdown",
   "metadata": {
    "id": "OV_TBilD3hNc"
   },
   "source": [
    "### Data preparation, train / test split"
   ]
  },
  {
   "cell_type": "markdown",
   "metadata": {
    "id": "W1pMp4k-CvUm"
   },
   "source": [
    "Все заказы я разделила на 2 набора: для обучения и для теста.    \n",
    "Тестовый набор: последний заказ каждого пользователя."
   ]
  },
  {
   "cell_type": "code",
   "execution_count": null,
   "metadata": {
    "id": "7AU2khmxSyKe",
    "outputId": "f454e1b7-16bd-4ab7-e557-cf58097e03cb"
   },
   "outputs": [
    {
     "data": {
      "text/html": [
       "<div>\n",
       "<style scoped>\n",
       "    .dataframe tbody tr th:only-of-type {\n",
       "        vertical-align: middle;\n",
       "    }\n",
       "\n",
       "    .dataframe tbody tr th {\n",
       "        vertical-align: top;\n",
       "    }\n",
       "\n",
       "    .dataframe thead th {\n",
       "        text-align: right;\n",
       "    }\n",
       "</style>\n",
       "<table border=\"1\" class=\"dataframe\">\n",
       "  <thead>\n",
       "    <tr style=\"text-align: right;\">\n",
       "      <th></th>\n",
       "      <th>order_id</th>\n",
       "      <th>user_id</th>\n",
       "      <th>eval_set</th>\n",
       "      <th>order_number</th>\n",
       "      <th>order_dow</th>\n",
       "      <th>order_hour_of_day</th>\n",
       "      <th>days_since_prior_order</th>\n",
       "    </tr>\n",
       "  </thead>\n",
       "  <tbody>\n",
       "    <tr>\n",
       "      <td>0</td>\n",
       "      <td>2539329</td>\n",
       "      <td>1</td>\n",
       "      <td>prior</td>\n",
       "      <td>1</td>\n",
       "      <td>2</td>\n",
       "      <td>8</td>\n",
       "      <td>NaN</td>\n",
       "    </tr>\n",
       "    <tr>\n",
       "      <td>1</td>\n",
       "      <td>2398795</td>\n",
       "      <td>1</td>\n",
       "      <td>prior</td>\n",
       "      <td>2</td>\n",
       "      <td>3</td>\n",
       "      <td>7</td>\n",
       "      <td>15.0</td>\n",
       "    </tr>\n",
       "    <tr>\n",
       "      <td>2</td>\n",
       "      <td>473747</td>\n",
       "      <td>1</td>\n",
       "      <td>prior</td>\n",
       "      <td>3</td>\n",
       "      <td>3</td>\n",
       "      <td>12</td>\n",
       "      <td>21.0</td>\n",
       "    </tr>\n",
       "    <tr>\n",
       "      <td>3</td>\n",
       "      <td>2254736</td>\n",
       "      <td>1</td>\n",
       "      <td>prior</td>\n",
       "      <td>4</td>\n",
       "      <td>4</td>\n",
       "      <td>7</td>\n",
       "      <td>29.0</td>\n",
       "    </tr>\n",
       "    <tr>\n",
       "      <td>4</td>\n",
       "      <td>431534</td>\n",
       "      <td>1</td>\n",
       "      <td>prior</td>\n",
       "      <td>5</td>\n",
       "      <td>4</td>\n",
       "      <td>15</td>\n",
       "      <td>28.0</td>\n",
       "    </tr>\n",
       "  </tbody>\n",
       "</table>\n",
       "</div>"
      ],
      "text/plain": [
       "   order_id  user_id eval_set  order_number  order_dow  order_hour_of_day  \\\n",
       "0   2539329        1    prior             1          2                  8   \n",
       "1   2398795        1    prior             2          3                  7   \n",
       "2    473747        1    prior             3          3                 12   \n",
       "3   2254736        1    prior             4          4                  7   \n",
       "4    431534        1    prior             5          4                 15   \n",
       "\n",
       "   days_since_prior_order  \n",
       "0                     NaN  \n",
       "1                    15.0  \n",
       "2                    21.0  \n",
       "3                    29.0  \n",
       "4                    28.0  "
      ]
     },
     "execution_count": 14,
     "metadata": {
      "tags": []
     },
     "output_type": "execute_result"
    }
   ],
   "source": [
    "orders_available = orders[orders['eval_set'] != 'test']\n",
    "orders_available.head()"
   ]
  },
  {
   "cell_type": "code",
   "execution_count": null,
   "metadata": {
    "id": "hdcZFXnzSyKg",
    "outputId": "a05dc5c8-ba0c-427b-bb8f-dcd6e2533abf"
   },
   "outputs": [
    {
     "data": {
      "text/plain": [
       "(array([1187899, 1492625, 1402502, ..., 1005822, 1882108,  272231],\n",
       "       dtype=int64), 206209)"
      ]
     },
     "execution_count": 15,
     "metadata": {
      "tags": []
     },
     "output_type": "execute_result"
    }
   ],
   "source": [
    "order_id_test = orders_available.groupby(by=['user_id']).last()['order_id'].values\n",
    "order_id_test, len(order_id_test)"
   ]
  },
  {
   "cell_type": "code",
   "execution_count": null,
   "metadata": {
    "id": "1x7TytsESyKg",
    "outputId": "c6d3d6e1-0d1b-413e-bd54-b8ace348a126"
   },
   "outputs": [
    {
     "name": "stderr",
     "output_type": "stream",
     "text": [
      "C:\\Users\\coffe\\Anaconda3\\lib\\site-packages\\ipykernel_launcher.py:1: SettingWithCopyWarning: \n",
      "A value is trying to be set on a copy of a slice from a DataFrame.\n",
      "Try using .loc[row_indexer,col_indexer] = value instead\n",
      "\n",
      "See the caveats in the documentation: http://pandas.pydata.org/pandas-docs/stable/user_guide/indexing.html#returning-a-view-versus-a-copy\n",
      "  \"\"\"Entry point for launching an IPython kernel.\n",
      "C:\\Users\\coffe\\Anaconda3\\lib\\site-packages\\pandas\\core\\indexing.py:494: SettingWithCopyWarning: \n",
      "A value is trying to be set on a copy of a slice from a DataFrame.\n",
      "Try using .loc[row_indexer,col_indexer] = value instead\n",
      "\n",
      "See the caveats in the documentation: http://pandas.pydata.org/pandas-docs/stable/user_guide/indexing.html#returning-a-view-versus-a-copy\n",
      "  self.obj[item] = s\n"
     ]
    },
    {
     "data": {
      "text/html": [
       "<div>\n",
       "<style scoped>\n",
       "    .dataframe tbody tr th:only-of-type {\n",
       "        vertical-align: middle;\n",
       "    }\n",
       "\n",
       "    .dataframe tbody tr th {\n",
       "        vertical-align: top;\n",
       "    }\n",
       "\n",
       "    .dataframe thead th {\n",
       "        text-align: right;\n",
       "    }\n",
       "</style>\n",
       "<table border=\"1\" class=\"dataframe\">\n",
       "  <thead>\n",
       "    <tr style=\"text-align: right;\">\n",
       "      <th></th>\n",
       "      <th>order_id</th>\n",
       "      <th>user_id</th>\n",
       "      <th>eval_set</th>\n",
       "      <th>order_number</th>\n",
       "      <th>order_dow</th>\n",
       "      <th>order_hour_of_day</th>\n",
       "      <th>days_since_prior_order</th>\n",
       "    </tr>\n",
       "  </thead>\n",
       "  <tbody>\n",
       "    <tr>\n",
       "      <td>0</td>\n",
       "      <td>2539329</td>\n",
       "      <td>1</td>\n",
       "      <td>TRAIN</td>\n",
       "      <td>1</td>\n",
       "      <td>2</td>\n",
       "      <td>8</td>\n",
       "      <td>NaN</td>\n",
       "    </tr>\n",
       "    <tr>\n",
       "      <td>1</td>\n",
       "      <td>2398795</td>\n",
       "      <td>1</td>\n",
       "      <td>TRAIN</td>\n",
       "      <td>2</td>\n",
       "      <td>3</td>\n",
       "      <td>7</td>\n",
       "      <td>15.0</td>\n",
       "    </tr>\n",
       "    <tr>\n",
       "      <td>2</td>\n",
       "      <td>473747</td>\n",
       "      <td>1</td>\n",
       "      <td>TRAIN</td>\n",
       "      <td>3</td>\n",
       "      <td>3</td>\n",
       "      <td>12</td>\n",
       "      <td>21.0</td>\n",
       "    </tr>\n",
       "    <tr>\n",
       "      <td>3</td>\n",
       "      <td>2254736</td>\n",
       "      <td>1</td>\n",
       "      <td>TRAIN</td>\n",
       "      <td>4</td>\n",
       "      <td>4</td>\n",
       "      <td>7</td>\n",
       "      <td>29.0</td>\n",
       "    </tr>\n",
       "    <tr>\n",
       "      <td>4</td>\n",
       "      <td>431534</td>\n",
       "      <td>1</td>\n",
       "      <td>TRAIN</td>\n",
       "      <td>5</td>\n",
       "      <td>4</td>\n",
       "      <td>15</td>\n",
       "      <td>28.0</td>\n",
       "    </tr>\n",
       "  </tbody>\n",
       "</table>\n",
       "</div>"
      ],
      "text/plain": [
       "   order_id  user_id eval_set  order_number  order_dow  order_hour_of_day  \\\n",
       "0   2539329        1    TRAIN             1          2                  8   \n",
       "1   2398795        1    TRAIN             2          3                  7   \n",
       "2    473747        1    TRAIN             3          3                 12   \n",
       "3   2254736        1    TRAIN             4          4                  7   \n",
       "4    431534        1    TRAIN             5          4                 15   \n",
       "\n",
       "   days_since_prior_order  \n",
       "0                     NaN  \n",
       "1                    15.0  \n",
       "2                    21.0  \n",
       "3                    29.0  \n",
       "4                    28.0  "
      ]
     },
     "execution_count": 16,
     "metadata": {
      "tags": []
     },
     "output_type": "execute_result"
    }
   ],
   "source": [
    "orders_available['eval_set'] = 'TRAIN'\n",
    "orders_available.loc[orders_available['order_id'].isin(order_id_test), 'eval_set'] = 'TEST'\n",
    "orders_available.head()"
   ]
  },
  {
   "cell_type": "code",
   "execution_count": null,
   "metadata": {
    "id": "0bt-n7mmSyKh",
    "outputId": "09c4952b-4c91-4f6a-a5f6-dfbe753ad782"
   },
   "outputs": [
    {
     "data": {
      "text/plain": [
       "array(['TRAIN', 'TEST'], dtype=object)"
      ]
     },
     "execution_count": 17,
     "metadata": {
      "tags": []
     },
     "output_type": "execute_result"
    }
   ],
   "source": [
    "orders_available['eval_set'].unique()"
   ]
  },
  {
   "cell_type": "code",
   "execution_count": null,
   "metadata": {
    "id": "QhwxQlLfSyKi",
    "outputId": "69be9f4c-37e0-4579-c9f3-3cbe67c4d04a"
   },
   "outputs": [
    {
     "data": {
      "text/html": [
       "<div>\n",
       "<style scoped>\n",
       "    .dataframe tbody tr th:only-of-type {\n",
       "        vertical-align: middle;\n",
       "    }\n",
       "\n",
       "    .dataframe tbody tr th {\n",
       "        vertical-align: top;\n",
       "    }\n",
       "\n",
       "    .dataframe thead th {\n",
       "        text-align: right;\n",
       "    }\n",
       "</style>\n",
       "<table border=\"1\" class=\"dataframe\">\n",
       "  <thead>\n",
       "    <tr style=\"text-align: right;\">\n",
       "      <th></th>\n",
       "      <th>order_id</th>\n",
       "      <th>user_id</th>\n",
       "      <th>eval_set</th>\n",
       "      <th>order_number</th>\n",
       "      <th>order_dow</th>\n",
       "      <th>order_hour_of_day</th>\n",
       "      <th>days_since_prior_order</th>\n",
       "    </tr>\n",
       "  </thead>\n",
       "  <tbody>\n",
       "    <tr>\n",
       "      <td>0</td>\n",
       "      <td>2539329</td>\n",
       "      <td>1</td>\n",
       "      <td>TRAIN</td>\n",
       "      <td>1</td>\n",
       "      <td>2</td>\n",
       "      <td>8</td>\n",
       "      <td>NaN</td>\n",
       "    </tr>\n",
       "    <tr>\n",
       "      <td>1</td>\n",
       "      <td>2398795</td>\n",
       "      <td>1</td>\n",
       "      <td>TRAIN</td>\n",
       "      <td>2</td>\n",
       "      <td>3</td>\n",
       "      <td>7</td>\n",
       "      <td>15.0</td>\n",
       "    </tr>\n",
       "    <tr>\n",
       "      <td>2</td>\n",
       "      <td>473747</td>\n",
       "      <td>1</td>\n",
       "      <td>TRAIN</td>\n",
       "      <td>3</td>\n",
       "      <td>3</td>\n",
       "      <td>12</td>\n",
       "      <td>21.0</td>\n",
       "    </tr>\n",
       "    <tr>\n",
       "      <td>3</td>\n",
       "      <td>2254736</td>\n",
       "      <td>1</td>\n",
       "      <td>TRAIN</td>\n",
       "      <td>4</td>\n",
       "      <td>4</td>\n",
       "      <td>7</td>\n",
       "      <td>29.0</td>\n",
       "    </tr>\n",
       "    <tr>\n",
       "      <td>4</td>\n",
       "      <td>431534</td>\n",
       "      <td>1</td>\n",
       "      <td>TRAIN</td>\n",
       "      <td>5</td>\n",
       "      <td>4</td>\n",
       "      <td>15</td>\n",
       "      <td>28.0</td>\n",
       "    </tr>\n",
       "    <tr>\n",
       "      <td>5</td>\n",
       "      <td>3367565</td>\n",
       "      <td>1</td>\n",
       "      <td>TRAIN</td>\n",
       "      <td>6</td>\n",
       "      <td>2</td>\n",
       "      <td>7</td>\n",
       "      <td>19.0</td>\n",
       "    </tr>\n",
       "    <tr>\n",
       "      <td>6</td>\n",
       "      <td>550135</td>\n",
       "      <td>1</td>\n",
       "      <td>TRAIN</td>\n",
       "      <td>7</td>\n",
       "      <td>1</td>\n",
       "      <td>9</td>\n",
       "      <td>20.0</td>\n",
       "    </tr>\n",
       "    <tr>\n",
       "      <td>7</td>\n",
       "      <td>3108588</td>\n",
       "      <td>1</td>\n",
       "      <td>TRAIN</td>\n",
       "      <td>8</td>\n",
       "      <td>1</td>\n",
       "      <td>14</td>\n",
       "      <td>14.0</td>\n",
       "    </tr>\n",
       "    <tr>\n",
       "      <td>8</td>\n",
       "      <td>2295261</td>\n",
       "      <td>1</td>\n",
       "      <td>TRAIN</td>\n",
       "      <td>9</td>\n",
       "      <td>1</td>\n",
       "      <td>16</td>\n",
       "      <td>0.0</td>\n",
       "    </tr>\n",
       "    <tr>\n",
       "      <td>9</td>\n",
       "      <td>2550362</td>\n",
       "      <td>1</td>\n",
       "      <td>TRAIN</td>\n",
       "      <td>10</td>\n",
       "      <td>4</td>\n",
       "      <td>8</td>\n",
       "      <td>30.0</td>\n",
       "    </tr>\n",
       "    <tr>\n",
       "      <td>10</td>\n",
       "      <td>1187899</td>\n",
       "      <td>1</td>\n",
       "      <td>TEST</td>\n",
       "      <td>11</td>\n",
       "      <td>4</td>\n",
       "      <td>8</td>\n",
       "      <td>14.0</td>\n",
       "    </tr>\n",
       "    <tr>\n",
       "      <td>11</td>\n",
       "      <td>2168274</td>\n",
       "      <td>2</td>\n",
       "      <td>TRAIN</td>\n",
       "      <td>1</td>\n",
       "      <td>2</td>\n",
       "      <td>11</td>\n",
       "      <td>NaN</td>\n",
       "    </tr>\n",
       "    <tr>\n",
       "      <td>12</td>\n",
       "      <td>1501582</td>\n",
       "      <td>2</td>\n",
       "      <td>TRAIN</td>\n",
       "      <td>2</td>\n",
       "      <td>5</td>\n",
       "      <td>10</td>\n",
       "      <td>10.0</td>\n",
       "    </tr>\n",
       "    <tr>\n",
       "      <td>13</td>\n",
       "      <td>1901567</td>\n",
       "      <td>2</td>\n",
       "      <td>TRAIN</td>\n",
       "      <td>3</td>\n",
       "      <td>1</td>\n",
       "      <td>10</td>\n",
       "      <td>3.0</td>\n",
       "    </tr>\n",
       "    <tr>\n",
       "      <td>14</td>\n",
       "      <td>738281</td>\n",
       "      <td>2</td>\n",
       "      <td>TRAIN</td>\n",
       "      <td>4</td>\n",
       "      <td>2</td>\n",
       "      <td>10</td>\n",
       "      <td>8.0</td>\n",
       "    </tr>\n",
       "    <tr>\n",
       "      <td>15</td>\n",
       "      <td>1673511</td>\n",
       "      <td>2</td>\n",
       "      <td>TRAIN</td>\n",
       "      <td>5</td>\n",
       "      <td>3</td>\n",
       "      <td>11</td>\n",
       "      <td>8.0</td>\n",
       "    </tr>\n",
       "    <tr>\n",
       "      <td>16</td>\n",
       "      <td>1199898</td>\n",
       "      <td>2</td>\n",
       "      <td>TRAIN</td>\n",
       "      <td>6</td>\n",
       "      <td>2</td>\n",
       "      <td>9</td>\n",
       "      <td>13.0</td>\n",
       "    </tr>\n",
       "    <tr>\n",
       "      <td>17</td>\n",
       "      <td>3194192</td>\n",
       "      <td>2</td>\n",
       "      <td>TRAIN</td>\n",
       "      <td>7</td>\n",
       "      <td>2</td>\n",
       "      <td>12</td>\n",
       "      <td>14.0</td>\n",
       "    </tr>\n",
       "    <tr>\n",
       "      <td>18</td>\n",
       "      <td>788338</td>\n",
       "      <td>2</td>\n",
       "      <td>TRAIN</td>\n",
       "      <td>8</td>\n",
       "      <td>1</td>\n",
       "      <td>15</td>\n",
       "      <td>27.0</td>\n",
       "    </tr>\n",
       "    <tr>\n",
       "      <td>19</td>\n",
       "      <td>1718559</td>\n",
       "      <td>2</td>\n",
       "      <td>TRAIN</td>\n",
       "      <td>9</td>\n",
       "      <td>2</td>\n",
       "      <td>9</td>\n",
       "      <td>8.0</td>\n",
       "    </tr>\n",
       "    <tr>\n",
       "      <td>20</td>\n",
       "      <td>1447487</td>\n",
       "      <td>2</td>\n",
       "      <td>TRAIN</td>\n",
       "      <td>10</td>\n",
       "      <td>1</td>\n",
       "      <td>11</td>\n",
       "      <td>6.0</td>\n",
       "    </tr>\n",
       "    <tr>\n",
       "      <td>21</td>\n",
       "      <td>1402090</td>\n",
       "      <td>2</td>\n",
       "      <td>TRAIN</td>\n",
       "      <td>11</td>\n",
       "      <td>1</td>\n",
       "      <td>10</td>\n",
       "      <td>30.0</td>\n",
       "    </tr>\n",
       "    <tr>\n",
       "      <td>22</td>\n",
       "      <td>3186735</td>\n",
       "      <td>2</td>\n",
       "      <td>TRAIN</td>\n",
       "      <td>12</td>\n",
       "      <td>1</td>\n",
       "      <td>9</td>\n",
       "      <td>28.0</td>\n",
       "    </tr>\n",
       "    <tr>\n",
       "      <td>23</td>\n",
       "      <td>3268552</td>\n",
       "      <td>2</td>\n",
       "      <td>TRAIN</td>\n",
       "      <td>13</td>\n",
       "      <td>4</td>\n",
       "      <td>11</td>\n",
       "      <td>30.0</td>\n",
       "    </tr>\n",
       "    <tr>\n",
       "      <td>24</td>\n",
       "      <td>839880</td>\n",
       "      <td>2</td>\n",
       "      <td>TRAIN</td>\n",
       "      <td>14</td>\n",
       "      <td>3</td>\n",
       "      <td>10</td>\n",
       "      <td>13.0</td>\n",
       "    </tr>\n",
       "    <tr>\n",
       "      <td>25</td>\n",
       "      <td>1492625</td>\n",
       "      <td>2</td>\n",
       "      <td>TEST</td>\n",
       "      <td>15</td>\n",
       "      <td>1</td>\n",
       "      <td>11</td>\n",
       "      <td>30.0</td>\n",
       "    </tr>\n",
       "  </tbody>\n",
       "</table>\n",
       "</div>"
      ],
      "text/plain": [
       "    order_id  user_id eval_set  order_number  order_dow  order_hour_of_day  \\\n",
       "0    2539329        1    TRAIN             1          2                  8   \n",
       "1    2398795        1    TRAIN             2          3                  7   \n",
       "2     473747        1    TRAIN             3          3                 12   \n",
       "3    2254736        1    TRAIN             4          4                  7   \n",
       "4     431534        1    TRAIN             5          4                 15   \n",
       "5    3367565        1    TRAIN             6          2                  7   \n",
       "6     550135        1    TRAIN             7          1                  9   \n",
       "7    3108588        1    TRAIN             8          1                 14   \n",
       "8    2295261        1    TRAIN             9          1                 16   \n",
       "9    2550362        1    TRAIN            10          4                  8   \n",
       "10   1187899        1     TEST            11          4                  8   \n",
       "11   2168274        2    TRAIN             1          2                 11   \n",
       "12   1501582        2    TRAIN             2          5                 10   \n",
       "13   1901567        2    TRAIN             3          1                 10   \n",
       "14    738281        2    TRAIN             4          2                 10   \n",
       "15   1673511        2    TRAIN             5          3                 11   \n",
       "16   1199898        2    TRAIN             6          2                  9   \n",
       "17   3194192        2    TRAIN             7          2                 12   \n",
       "18    788338        2    TRAIN             8          1                 15   \n",
       "19   1718559        2    TRAIN             9          2                  9   \n",
       "20   1447487        2    TRAIN            10          1                 11   \n",
       "21   1402090        2    TRAIN            11          1                 10   \n",
       "22   3186735        2    TRAIN            12          1                  9   \n",
       "23   3268552        2    TRAIN            13          4                 11   \n",
       "24    839880        2    TRAIN            14          3                 10   \n",
       "25   1492625        2     TEST            15          1                 11   \n",
       "\n",
       "    days_since_prior_order  \n",
       "0                      NaN  \n",
       "1                     15.0  \n",
       "2                     21.0  \n",
       "3                     29.0  \n",
       "4                     28.0  \n",
       "5                     19.0  \n",
       "6                     20.0  \n",
       "7                     14.0  \n",
       "8                      0.0  \n",
       "9                     30.0  \n",
       "10                    14.0  \n",
       "11                     NaN  \n",
       "12                    10.0  \n",
       "13                     3.0  \n",
       "14                     8.0  \n",
       "15                     8.0  \n",
       "16                    13.0  \n",
       "17                    14.0  \n",
       "18                    27.0  \n",
       "19                     8.0  \n",
       "20                     6.0  \n",
       "21                    30.0  \n",
       "22                    28.0  \n",
       "23                    30.0  \n",
       "24                    13.0  \n",
       "25                    30.0  "
      ]
     },
     "execution_count": 18,
     "metadata": {
      "tags": []
     },
     "output_type": "execute_result"
    }
   ],
   "source": [
    "orders_available.head(26)"
   ]
  },
  {
   "cell_type": "markdown",
   "metadata": {
    "id": "-_6sNHiTwy3a"
   },
   "source": [
    "Так как по заданию нам необходимо в качестве тестового набора использовать последний заказ каждого пользователя, то для начала я решила объединить все данные, в потом выделить оттуда последние заказы.  \n",
    "Помимо этого я сразу объединила все таблицы (заказы, продукты, отделы, торговые ряды, продукты в заказах) в один большой датафрейм, чтобы в дальнейшем работать с одним объектом, содержащем всю имеющуюся информацию."
   ]
  },
  {
   "cell_type": "code",
   "execution_count": null,
   "metadata": {
    "id": "CqvRML9Awxef"
   },
   "outputs": [],
   "source": [
    "order_products = pd.concat([order_products__prior, order_products__train])"
   ]
  },
  {
   "cell_type": "code",
   "execution_count": null,
   "metadata": {
    "colab": {
     "base_uri": "https://localhost:8080/",
     "height": 204
    },
    "id": "dB8jIcl4wxmR",
    "outputId": "387fe626-c3de-4654-f1b3-367064acad0b"
   },
   "outputs": [
    {
     "data": {
      "text/html": [
       "<div>\n",
       "<style scoped>\n",
       "    .dataframe tbody tr th:only-of-type {\n",
       "        vertical-align: middle;\n",
       "    }\n",
       "\n",
       "    .dataframe tbody tr th {\n",
       "        vertical-align: top;\n",
       "    }\n",
       "\n",
       "    .dataframe thead th {\n",
       "        text-align: right;\n",
       "    }\n",
       "</style>\n",
       "<table border=\"1\" class=\"dataframe\">\n",
       "  <thead>\n",
       "    <tr style=\"text-align: right;\">\n",
       "      <th></th>\n",
       "      <th>order_id</th>\n",
       "      <th>product_id</th>\n",
       "      <th>add_to_cart_order</th>\n",
       "      <th>reordered</th>\n",
       "    </tr>\n",
       "  </thead>\n",
       "  <tbody>\n",
       "    <tr>\n",
       "      <td>0</td>\n",
       "      <td>2</td>\n",
       "      <td>33120</td>\n",
       "      <td>1</td>\n",
       "      <td>1</td>\n",
       "    </tr>\n",
       "    <tr>\n",
       "      <td>1</td>\n",
       "      <td>2</td>\n",
       "      <td>28985</td>\n",
       "      <td>2</td>\n",
       "      <td>1</td>\n",
       "    </tr>\n",
       "    <tr>\n",
       "      <td>2</td>\n",
       "      <td>2</td>\n",
       "      <td>9327</td>\n",
       "      <td>3</td>\n",
       "      <td>0</td>\n",
       "    </tr>\n",
       "    <tr>\n",
       "      <td>3</td>\n",
       "      <td>2</td>\n",
       "      <td>45918</td>\n",
       "      <td>4</td>\n",
       "      <td>1</td>\n",
       "    </tr>\n",
       "    <tr>\n",
       "      <td>4</td>\n",
       "      <td>2</td>\n",
       "      <td>30035</td>\n",
       "      <td>5</td>\n",
       "      <td>0</td>\n",
       "    </tr>\n",
       "  </tbody>\n",
       "</table>\n",
       "</div>"
      ],
      "text/plain": [
       "   order_id  product_id  add_to_cart_order  reordered\n",
       "0         2       33120                  1          1\n",
       "1         2       28985                  2          1\n",
       "2         2        9327                  3          0\n",
       "3         2       45918                  4          1\n",
       "4         2       30035                  5          0"
      ]
     },
     "execution_count": 11,
     "metadata": {
      "tags": []
     },
     "output_type": "execute_result"
    }
   ],
   "source": [
    "order_products.head()"
   ]
  },
  {
   "cell_type": "markdown",
   "metadata": {
    "id": "-fukx8vLhjgy"
   },
   "source": [
    "Соберем данные в один большой датафрейм:"
   ]
  },
  {
   "cell_type": "code",
   "execution_count": null,
   "metadata": {
    "id": "ukTIljc86WkF"
   },
   "outputs": [],
   "source": [
    "df_full = order_products.merge(products, on ='product_id').merge(aisles, on='aisle_id').merge(departments, on='department_id').merge(orders_available, on='order_id')"
   ]
  },
  {
   "cell_type": "code",
   "execution_count": null,
   "metadata": {
    "id": "mAJXXlewZdXN"
   },
   "outputs": [],
   "source": [
    "df_full = df_full[['user_id', 'order_id', 'eval_set', 'order_number', 'order_dow', 'order_hour_of_day', 'days_since_prior_order',\n",
    "                   'product_id', 'product_name', 'add_to_cart_order', 'reordered', \n",
    "                   'aisle_id', 'aisle', 'department_id', 'department']]"
   ]
  },
  {
   "cell_type": "code",
   "execution_count": null,
   "metadata": {
    "id": "SY-RRdkkfzrc"
   },
   "outputs": [],
   "source": [
    "df_full = df_full.sort_values(by=['user_id', 'order_number', 'add_to_cart_order'])"
   ]
  },
  {
   "cell_type": "code",
   "execution_count": null,
   "metadata": {
    "id": "4aOdwa3MSyKl",
    "outputId": "c7c6aff5-14fd-459b-896d-49e8888baa41"
   },
   "outputs": [
    {
     "data": {
      "text/html": [
       "<div>\n",
       "<style scoped>\n",
       "    .dataframe tbody tr th:only-of-type {\n",
       "        vertical-align: middle;\n",
       "    }\n",
       "\n",
       "    .dataframe tbody tr th {\n",
       "        vertical-align: top;\n",
       "    }\n",
       "\n",
       "    .dataframe thead th {\n",
       "        text-align: right;\n",
       "    }\n",
       "</style>\n",
       "<table border=\"1\" class=\"dataframe\">\n",
       "  <thead>\n",
       "    <tr style=\"text-align: right;\">\n",
       "      <th></th>\n",
       "      <th>user_id</th>\n",
       "      <th>order_id</th>\n",
       "      <th>eval_set</th>\n",
       "      <th>order_number</th>\n",
       "      <th>order_dow</th>\n",
       "      <th>order_hour_of_day</th>\n",
       "      <th>days_since_prior_order</th>\n",
       "      <th>product_id</th>\n",
       "      <th>product_name</th>\n",
       "      <th>add_to_cart_order</th>\n",
       "      <th>reordered</th>\n",
       "      <th>aisle_id</th>\n",
       "      <th>aisle</th>\n",
       "      <th>department_id</th>\n",
       "      <th>department</th>\n",
       "    </tr>\n",
       "  </thead>\n",
       "  <tbody>\n",
       "    <tr>\n",
       "      <td>18735404</td>\n",
       "      <td>1</td>\n",
       "      <td>2539329</td>\n",
       "      <td>TRAIN</td>\n",
       "      <td>1</td>\n",
       "      <td>2</td>\n",
       "      <td>8</td>\n",
       "      <td>NaN</td>\n",
       "      <td>196</td>\n",
       "      <td>Soda</td>\n",
       "      <td>1</td>\n",
       "      <td>0</td>\n",
       "      <td>77</td>\n",
       "      <td>soft drinks</td>\n",
       "      <td>7</td>\n",
       "      <td>beverages</td>\n",
       "    </tr>\n",
       "    <tr>\n",
       "      <td>18735401</td>\n",
       "      <td>1</td>\n",
       "      <td>2539329</td>\n",
       "      <td>TRAIN</td>\n",
       "      <td>1</td>\n",
       "      <td>2</td>\n",
       "      <td>8</td>\n",
       "      <td>NaN</td>\n",
       "      <td>14084</td>\n",
       "      <td>Organic Unsweetened Vanilla Almond Milk</td>\n",
       "      <td>2</td>\n",
       "      <td>0</td>\n",
       "      <td>91</td>\n",
       "      <td>soy lactosefree</td>\n",
       "      <td>16</td>\n",
       "      <td>dairy eggs</td>\n",
       "    </tr>\n",
       "    <tr>\n",
       "      <td>18735403</td>\n",
       "      <td>1</td>\n",
       "      <td>2539329</td>\n",
       "      <td>TRAIN</td>\n",
       "      <td>1</td>\n",
       "      <td>2</td>\n",
       "      <td>8</td>\n",
       "      <td>NaN</td>\n",
       "      <td>12427</td>\n",
       "      <td>Original Beef Jerky</td>\n",
       "      <td>3</td>\n",
       "      <td>0</td>\n",
       "      <td>23</td>\n",
       "      <td>popcorn jerky</td>\n",
       "      <td>19</td>\n",
       "      <td>snacks</td>\n",
       "    </tr>\n",
       "    <tr>\n",
       "      <td>18735402</td>\n",
       "      <td>1</td>\n",
       "      <td>2539329</td>\n",
       "      <td>TRAIN</td>\n",
       "      <td>1</td>\n",
       "      <td>2</td>\n",
       "      <td>8</td>\n",
       "      <td>NaN</td>\n",
       "      <td>26088</td>\n",
       "      <td>Aged White Cheddar Popcorn</td>\n",
       "      <td>4</td>\n",
       "      <td>0</td>\n",
       "      <td>23</td>\n",
       "      <td>popcorn jerky</td>\n",
       "      <td>19</td>\n",
       "      <td>snacks</td>\n",
       "    </tr>\n",
       "    <tr>\n",
       "      <td>18735405</td>\n",
       "      <td>1</td>\n",
       "      <td>2539329</td>\n",
       "      <td>TRAIN</td>\n",
       "      <td>1</td>\n",
       "      <td>2</td>\n",
       "      <td>8</td>\n",
       "      <td>NaN</td>\n",
       "      <td>26405</td>\n",
       "      <td>XL Pick-A-Size Paper Towel Rolls</td>\n",
       "      <td>5</td>\n",
       "      <td>0</td>\n",
       "      <td>54</td>\n",
       "      <td>paper goods</td>\n",
       "      <td>17</td>\n",
       "      <td>household</td>\n",
       "    </tr>\n",
       "  </tbody>\n",
       "</table>\n",
       "</div>"
      ],
      "text/plain": [
       "          user_id  order_id eval_set  order_number  order_dow  \\\n",
       "18735404        1   2539329    TRAIN             1          2   \n",
       "18735401        1   2539329    TRAIN             1          2   \n",
       "18735403        1   2539329    TRAIN             1          2   \n",
       "18735402        1   2539329    TRAIN             1          2   \n",
       "18735405        1   2539329    TRAIN             1          2   \n",
       "\n",
       "          order_hour_of_day  days_since_prior_order  product_id  \\\n",
       "18735404                  8                     NaN         196   \n",
       "18735401                  8                     NaN       14084   \n",
       "18735403                  8                     NaN       12427   \n",
       "18735402                  8                     NaN       26088   \n",
       "18735405                  8                     NaN       26405   \n",
       "\n",
       "                                     product_name  add_to_cart_order  \\\n",
       "18735404                                     Soda                  1   \n",
       "18735401  Organic Unsweetened Vanilla Almond Milk                  2   \n",
       "18735403                      Original Beef Jerky                  3   \n",
       "18735402               Aged White Cheddar Popcorn                  4   \n",
       "18735405         XL Pick-A-Size Paper Towel Rolls                  5   \n",
       "\n",
       "          reordered  aisle_id            aisle  department_id  department  \n",
       "18735404          0        77      soft drinks              7   beverages  \n",
       "18735401          0        91  soy lactosefree             16  dairy eggs  \n",
       "18735403          0        23    popcorn jerky             19      snacks  \n",
       "18735402          0        23    popcorn jerky             19      snacks  \n",
       "18735405          0        54      paper goods             17   household  "
      ]
     },
     "execution_count": 16,
     "metadata": {
      "tags": []
     },
     "output_type": "execute_result"
    }
   ],
   "source": [
    "df_full.head()"
   ]
  },
  {
   "cell_type": "code",
   "execution_count": null,
   "metadata": {
    "id": "as19iqnsVzat"
   },
   "outputs": [],
   "source": [
    "df_full.to_csv('data/full_data.csv')"
   ]
  },
  {
   "cell_type": "code",
   "execution_count": null,
   "metadata": {
    "id": "s0XkZGhJSyKm"
   },
   "outputs": [],
   "source": []
  },
  {
   "cell_type": "code",
   "execution_count": null,
   "metadata": {
    "id": "ovZKBg0_hrc9",
    "outputId": "19450f8f-bae1-4d8b-9ecc-d5a8dcf159a0"
   },
   "outputs": [
    {
     "data": {
      "text/html": [
       "<div>\n",
       "<style scoped>\n",
       "    .dataframe tbody tr th:only-of-type {\n",
       "        vertical-align: middle;\n",
       "    }\n",
       "\n",
       "    .dataframe tbody tr th {\n",
       "        vertical-align: top;\n",
       "    }\n",
       "\n",
       "    .dataframe thead th {\n",
       "        text-align: right;\n",
       "    }\n",
       "</style>\n",
       "<table border=\"1\" class=\"dataframe\">\n",
       "  <thead>\n",
       "    <tr style=\"text-align: right;\">\n",
       "      <th></th>\n",
       "      <th>user_id</th>\n",
       "      <th>order_id</th>\n",
       "      <th>eval_set</th>\n",
       "      <th>order_number</th>\n",
       "      <th>order_dow</th>\n",
       "      <th>order_hour_of_day</th>\n",
       "      <th>days_since_prior_order</th>\n",
       "      <th>product_id</th>\n",
       "      <th>product_name</th>\n",
       "      <th>add_to_cart_order</th>\n",
       "      <th>reordered</th>\n",
       "      <th>aisle_id</th>\n",
       "      <th>aisle</th>\n",
       "      <th>department_id</th>\n",
       "      <th>department</th>\n",
       "    </tr>\n",
       "  </thead>\n",
       "  <tbody>\n",
       "    <tr>\n",
       "      <td>0</td>\n",
       "      <td>1</td>\n",
       "      <td>2539329</td>\n",
       "      <td>TRAIN</td>\n",
       "      <td>1</td>\n",
       "      <td>2</td>\n",
       "      <td>8</td>\n",
       "      <td>NaN</td>\n",
       "      <td>196</td>\n",
       "      <td>Soda</td>\n",
       "      <td>1</td>\n",
       "      <td>0</td>\n",
       "      <td>77</td>\n",
       "      <td>soft drinks</td>\n",
       "      <td>7</td>\n",
       "      <td>beverages</td>\n",
       "    </tr>\n",
       "    <tr>\n",
       "      <td>1</td>\n",
       "      <td>1</td>\n",
       "      <td>2539329</td>\n",
       "      <td>TRAIN</td>\n",
       "      <td>1</td>\n",
       "      <td>2</td>\n",
       "      <td>8</td>\n",
       "      <td>NaN</td>\n",
       "      <td>14084</td>\n",
       "      <td>Organic Unsweetened Vanilla Almond Milk</td>\n",
       "      <td>2</td>\n",
       "      <td>0</td>\n",
       "      <td>91</td>\n",
       "      <td>soy lactosefree</td>\n",
       "      <td>16</td>\n",
       "      <td>dairy eggs</td>\n",
       "    </tr>\n",
       "    <tr>\n",
       "      <td>2</td>\n",
       "      <td>1</td>\n",
       "      <td>2539329</td>\n",
       "      <td>TRAIN</td>\n",
       "      <td>1</td>\n",
       "      <td>2</td>\n",
       "      <td>8</td>\n",
       "      <td>NaN</td>\n",
       "      <td>12427</td>\n",
       "      <td>Original Beef Jerky</td>\n",
       "      <td>3</td>\n",
       "      <td>0</td>\n",
       "      <td>23</td>\n",
       "      <td>popcorn jerky</td>\n",
       "      <td>19</td>\n",
       "      <td>snacks</td>\n",
       "    </tr>\n",
       "    <tr>\n",
       "      <td>3</td>\n",
       "      <td>1</td>\n",
       "      <td>2539329</td>\n",
       "      <td>TRAIN</td>\n",
       "      <td>1</td>\n",
       "      <td>2</td>\n",
       "      <td>8</td>\n",
       "      <td>NaN</td>\n",
       "      <td>26088</td>\n",
       "      <td>Aged White Cheddar Popcorn</td>\n",
       "      <td>4</td>\n",
       "      <td>0</td>\n",
       "      <td>23</td>\n",
       "      <td>popcorn jerky</td>\n",
       "      <td>19</td>\n",
       "      <td>snacks</td>\n",
       "    </tr>\n",
       "    <tr>\n",
       "      <td>4</td>\n",
       "      <td>1</td>\n",
       "      <td>2539329</td>\n",
       "      <td>TRAIN</td>\n",
       "      <td>1</td>\n",
       "      <td>2</td>\n",
       "      <td>8</td>\n",
       "      <td>NaN</td>\n",
       "      <td>26405</td>\n",
       "      <td>XL Pick-A-Size Paper Towel Rolls</td>\n",
       "      <td>5</td>\n",
       "      <td>0</td>\n",
       "      <td>54</td>\n",
       "      <td>paper goods</td>\n",
       "      <td>17</td>\n",
       "      <td>household</td>\n",
       "    </tr>\n",
       "  </tbody>\n",
       "</table>\n",
       "</div>"
      ],
      "text/plain": [
       "   user_id  order_id eval_set  order_number  order_dow  order_hour_of_day  \\\n",
       "0        1   2539329    TRAIN             1          2                  8   \n",
       "1        1   2539329    TRAIN             1          2                  8   \n",
       "2        1   2539329    TRAIN             1          2                  8   \n",
       "3        1   2539329    TRAIN             1          2                  8   \n",
       "4        1   2539329    TRAIN             1          2                  8   \n",
       "\n",
       "   days_since_prior_order  product_id  \\\n",
       "0                     NaN         196   \n",
       "1                     NaN       14084   \n",
       "2                     NaN       12427   \n",
       "3                     NaN       26088   \n",
       "4                     NaN       26405   \n",
       "\n",
       "                              product_name  add_to_cart_order  reordered  \\\n",
       "0                                     Soda                  1          0   \n",
       "1  Organic Unsweetened Vanilla Almond Milk                  2          0   \n",
       "2                      Original Beef Jerky                  3          0   \n",
       "3               Aged White Cheddar Popcorn                  4          0   \n",
       "4         XL Pick-A-Size Paper Towel Rolls                  5          0   \n",
       "\n",
       "   aisle_id            aisle  department_id  department  \n",
       "0        77      soft drinks              7   beverages  \n",
       "1        91  soy lactosefree             16  dairy eggs  \n",
       "2        23    popcorn jerky             19      snacks  \n",
       "3        23    popcorn jerky             19      snacks  \n",
       "4        54      paper goods             17   household  "
      ]
     },
     "execution_count": 21,
     "metadata": {
      "tags": []
     },
     "output_type": "execute_result"
    }
   ],
   "source": [
    "df_full = pd.read_csv('data/full_data.csv')\n",
    "df_full = df_full.drop(labels=['Unnamed: 0'], axis=1)\n",
    "df_full.head()"
   ]
  },
  {
   "cell_type": "markdown",
   "metadata": {
    "id": "Ip1QxnEJSyKo"
   },
   "source": [
    "Выделим наборы:"
   ]
  },
  {
   "cell_type": "code",
   "execution_count": null,
   "metadata": {
    "id": "VW4hnx_KSyKo",
    "outputId": "9db24625-c590-4c5d-b92b-4c17c3bfb7f5"
   },
   "outputs": [
    {
     "data": {
      "text/html": [
       "<div>\n",
       "<style scoped>\n",
       "    .dataframe tbody tr th:only-of-type {\n",
       "        vertical-align: middle;\n",
       "    }\n",
       "\n",
       "    .dataframe tbody tr th {\n",
       "        vertical-align: top;\n",
       "    }\n",
       "\n",
       "    .dataframe thead th {\n",
       "        text-align: right;\n",
       "    }\n",
       "</style>\n",
       "<table border=\"1\" class=\"dataframe\">\n",
       "  <thead>\n",
       "    <tr style=\"text-align: right;\">\n",
       "      <th></th>\n",
       "      <th>user_id</th>\n",
       "      <th>order_id</th>\n",
       "      <th>eval_set</th>\n",
       "      <th>order_number</th>\n",
       "      <th>order_dow</th>\n",
       "      <th>order_hour_of_day</th>\n",
       "      <th>days_since_prior_order</th>\n",
       "      <th>product_id</th>\n",
       "      <th>product_name</th>\n",
       "      <th>add_to_cart_order</th>\n",
       "      <th>reordered</th>\n",
       "      <th>aisle_id</th>\n",
       "      <th>aisle</th>\n",
       "      <th>department_id</th>\n",
       "      <th>department</th>\n",
       "    </tr>\n",
       "  </thead>\n",
       "  <tbody>\n",
       "    <tr>\n",
       "      <td>0</td>\n",
       "      <td>1</td>\n",
       "      <td>2539329</td>\n",
       "      <td>TRAIN</td>\n",
       "      <td>1</td>\n",
       "      <td>2</td>\n",
       "      <td>8</td>\n",
       "      <td>NaN</td>\n",
       "      <td>196</td>\n",
       "      <td>Soda</td>\n",
       "      <td>1</td>\n",
       "      <td>0</td>\n",
       "      <td>77</td>\n",
       "      <td>soft drinks</td>\n",
       "      <td>7</td>\n",
       "      <td>beverages</td>\n",
       "    </tr>\n",
       "    <tr>\n",
       "      <td>1</td>\n",
       "      <td>1</td>\n",
       "      <td>2539329</td>\n",
       "      <td>TRAIN</td>\n",
       "      <td>1</td>\n",
       "      <td>2</td>\n",
       "      <td>8</td>\n",
       "      <td>NaN</td>\n",
       "      <td>14084</td>\n",
       "      <td>Organic Unsweetened Vanilla Almond Milk</td>\n",
       "      <td>2</td>\n",
       "      <td>0</td>\n",
       "      <td>91</td>\n",
       "      <td>soy lactosefree</td>\n",
       "      <td>16</td>\n",
       "      <td>dairy eggs</td>\n",
       "    </tr>\n",
       "    <tr>\n",
       "      <td>2</td>\n",
       "      <td>1</td>\n",
       "      <td>2539329</td>\n",
       "      <td>TRAIN</td>\n",
       "      <td>1</td>\n",
       "      <td>2</td>\n",
       "      <td>8</td>\n",
       "      <td>NaN</td>\n",
       "      <td>12427</td>\n",
       "      <td>Original Beef Jerky</td>\n",
       "      <td>3</td>\n",
       "      <td>0</td>\n",
       "      <td>23</td>\n",
       "      <td>popcorn jerky</td>\n",
       "      <td>19</td>\n",
       "      <td>snacks</td>\n",
       "    </tr>\n",
       "    <tr>\n",
       "      <td>3</td>\n",
       "      <td>1</td>\n",
       "      <td>2539329</td>\n",
       "      <td>TRAIN</td>\n",
       "      <td>1</td>\n",
       "      <td>2</td>\n",
       "      <td>8</td>\n",
       "      <td>NaN</td>\n",
       "      <td>26088</td>\n",
       "      <td>Aged White Cheddar Popcorn</td>\n",
       "      <td>4</td>\n",
       "      <td>0</td>\n",
       "      <td>23</td>\n",
       "      <td>popcorn jerky</td>\n",
       "      <td>19</td>\n",
       "      <td>snacks</td>\n",
       "    </tr>\n",
       "    <tr>\n",
       "      <td>4</td>\n",
       "      <td>1</td>\n",
       "      <td>2539329</td>\n",
       "      <td>TRAIN</td>\n",
       "      <td>1</td>\n",
       "      <td>2</td>\n",
       "      <td>8</td>\n",
       "      <td>NaN</td>\n",
       "      <td>26405</td>\n",
       "      <td>XL Pick-A-Size Paper Towel Rolls</td>\n",
       "      <td>5</td>\n",
       "      <td>0</td>\n",
       "      <td>54</td>\n",
       "      <td>paper goods</td>\n",
       "      <td>17</td>\n",
       "      <td>household</td>\n",
       "    </tr>\n",
       "  </tbody>\n",
       "</table>\n",
       "</div>"
      ],
      "text/plain": [
       "   user_id  order_id eval_set  order_number  order_dow  order_hour_of_day  \\\n",
       "0        1   2539329    TRAIN             1          2                  8   \n",
       "1        1   2539329    TRAIN             1          2                  8   \n",
       "2        1   2539329    TRAIN             1          2                  8   \n",
       "3        1   2539329    TRAIN             1          2                  8   \n",
       "4        1   2539329    TRAIN             1          2                  8   \n",
       "\n",
       "   days_since_prior_order  product_id  \\\n",
       "0                     NaN         196   \n",
       "1                     NaN       14084   \n",
       "2                     NaN       12427   \n",
       "3                     NaN       26088   \n",
       "4                     NaN       26405   \n",
       "\n",
       "                              product_name  add_to_cart_order  reordered  \\\n",
       "0                                     Soda                  1          0   \n",
       "1  Organic Unsweetened Vanilla Almond Milk                  2          0   \n",
       "2                      Original Beef Jerky                  3          0   \n",
       "3               Aged White Cheddar Popcorn                  4          0   \n",
       "4         XL Pick-A-Size Paper Towel Rolls                  5          0   \n",
       "\n",
       "   aisle_id            aisle  department_id  department  \n",
       "0        77      soft drinks              7   beverages  \n",
       "1        91  soy lactosefree             16  dairy eggs  \n",
       "2        23    popcorn jerky             19      snacks  \n",
       "3        23    popcorn jerky             19      snacks  \n",
       "4        54      paper goods             17   household  "
      ]
     },
     "execution_count": 22,
     "metadata": {
      "tags": []
     },
     "output_type": "execute_result"
    }
   ],
   "source": [
    "df_full_train = df_full.loc[~df_full['order_id'].isin(order_id_test)]\n",
    "df_full_train.head()"
   ]
  },
  {
   "cell_type": "code",
   "execution_count": null,
   "metadata": {
    "id": "0k33jVfYSyKp",
    "outputId": "05e816fc-e822-4463-fa5b-f7f186c3f399"
   },
   "outputs": [
    {
     "data": {
      "text/html": [
       "<div>\n",
       "<style scoped>\n",
       "    .dataframe tbody tr th:only-of-type {\n",
       "        vertical-align: middle;\n",
       "    }\n",
       "\n",
       "    .dataframe tbody tr th {\n",
       "        vertical-align: top;\n",
       "    }\n",
       "\n",
       "    .dataframe thead th {\n",
       "        text-align: right;\n",
       "    }\n",
       "</style>\n",
       "<table border=\"1\" class=\"dataframe\">\n",
       "  <thead>\n",
       "    <tr style=\"text-align: right;\">\n",
       "      <th></th>\n",
       "      <th>user_id</th>\n",
       "      <th>order_id</th>\n",
       "      <th>eval_set</th>\n",
       "      <th>order_number</th>\n",
       "      <th>order_dow</th>\n",
       "      <th>order_hour_of_day</th>\n",
       "      <th>days_since_prior_order</th>\n",
       "      <th>product_id</th>\n",
       "      <th>product_name</th>\n",
       "      <th>add_to_cart_order</th>\n",
       "      <th>reordered</th>\n",
       "      <th>aisle_id</th>\n",
       "      <th>aisle</th>\n",
       "      <th>department_id</th>\n",
       "      <th>department</th>\n",
       "    </tr>\n",
       "  </thead>\n",
       "  <tbody>\n",
       "    <tr>\n",
       "      <td>59</td>\n",
       "      <td>1</td>\n",
       "      <td>1187899</td>\n",
       "      <td>TEST</td>\n",
       "      <td>11</td>\n",
       "      <td>4</td>\n",
       "      <td>8</td>\n",
       "      <td>14.0</td>\n",
       "      <td>196</td>\n",
       "      <td>Soda</td>\n",
       "      <td>1</td>\n",
       "      <td>1</td>\n",
       "      <td>77</td>\n",
       "      <td>soft drinks</td>\n",
       "      <td>7</td>\n",
       "      <td>beverages</td>\n",
       "    </tr>\n",
       "    <tr>\n",
       "      <td>60</td>\n",
       "      <td>1</td>\n",
       "      <td>1187899</td>\n",
       "      <td>TEST</td>\n",
       "      <td>11</td>\n",
       "      <td>4</td>\n",
       "      <td>8</td>\n",
       "      <td>14.0</td>\n",
       "      <td>25133</td>\n",
       "      <td>Organic String Cheese</td>\n",
       "      <td>2</td>\n",
       "      <td>1</td>\n",
       "      <td>21</td>\n",
       "      <td>packaged cheese</td>\n",
       "      <td>16</td>\n",
       "      <td>dairy eggs</td>\n",
       "    </tr>\n",
       "    <tr>\n",
       "      <td>61</td>\n",
       "      <td>1</td>\n",
       "      <td>1187899</td>\n",
       "      <td>TEST</td>\n",
       "      <td>11</td>\n",
       "      <td>4</td>\n",
       "      <td>8</td>\n",
       "      <td>14.0</td>\n",
       "      <td>38928</td>\n",
       "      <td>0% Greek Strained Yogurt</td>\n",
       "      <td>3</td>\n",
       "      <td>1</td>\n",
       "      <td>120</td>\n",
       "      <td>yogurt</td>\n",
       "      <td>16</td>\n",
       "      <td>dairy eggs</td>\n",
       "    </tr>\n",
       "    <tr>\n",
       "      <td>62</td>\n",
       "      <td>1</td>\n",
       "      <td>1187899</td>\n",
       "      <td>TEST</td>\n",
       "      <td>11</td>\n",
       "      <td>4</td>\n",
       "      <td>8</td>\n",
       "      <td>14.0</td>\n",
       "      <td>26405</td>\n",
       "      <td>XL Pick-A-Size Paper Towel Rolls</td>\n",
       "      <td>4</td>\n",
       "      <td>1</td>\n",
       "      <td>54</td>\n",
       "      <td>paper goods</td>\n",
       "      <td>17</td>\n",
       "      <td>household</td>\n",
       "    </tr>\n",
       "    <tr>\n",
       "      <td>63</td>\n",
       "      <td>1</td>\n",
       "      <td>1187899</td>\n",
       "      <td>TEST</td>\n",
       "      <td>11</td>\n",
       "      <td>4</td>\n",
       "      <td>8</td>\n",
       "      <td>14.0</td>\n",
       "      <td>39657</td>\n",
       "      <td>Milk Chocolate Almonds</td>\n",
       "      <td>5</td>\n",
       "      <td>1</td>\n",
       "      <td>45</td>\n",
       "      <td>candy chocolate</td>\n",
       "      <td>19</td>\n",
       "      <td>snacks</td>\n",
       "    </tr>\n",
       "  </tbody>\n",
       "</table>\n",
       "</div>"
      ],
      "text/plain": [
       "    user_id  order_id eval_set  order_number  order_dow  order_hour_of_day  \\\n",
       "59        1   1187899     TEST            11          4                  8   \n",
       "60        1   1187899     TEST            11          4                  8   \n",
       "61        1   1187899     TEST            11          4                  8   \n",
       "62        1   1187899     TEST            11          4                  8   \n",
       "63        1   1187899     TEST            11          4                  8   \n",
       "\n",
       "    days_since_prior_order  product_id                      product_name  \\\n",
       "59                    14.0         196                              Soda   \n",
       "60                    14.0       25133             Organic String Cheese   \n",
       "61                    14.0       38928          0% Greek Strained Yogurt   \n",
       "62                    14.0       26405  XL Pick-A-Size Paper Towel Rolls   \n",
       "63                    14.0       39657            Milk Chocolate Almonds   \n",
       "\n",
       "    add_to_cart_order  reordered  aisle_id            aisle  department_id  \\\n",
       "59                  1          1        77      soft drinks              7   \n",
       "60                  2          1        21  packaged cheese             16   \n",
       "61                  3          1       120           yogurt             16   \n",
       "62                  4          1        54      paper goods             17   \n",
       "63                  5          1        45  candy chocolate             19   \n",
       "\n",
       "    department  \n",
       "59   beverages  \n",
       "60  dairy eggs  \n",
       "61  dairy eggs  \n",
       "62   household  \n",
       "63      snacks  "
      ]
     },
     "execution_count": 23,
     "metadata": {
      "tags": []
     },
     "output_type": "execute_result"
    }
   ],
   "source": [
    "df_full_test = df_full.loc[df_full['order_id'].isin(order_id_test)]\n",
    "df_full_test.head()"
   ]
  },
  {
   "cell_type": "code",
   "execution_count": null,
   "metadata": {
    "id": "k5KSjL1XLkmX"
   },
   "outputs": [],
   "source": [
    "df_full_train.to_csv('data/full_data_train.csv')"
   ]
  },
  {
   "cell_type": "code",
   "execution_count": null,
   "metadata": {
    "id": "fRSLGuLBMdI2"
   },
   "outputs": [],
   "source": [
    "df_full_test.to_csv('data/full_data_test.csv')"
   ]
  },
  {
   "cell_type": "code",
   "execution_count": null,
   "metadata": {
    "id": "3QgexdmXSyKq"
   },
   "outputs": [],
   "source": []
  },
  {
   "cell_type": "code",
   "execution_count": null,
   "metadata": {
    "id": "78vAYBrZMdWd"
   },
   "outputs": [],
   "source": [
    "df_full_train = pd.read_csv('data/full_data_train.csv')\n",
    "df_full_train = df_full_train.drop(labels=['Unnamed: 0'], axis=1)"
   ]
  },
  {
   "cell_type": "code",
   "execution_count": null,
   "metadata": {
    "colab": {
     "base_uri": "https://localhost:8080/",
     "height": 360
    },
    "id": "D_qXaz30M9H7",
    "outputId": "ba97a26d-e0f7-4f27-b401-419c299a34f8"
   },
   "outputs": [
    {
     "data": {
      "text/html": [
       "<div>\n",
       "<style scoped>\n",
       "    .dataframe tbody tr th:only-of-type {\n",
       "        vertical-align: middle;\n",
       "    }\n",
       "\n",
       "    .dataframe tbody tr th {\n",
       "        vertical-align: top;\n",
       "    }\n",
       "\n",
       "    .dataframe thead th {\n",
       "        text-align: right;\n",
       "    }\n",
       "</style>\n",
       "<table border=\"1\" class=\"dataframe\">\n",
       "  <thead>\n",
       "    <tr style=\"text-align: right;\">\n",
       "      <th></th>\n",
       "      <th>user_id</th>\n",
       "      <th>order_id</th>\n",
       "      <th>eval_set</th>\n",
       "      <th>order_number</th>\n",
       "      <th>order_dow</th>\n",
       "      <th>order_hour_of_day</th>\n",
       "      <th>days_since_prior_order</th>\n",
       "      <th>product_id</th>\n",
       "      <th>product_name</th>\n",
       "      <th>add_to_cart_order</th>\n",
       "      <th>reordered</th>\n",
       "      <th>aisle_id</th>\n",
       "      <th>aisle</th>\n",
       "      <th>department_id</th>\n",
       "      <th>department</th>\n",
       "    </tr>\n",
       "  </thead>\n",
       "  <tbody>\n",
       "    <tr>\n",
       "      <td>0</td>\n",
       "      <td>1</td>\n",
       "      <td>2539329</td>\n",
       "      <td>TRAIN</td>\n",
       "      <td>1</td>\n",
       "      <td>2</td>\n",
       "      <td>8</td>\n",
       "      <td>NaN</td>\n",
       "      <td>196</td>\n",
       "      <td>Soda</td>\n",
       "      <td>1</td>\n",
       "      <td>0</td>\n",
       "      <td>77</td>\n",
       "      <td>soft drinks</td>\n",
       "      <td>7</td>\n",
       "      <td>beverages</td>\n",
       "    </tr>\n",
       "    <tr>\n",
       "      <td>1</td>\n",
       "      <td>1</td>\n",
       "      <td>2539329</td>\n",
       "      <td>TRAIN</td>\n",
       "      <td>1</td>\n",
       "      <td>2</td>\n",
       "      <td>8</td>\n",
       "      <td>NaN</td>\n",
       "      <td>14084</td>\n",
       "      <td>Organic Unsweetened Vanilla Almond Milk</td>\n",
       "      <td>2</td>\n",
       "      <td>0</td>\n",
       "      <td>91</td>\n",
       "      <td>soy lactosefree</td>\n",
       "      <td>16</td>\n",
       "      <td>dairy eggs</td>\n",
       "    </tr>\n",
       "    <tr>\n",
       "      <td>2</td>\n",
       "      <td>1</td>\n",
       "      <td>2539329</td>\n",
       "      <td>TRAIN</td>\n",
       "      <td>1</td>\n",
       "      <td>2</td>\n",
       "      <td>8</td>\n",
       "      <td>NaN</td>\n",
       "      <td>12427</td>\n",
       "      <td>Original Beef Jerky</td>\n",
       "      <td>3</td>\n",
       "      <td>0</td>\n",
       "      <td>23</td>\n",
       "      <td>popcorn jerky</td>\n",
       "      <td>19</td>\n",
       "      <td>snacks</td>\n",
       "    </tr>\n",
       "    <tr>\n",
       "      <td>3</td>\n",
       "      <td>1</td>\n",
       "      <td>2539329</td>\n",
       "      <td>TRAIN</td>\n",
       "      <td>1</td>\n",
       "      <td>2</td>\n",
       "      <td>8</td>\n",
       "      <td>NaN</td>\n",
       "      <td>26088</td>\n",
       "      <td>Aged White Cheddar Popcorn</td>\n",
       "      <td>4</td>\n",
       "      <td>0</td>\n",
       "      <td>23</td>\n",
       "      <td>popcorn jerky</td>\n",
       "      <td>19</td>\n",
       "      <td>snacks</td>\n",
       "    </tr>\n",
       "    <tr>\n",
       "      <td>4</td>\n",
       "      <td>1</td>\n",
       "      <td>2539329</td>\n",
       "      <td>TRAIN</td>\n",
       "      <td>1</td>\n",
       "      <td>2</td>\n",
       "      <td>8</td>\n",
       "      <td>NaN</td>\n",
       "      <td>26405</td>\n",
       "      <td>XL Pick-A-Size Paper Towel Rolls</td>\n",
       "      <td>5</td>\n",
       "      <td>0</td>\n",
       "      <td>54</td>\n",
       "      <td>paper goods</td>\n",
       "      <td>17</td>\n",
       "      <td>household</td>\n",
       "    </tr>\n",
       "  </tbody>\n",
       "</table>\n",
       "</div>"
      ],
      "text/plain": [
       "   user_id  order_id eval_set  order_number  order_dow  order_hour_of_day  \\\n",
       "0        1   2539329    TRAIN             1          2                  8   \n",
       "1        1   2539329    TRAIN             1          2                  8   \n",
       "2        1   2539329    TRAIN             1          2                  8   \n",
       "3        1   2539329    TRAIN             1          2                  8   \n",
       "4        1   2539329    TRAIN             1          2                  8   \n",
       "\n",
       "   days_since_prior_order  product_id  \\\n",
       "0                     NaN         196   \n",
       "1                     NaN       14084   \n",
       "2                     NaN       12427   \n",
       "3                     NaN       26088   \n",
       "4                     NaN       26405   \n",
       "\n",
       "                              product_name  add_to_cart_order  reordered  \\\n",
       "0                                     Soda                  1          0   \n",
       "1  Organic Unsweetened Vanilla Almond Milk                  2          0   \n",
       "2                      Original Beef Jerky                  3          0   \n",
       "3               Aged White Cheddar Popcorn                  4          0   \n",
       "4         XL Pick-A-Size Paper Towel Rolls                  5          0   \n",
       "\n",
       "   aisle_id            aisle  department_id  department  \n",
       "0        77      soft drinks              7   beverages  \n",
       "1        91  soy lactosefree             16  dairy eggs  \n",
       "2        23    popcorn jerky             19      snacks  \n",
       "3        23    popcorn jerky             19      snacks  \n",
       "4        54      paper goods             17   household  "
      ]
     },
     "execution_count": 28,
     "metadata": {
      "tags": []
     },
     "output_type": "execute_result"
    }
   ],
   "source": [
    "df_full_train.head()"
   ]
  },
  {
   "cell_type": "code",
   "execution_count": null,
   "metadata": {
    "id": "Ro0GkRK2Lkyy"
   },
   "outputs": [],
   "source": [
    "df_full_test = pd.read_csv('data/full_data_test.csv')\n",
    "df_full_test = df_full_test.drop(labels=['Unnamed: 0'], axis=1)"
   ]
  },
  {
   "cell_type": "code",
   "execution_count": null,
   "metadata": {
    "colab": {
     "base_uri": "https://localhost:8080/",
     "height": 343
    },
    "id": "EcPWhcKp-HrA",
    "outputId": "3944413c-3326-487d-aad8-1ff706269108"
   },
   "outputs": [
    {
     "data": {
      "text/html": [
       "<div>\n",
       "<style scoped>\n",
       "    .dataframe tbody tr th:only-of-type {\n",
       "        vertical-align: middle;\n",
       "    }\n",
       "\n",
       "    .dataframe tbody tr th {\n",
       "        vertical-align: top;\n",
       "    }\n",
       "\n",
       "    .dataframe thead th {\n",
       "        text-align: right;\n",
       "    }\n",
       "</style>\n",
       "<table border=\"1\" class=\"dataframe\">\n",
       "  <thead>\n",
       "    <tr style=\"text-align: right;\">\n",
       "      <th></th>\n",
       "      <th>user_id</th>\n",
       "      <th>order_id</th>\n",
       "      <th>eval_set</th>\n",
       "      <th>order_number</th>\n",
       "      <th>order_dow</th>\n",
       "      <th>order_hour_of_day</th>\n",
       "      <th>days_since_prior_order</th>\n",
       "      <th>product_id</th>\n",
       "      <th>product_name</th>\n",
       "      <th>add_to_cart_order</th>\n",
       "      <th>reordered</th>\n",
       "      <th>aisle_id</th>\n",
       "      <th>aisle</th>\n",
       "      <th>department_id</th>\n",
       "      <th>department</th>\n",
       "    </tr>\n",
       "  </thead>\n",
       "  <tbody>\n",
       "    <tr>\n",
       "      <td>59</td>\n",
       "      <td>1</td>\n",
       "      <td>1187899</td>\n",
       "      <td>TEST</td>\n",
       "      <td>11</td>\n",
       "      <td>4</td>\n",
       "      <td>8</td>\n",
       "      <td>14.0</td>\n",
       "      <td>196</td>\n",
       "      <td>Soda</td>\n",
       "      <td>1</td>\n",
       "      <td>1</td>\n",
       "      <td>77</td>\n",
       "      <td>soft drinks</td>\n",
       "      <td>7</td>\n",
       "      <td>beverages</td>\n",
       "    </tr>\n",
       "    <tr>\n",
       "      <td>60</td>\n",
       "      <td>1</td>\n",
       "      <td>1187899</td>\n",
       "      <td>TEST</td>\n",
       "      <td>11</td>\n",
       "      <td>4</td>\n",
       "      <td>8</td>\n",
       "      <td>14.0</td>\n",
       "      <td>25133</td>\n",
       "      <td>Organic String Cheese</td>\n",
       "      <td>2</td>\n",
       "      <td>1</td>\n",
       "      <td>21</td>\n",
       "      <td>packaged cheese</td>\n",
       "      <td>16</td>\n",
       "      <td>dairy eggs</td>\n",
       "    </tr>\n",
       "    <tr>\n",
       "      <td>61</td>\n",
       "      <td>1</td>\n",
       "      <td>1187899</td>\n",
       "      <td>TEST</td>\n",
       "      <td>11</td>\n",
       "      <td>4</td>\n",
       "      <td>8</td>\n",
       "      <td>14.0</td>\n",
       "      <td>38928</td>\n",
       "      <td>0% Greek Strained Yogurt</td>\n",
       "      <td>3</td>\n",
       "      <td>1</td>\n",
       "      <td>120</td>\n",
       "      <td>yogurt</td>\n",
       "      <td>16</td>\n",
       "      <td>dairy eggs</td>\n",
       "    </tr>\n",
       "    <tr>\n",
       "      <td>62</td>\n",
       "      <td>1</td>\n",
       "      <td>1187899</td>\n",
       "      <td>TEST</td>\n",
       "      <td>11</td>\n",
       "      <td>4</td>\n",
       "      <td>8</td>\n",
       "      <td>14.0</td>\n",
       "      <td>26405</td>\n",
       "      <td>XL Pick-A-Size Paper Towel Rolls</td>\n",
       "      <td>4</td>\n",
       "      <td>1</td>\n",
       "      <td>54</td>\n",
       "      <td>paper goods</td>\n",
       "      <td>17</td>\n",
       "      <td>household</td>\n",
       "    </tr>\n",
       "    <tr>\n",
       "      <td>63</td>\n",
       "      <td>1</td>\n",
       "      <td>1187899</td>\n",
       "      <td>TEST</td>\n",
       "      <td>11</td>\n",
       "      <td>4</td>\n",
       "      <td>8</td>\n",
       "      <td>14.0</td>\n",
       "      <td>39657</td>\n",
       "      <td>Milk Chocolate Almonds</td>\n",
       "      <td>5</td>\n",
       "      <td>1</td>\n",
       "      <td>45</td>\n",
       "      <td>candy chocolate</td>\n",
       "      <td>19</td>\n",
       "      <td>snacks</td>\n",
       "    </tr>\n",
       "  </tbody>\n",
       "</table>\n",
       "</div>"
      ],
      "text/plain": [
       "    user_id  order_id eval_set  order_number  order_dow  order_hour_of_day  \\\n",
       "59        1   1187899     TEST            11          4                  8   \n",
       "60        1   1187899     TEST            11          4                  8   \n",
       "61        1   1187899     TEST            11          4                  8   \n",
       "62        1   1187899     TEST            11          4                  8   \n",
       "63        1   1187899     TEST            11          4                  8   \n",
       "\n",
       "    days_since_prior_order  product_id                      product_name  \\\n",
       "59                    14.0         196                              Soda   \n",
       "60                    14.0       25133             Organic String Cheese   \n",
       "61                    14.0       38928          0% Greek Strained Yogurt   \n",
       "62                    14.0       26405  XL Pick-A-Size Paper Towel Rolls   \n",
       "63                    14.0       39657            Milk Chocolate Almonds   \n",
       "\n",
       "    add_to_cart_order  reordered  aisle_id            aisle  department_id  \\\n",
       "59                  1          1        77      soft drinks              7   \n",
       "60                  2          1        21  packaged cheese             16   \n",
       "61                  3          1       120           yogurt             16   \n",
       "62                  4          1        54      paper goods             17   \n",
       "63                  5          1        45  candy chocolate             19   \n",
       "\n",
       "    department  \n",
       "59   beverages  \n",
       "60  dairy eggs  \n",
       "61  dairy eggs  \n",
       "62   household  \n",
       "63      snacks  "
      ]
     },
     "execution_count": 29,
     "metadata": {
      "tags": []
     },
     "output_type": "execute_result"
    }
   ],
   "source": [
    "df_full_test.head()"
   ]
  },
  {
   "cell_type": "markdown",
   "metadata": {
    "id": "CvfgHa6DQQfK"
   },
   "source": [
    "### Popularity"
   ]
  },
  {
   "cell_type": "markdown",
   "metadata": {
    "id": "T7_BAH5S1L_k"
   },
   "source": [
    "Популярность торговых рядов:"
   ]
  },
  {
   "cell_type": "code",
   "execution_count": null,
   "metadata": {
    "id": "yaiheLjlqzFq"
   },
   "outputs": [],
   "source": [
    "df_aisle_popularity = df_full_train.groupby(['aisle']).count().sort_values(by=['aisle_id'], ascending=False)"
   ]
  },
  {
   "cell_type": "code",
   "execution_count": null,
   "metadata": {
    "colab": {
     "base_uri": "https://localhost:8080/"
    },
    "id": "HMpwyZ8SvFHP",
    "outputId": "1b6219b4-803d-4845-975f-fc908ebbddf6"
   },
   "outputs": [
    {
     "data": {
      "text/plain": [
       "aisle\n",
       "fresh fruits                     3557919\n",
       "fresh vegetables                 3334155\n",
       "packaged vegetables fruits       1721845\n",
       "yogurt                           1420890\n",
       "packaged cheese                   956311\n",
       "milk                              872161\n",
       "water seltzer sparkling water     821333\n",
       "chips pretzels                    704570\n",
       "soy lactosefree                   623627\n",
       "bread                             571553\n",
       "Name: user_id, dtype: int64"
      ]
     },
     "execution_count": 18,
     "metadata": {
      "tags": []
     },
     "output_type": "execute_result"
    }
   ],
   "source": [
    "df_aisle_popularity['user_id'].head(10)"
   ]
  },
  {
   "cell_type": "code",
   "execution_count": null,
   "metadata": {
    "colab": {
     "base_uri": "https://localhost:8080/"
    },
    "id": "l-Kr3j5-vHDd",
    "outputId": "fe2aa1a1-02c7-47e8-d2bf-bd60c6ef6a58"
   },
   "outputs": [
    {
     "data": {
      "text/plain": [
       "aisle\n",
       "ice cream toppings     10920\n",
       "first aid              10561\n",
       "shave needs            10025\n",
       "skin care               9894\n",
       "kitchen supplies        8940\n",
       "eye ear care            8695\n",
       "baby bath body care     8386\n",
       "baby accessories        7994\n",
       "beauty                  6018\n",
       "frozen juice            4699\n",
       "Name: user_id, dtype: int64"
      ]
     },
     "execution_count": 19,
     "metadata": {
      "tags": []
     },
     "output_type": "execute_result"
    }
   ],
   "source": [
    "df_aisle_popularity['user_id'].tail(10)"
   ]
  },
  {
   "cell_type": "markdown",
   "metadata": {
    "id": "6Olyz_yG1Qjq"
   },
   "source": [
    "Популярность продуктов:"
   ]
  },
  {
   "cell_type": "code",
   "execution_count": null,
   "metadata": {
    "id": "KU08KVTG1PzP"
   },
   "outputs": [],
   "source": [
    "df_product_popularity = df_full_train.groupby(['product_name']).count().sort_values(by=['product_id'], ascending=False)"
   ]
  },
  {
   "cell_type": "code",
   "execution_count": null,
   "metadata": {
    "colab": {
     "base_uri": "https://localhost:8080/"
    },
    "id": "J9qAkr5SVzhg",
    "outputId": "35edd96d-8dd5-4b9d-bba5-3c76ceda5139"
   },
   "outputs": [
    {
     "data": {
      "text/plain": [
       "product_name\n",
       "Banana                    461821\n",
       "Bag of Organic Bananas    370643\n",
       "Organic Strawberries      258989\n",
       "Organic Baby Spinach      236319\n",
       "Organic Hass Avocado      209424\n",
       "Organic Avocado           172584\n",
       "Large Lemon               148183\n",
       "Strawberries              139304\n",
       "Limes                     137276\n",
       "Organic Whole Milk        135070\n",
       "Name: user_id, dtype: int64"
      ]
     },
     "execution_count": 21,
     "metadata": {
      "tags": []
     },
     "output_type": "execute_result"
    }
   ],
   "source": [
    "df_product_popularity['user_id'].head(10)"
   ]
  },
  {
   "cell_type": "code",
   "execution_count": null,
   "metadata": {
    "colab": {
     "base_uri": "https://localhost:8080/"
    },
    "id": "JO2cUZlDvbNO",
    "outputId": "68c0be2d-d2b2-4d73-ee0f-e73bea5d564d"
   },
   "outputs": [
    {
     "data": {
      "text/plain": [
       "product_name\n",
       "Miss Treated Conditioner                      1\n",
       "Gluten Free Almond Snap Cookies               1\n",
       "Organic Chickpea Fusilli Pasta                1\n",
       "True Fruit Peach Chunks                       1\n",
       "Guacamole Ranch Salad Dressing                1\n",
       "11.3 Oz. Oreo Fudge Creme Double Chocolate    1\n",
       "Bite Size Caramel Chocolates                  1\n",
       "Peachtree Schnapps                            1\n",
       "Hot Oatmeal Multigrain Raisin                 1\n",
       "Imported Stout Draught Style                  1\n",
       "Name: user_id, dtype: int64"
      ]
     },
     "execution_count": 22,
     "metadata": {
      "tags": []
     },
     "output_type": "execute_result"
    }
   ],
   "source": [
    "df_product_popularity['user_id'].tail(10)"
   ]
  },
  {
   "cell_type": "markdown",
   "metadata": {
    "id": "_ObWSbR28fue"
   },
   "source": [
    "Популярность отделов:"
   ]
  },
  {
   "cell_type": "code",
   "execution_count": null,
   "metadata": {
    "id": "psnhYRkK8dpd"
   },
   "outputs": [],
   "source": [
    "df_department_popularity = df_full_train.groupby(['department']).count().sort_values(by=['department_id'], ascending=False)"
   ]
  },
  {
   "cell_type": "code",
   "execution_count": null,
   "metadata": {
    "colab": {
     "base_uri": "https://localhost:8080/"
    },
    "id": "xPIWOfeu8dzo",
    "outputId": "6a73ad9e-5691-4d0c-d18c-293de98ee10d"
   },
   "outputs": [
    {
     "data": {
      "text/plain": [
       "department\n",
       "produce            9251194\n",
       "dairy eggs         5291436\n",
       "snacks             2819848\n",
       "beverages          2625872\n",
       "frozen             2179574\n",
       "pantry             1829552\n",
       "bakery             1149453\n",
       "canned goods       1040703\n",
       "deli               1026201\n",
       "dry goods pasta     844413\n",
       "household           718705\n",
       "breakfast           692737\n",
       "meat seafood        691654\n",
       "personal care       435285\n",
       "babies              415234\n",
       "international       262324\n",
       "alcohol             149906\n",
       "pets                 95188\n",
       "missing              65253\n",
       "other                35310\n",
       "bulk                 33847\n",
       "Name: user_id, dtype: int64"
      ]
     },
     "execution_count": 24,
     "metadata": {
      "tags": []
     },
     "output_type": "execute_result"
    }
   ],
   "source": [
    "df_department_popularity['user_id']"
   ]
  },
  {
   "cell_type": "markdown",
   "metadata": {
    "id": "6LY_-Mh4WUk5"
   },
   "source": [
    "## Models"
   ]
  },
  {
   "cell_type": "markdown",
   "metadata": {
    "id": "VsFrFBN0FRFZ"
   },
   "source": [
    "Подготовим фрейм для хранения ground truth и предсказаний:"
   ]
  },
  {
   "cell_type": "code",
   "execution_count": null,
   "metadata": {
    "id": "osZh_XtysO2O"
   },
   "outputs": [],
   "source": [
    "test_pivot = df_full_test.pivot_table(index='user_id', values=['product_id'], aggfunc={'product_id': lambda x: list(x)}).reset_index()"
   ]
  },
  {
   "cell_type": "code",
   "execution_count": null,
   "metadata": {
    "colab": {
     "base_uri": "https://localhost:8080/",
     "height": 204
    },
    "id": "6eSUPqTbsPEd",
    "outputId": "d524ceb0-c2fe-4c24-aeac-94e448c77fd2"
   },
   "outputs": [
    {
     "data": {
      "text/html": [
       "<div>\n",
       "<style scoped>\n",
       "    .dataframe tbody tr th:only-of-type {\n",
       "        vertical-align: middle;\n",
       "    }\n",
       "\n",
       "    .dataframe tbody tr th {\n",
       "        vertical-align: top;\n",
       "    }\n",
       "\n",
       "    .dataframe thead th {\n",
       "        text-align: right;\n",
       "    }\n",
       "</style>\n",
       "<table border=\"1\" class=\"dataframe\">\n",
       "  <thead>\n",
       "    <tr style=\"text-align: right;\">\n",
       "      <th></th>\n",
       "      <th>user_id</th>\n",
       "      <th>ground_truth</th>\n",
       "    </tr>\n",
       "  </thead>\n",
       "  <tbody>\n",
       "    <tr>\n",
       "      <td>0</td>\n",
       "      <td>1</td>\n",
       "      <td>[196, 25133, 38928, 26405, 39657, 10258, 13032...</td>\n",
       "    </tr>\n",
       "    <tr>\n",
       "      <td>1</td>\n",
       "      <td>2</td>\n",
       "      <td>[22963, 7963, 16589, 32792, 41787, 22825, 1364...</td>\n",
       "    </tr>\n",
       "    <tr>\n",
       "      <td>2</td>\n",
       "      <td>3</td>\n",
       "      <td>[39190, 18599, 23650, 21903, 47766, 24810]</td>\n",
       "    </tr>\n",
       "    <tr>\n",
       "      <td>3</td>\n",
       "      <td>4</td>\n",
       "      <td>[26576, 25623, 21573]</td>\n",
       "    </tr>\n",
       "    <tr>\n",
       "      <td>4</td>\n",
       "      <td>5</td>\n",
       "      <td>[15349, 19057, 16185, 21413, 20843, 20114, 482...</td>\n",
       "    </tr>\n",
       "  </tbody>\n",
       "</table>\n",
       "</div>"
      ],
      "text/plain": [
       "   user_id                                       ground_truth\n",
       "0        1  [196, 25133, 38928, 26405, 39657, 10258, 13032...\n",
       "1        2  [22963, 7963, 16589, 32792, 41787, 22825, 1364...\n",
       "2        3         [39190, 18599, 23650, 21903, 47766, 24810]\n",
       "3        4                              [26576, 25623, 21573]\n",
       "4        5  [15349, 19057, 16185, 21413, 20843, 20114, 482..."
      ]
     },
     "execution_count": 31,
     "metadata": {
      "tags": []
     },
     "output_type": "execute_result"
    }
   ],
   "source": [
    "test_pivot = test_pivot.rename(columns={\"product_id\": \"ground_truth\"})\n",
    "test_pivot.head()"
   ]
  },
  {
   "cell_type": "code",
   "execution_count": null,
   "metadata": {
    "id": "6ve3I1zVSyK4",
    "outputId": "a12766a6-29c4-4ad0-9c5a-5ccefc6a4be7"
   },
   "outputs": [
    {
     "data": {
      "text/plain": [
       "206209"
      ]
     },
     "execution_count": 32,
     "metadata": {
      "tags": []
     },
     "output_type": "execute_result"
    }
   ],
   "source": [
    "len(test_pivot)"
   ]
  },
  {
   "cell_type": "code",
   "execution_count": null,
   "metadata": {
    "id": "uPZdeYELSyK5"
   },
   "outputs": [],
   "source": [
    "test_pivot.to_csv('data/test_pivot.csv')"
   ]
  },
  {
   "cell_type": "code",
   "execution_count": null,
   "metadata": {
    "id": "vZln6gvzSyK6"
   },
   "outputs": [],
   "source": []
  },
  {
   "cell_type": "code",
   "execution_count": null,
   "metadata": {
    "id": "4uujHhiGSyK6",
    "outputId": "ed16ed00-9208-4f26-c88f-f761af62997f"
   },
   "outputs": [
    {
     "data": {
      "text/html": [
       "<div>\n",
       "<style scoped>\n",
       "    .dataframe tbody tr th:only-of-type {\n",
       "        vertical-align: middle;\n",
       "    }\n",
       "\n",
       "    .dataframe tbody tr th {\n",
       "        vertical-align: top;\n",
       "    }\n",
       "\n",
       "    .dataframe thead th {\n",
       "        text-align: right;\n",
       "    }\n",
       "</style>\n",
       "<table border=\"1\" class=\"dataframe\">\n",
       "  <thead>\n",
       "    <tr style=\"text-align: right;\">\n",
       "      <th></th>\n",
       "      <th>user_id</th>\n",
       "      <th>ground_truth</th>\n",
       "    </tr>\n",
       "  </thead>\n",
       "  <tbody>\n",
       "    <tr>\n",
       "      <td>0</td>\n",
       "      <td>1</td>\n",
       "      <td>[196, 25133, 38928, 26405, 39657, 10258, 13032...</td>\n",
       "    </tr>\n",
       "    <tr>\n",
       "      <td>1</td>\n",
       "      <td>2</td>\n",
       "      <td>[22963, 7963, 16589, 32792, 41787, 22825, 1364...</td>\n",
       "    </tr>\n",
       "    <tr>\n",
       "      <td>2</td>\n",
       "      <td>3</td>\n",
       "      <td>[39190, 18599, 23650, 21903, 47766, 24810]</td>\n",
       "    </tr>\n",
       "    <tr>\n",
       "      <td>3</td>\n",
       "      <td>4</td>\n",
       "      <td>[26576, 25623, 21573]</td>\n",
       "    </tr>\n",
       "    <tr>\n",
       "      <td>4</td>\n",
       "      <td>5</td>\n",
       "      <td>[15349, 19057, 16185, 21413, 20843, 20114, 482...</td>\n",
       "    </tr>\n",
       "  </tbody>\n",
       "</table>\n",
       "</div>"
      ],
      "text/plain": [
       "   user_id                                       ground_truth\n",
       "0        1  [196, 25133, 38928, 26405, 39657, 10258, 13032...\n",
       "1        2  [22963, 7963, 16589, 32792, 41787, 22825, 1364...\n",
       "2        3         [39190, 18599, 23650, 21903, 47766, 24810]\n",
       "3        4                              [26576, 25623, 21573]\n",
       "4        5  [15349, 19057, 16185, 21413, 20843, 20114, 482..."
      ]
     },
     "execution_count": 41,
     "metadata": {
      "tags": []
     },
     "output_type": "execute_result"
    }
   ],
   "source": [
    "test_pivot = pd.read_csv('data/test_pivot.csv')\n",
    "test_pivot = test_pivot.drop(labels=['Unnamed: 0'], axis=1)\n",
    "test_pivot['ground_truth'] = test_pivot['ground_truth'].apply(eval)\n",
    "test_pivot.head()"
   ]
  },
  {
   "cell_type": "markdown",
   "metadata": {
    "id": "ffer-4faSyK7"
   },
   "source": [
    "Подготовим датафрейм с историческими данными: в столбце рейтинга указано количество раз, которое пользователь купил данный товар."
   ]
  },
  {
   "cell_type": "code",
   "execution_count": null,
   "metadata": {
    "id": "uz3zQer2SyK7"
   },
   "outputs": [],
   "source": [
    "df_train_gb = df_full_train.groupby(['user_id', 'product_id'], as_index=False).count()[['user_id', 'product_id', 'eval_set']]"
   ]
  },
  {
   "cell_type": "code",
   "execution_count": null,
   "metadata": {
    "id": "W4DjZoPWSyK8"
   },
   "outputs": [],
   "source": [
    "df_train_gb = df_train_gb.rename(columns={'eval_set': 'rating'})"
   ]
  },
  {
   "cell_type": "code",
   "execution_count": null,
   "metadata": {
    "id": "7PUytY4PSyK8",
    "outputId": "36c921bb-7084-4477-fe51-7e986369b05a"
   },
   "outputs": [
    {
     "data": {
      "text/html": [
       "<div>\n",
       "<style scoped>\n",
       "    .dataframe tbody tr th:only-of-type {\n",
       "        vertical-align: middle;\n",
       "    }\n",
       "\n",
       "    .dataframe tbody tr th {\n",
       "        vertical-align: top;\n",
       "    }\n",
       "\n",
       "    .dataframe thead th {\n",
       "        text-align: right;\n",
       "    }\n",
       "</style>\n",
       "<table border=\"1\" class=\"dataframe\">\n",
       "  <thead>\n",
       "    <tr style=\"text-align: right;\">\n",
       "      <th></th>\n",
       "      <th>user_id</th>\n",
       "      <th>product_id</th>\n",
       "      <th>rating</th>\n",
       "    </tr>\n",
       "  </thead>\n",
       "  <tbody>\n",
       "    <tr>\n",
       "      <td>0</td>\n",
       "      <td>1</td>\n",
       "      <td>196</td>\n",
       "      <td>10</td>\n",
       "    </tr>\n",
       "    <tr>\n",
       "      <td>1</td>\n",
       "      <td>1</td>\n",
       "      <td>10258</td>\n",
       "      <td>9</td>\n",
       "    </tr>\n",
       "    <tr>\n",
       "      <td>2</td>\n",
       "      <td>1</td>\n",
       "      <td>10326</td>\n",
       "      <td>1</td>\n",
       "    </tr>\n",
       "    <tr>\n",
       "      <td>3</td>\n",
       "      <td>1</td>\n",
       "      <td>12427</td>\n",
       "      <td>10</td>\n",
       "    </tr>\n",
       "    <tr>\n",
       "      <td>4</td>\n",
       "      <td>1</td>\n",
       "      <td>13032</td>\n",
       "      <td>3</td>\n",
       "    </tr>\n",
       "  </tbody>\n",
       "</table>\n",
       "</div>"
      ],
      "text/plain": [
       "   user_id  product_id  rating\n",
       "0        1         196      10\n",
       "1        1       10258       9\n",
       "2        1       10326       1\n",
       "3        1       12427      10\n",
       "4        1       13032       3"
      ]
     },
     "execution_count": 47,
     "metadata": {
      "tags": []
     },
     "output_type": "execute_result"
    }
   ],
   "source": [
    "df_train_gb.head()"
   ]
  },
  {
   "cell_type": "code",
   "execution_count": null,
   "metadata": {
    "id": "re4D-nu0SyK9",
    "outputId": "3d890615-3fd2-43fd-83a3-2ba98a7bc1d0"
   },
   "outputs": [
    {
     "data": {
      "text/plain": [
       "12984631"
      ]
     },
     "execution_count": 48,
     "metadata": {
      "tags": []
     },
     "output_type": "execute_result"
    }
   ],
   "source": [
    "len(df_train_gb)"
   ]
  },
  {
   "cell_type": "code",
   "execution_count": null,
   "metadata": {
    "id": "yuwswmTeSyK-"
   },
   "outputs": [],
   "source": [
    "df_train_gb.to_csv('data/df_train_gb.csv')"
   ]
  },
  {
   "cell_type": "code",
   "execution_count": null,
   "metadata": {
    "id": "XDhaHh_VSyK-"
   },
   "outputs": [],
   "source": []
  },
  {
   "cell_type": "code",
   "execution_count": null,
   "metadata": {
    "id": "8NsWV3XISyK-",
    "outputId": "ad3a6929-e852-4c28-ad1c-212c4d9e3ccb"
   },
   "outputs": [
    {
     "data": {
      "text/html": [
       "<div>\n",
       "<style scoped>\n",
       "    .dataframe tbody tr th:only-of-type {\n",
       "        vertical-align: middle;\n",
       "    }\n",
       "\n",
       "    .dataframe tbody tr th {\n",
       "        vertical-align: top;\n",
       "    }\n",
       "\n",
       "    .dataframe thead th {\n",
       "        text-align: right;\n",
       "    }\n",
       "</style>\n",
       "<table border=\"1\" class=\"dataframe\">\n",
       "  <thead>\n",
       "    <tr style=\"text-align: right;\">\n",
       "      <th></th>\n",
       "      <th>user_id</th>\n",
       "      <th>product_id</th>\n",
       "      <th>rating</th>\n",
       "    </tr>\n",
       "  </thead>\n",
       "  <tbody>\n",
       "    <tr>\n",
       "      <td>0</td>\n",
       "      <td>1</td>\n",
       "      <td>196</td>\n",
       "      <td>10</td>\n",
       "    </tr>\n",
       "    <tr>\n",
       "      <td>1</td>\n",
       "      <td>1</td>\n",
       "      <td>10258</td>\n",
       "      <td>9</td>\n",
       "    </tr>\n",
       "    <tr>\n",
       "      <td>2</td>\n",
       "      <td>1</td>\n",
       "      <td>10326</td>\n",
       "      <td>1</td>\n",
       "    </tr>\n",
       "    <tr>\n",
       "      <td>3</td>\n",
       "      <td>1</td>\n",
       "      <td>12427</td>\n",
       "      <td>10</td>\n",
       "    </tr>\n",
       "    <tr>\n",
       "      <td>4</td>\n",
       "      <td>1</td>\n",
       "      <td>13032</td>\n",
       "      <td>3</td>\n",
       "    </tr>\n",
       "  </tbody>\n",
       "</table>\n",
       "</div>"
      ],
      "text/plain": [
       "   user_id  product_id  rating\n",
       "0        1         196      10\n",
       "1        1       10258       9\n",
       "2        1       10326       1\n",
       "3        1       12427      10\n",
       "4        1       13032       3"
      ]
     },
     "execution_count": 13,
     "metadata": {
      "tags": []
     },
     "output_type": "execute_result"
    }
   ],
   "source": [
    "df_train_gb = pd.read_csv('data/df_train_gb.csv')\n",
    "df_train_gb = df_train_gb.drop(labels=['Unnamed: 0'], axis=1)\n",
    "df_train_gb.head()"
   ]
  },
  {
   "cell_type": "code",
   "execution_count": null,
   "metadata": {
    "id": "VHZ2r9OySyK_",
    "outputId": "8632b923-81b1-4c85-acff-da28c3ded815"
   },
   "outputs": [
    {
     "name": "stdout",
     "output_type": "stream",
     "text": [
      "<class 'pandas.core.frame.DataFrame'>\n",
      "RangeIndex: 12984631 entries, 0 to 12984630\n",
      "Data columns (total 3 columns):\n",
      "user_id       int64\n",
      "product_id    int64\n",
      "rating        int64\n",
      "dtypes: int64(3)\n",
      "memory usage: 297.2 MB\n"
     ]
    }
   ],
   "source": [
    "df_train_gb.info()"
   ]
  },
  {
   "cell_type": "markdown",
   "metadata": {
    "id": "tpwKXBZgGWBt"
   },
   "source": [
    "### Most popular recommender"
   ]
  },
  {
   "cell_type": "code",
   "execution_count": null,
   "metadata": {
    "id": "jRLQCtiuSyLA"
   },
   "outputs": [],
   "source": [
    "USER_COL = 'user_id'\n",
    "ITEM_COL = 'product_id'\n",
    "DEFAULT_RATING_COL = 'rating'\n",
    "DEFAULT_K = 10\n",
    "\n",
    "class MostPopularRecommender:\n",
    "    \n",
    "    def __init__(self):\n",
    "        pass\n",
    "\n",
    "    def fit(self, train_df, \n",
    "            col_user=USER_COL, \n",
    "            col_item=ITEM_COL,\n",
    "            col_rating=DEFAULT_RATING_COL) -> None:\n",
    "        \"\"\"\n",
    "        perform train procedure for the recommendation algorithm\n",
    "        :param col_item: name for items column\n",
    "        :param col_user: name for user column\n",
    "        :param col_rating: name for rating column\n",
    "        :param train_df: pandas data frame with users, items and ratings columns\n",
    "        :return: None\n",
    "        \"\"\"\n",
    "        self.train_df = train_df.copy()\n",
    "        self.col_user = col_user\n",
    "        self.col_item = col_item\n",
    "        self.col_rating = col_rating\n",
    "        \n",
    "        self.items = np.unique(self.train_df[self.col_item].values)\n",
    "        item_to_encodeditem = {x: i for i, x in enumerate(self.items)}\n",
    "        self.train_df[self.col_item] = self.train_df[self.col_item].map(item_to_encodeditem)\n",
    "\n",
    "    def predict(self, test_df, col_user=USER_COL, k=DEFAULT_K) -> pd.DataFrame:\n",
    "        \"\"\"\n",
    "        predicts recommendations for test users\n",
    "        :param test_df: pandas data frame with users column\n",
    "        :param k: number of items to predict per user\n",
    "        :return: prediction pandas data frame with two columns first contains user's\n",
    "        and second contains list of recommended items\n",
    "        \"\"\"\n",
    "        test_df_new = test_df.copy()\n",
    "        popular_products = self.train_df.groupby(self.col_item)[self.col_rating].sum()\n",
    "        popular_products_top = popular_products.sort_values(ascending=False)[:k].index\n",
    "        encodeditem_to_item = {i: x for i, x in enumerate(self.items)}\n",
    "        popular_products_top_encoded = [encodeditem_to_item.get(popular_products_top[j]) for j in range(k)]\n",
    "        test_df_new['most_popular'] = [list(popular_products_top_encoded)] * len(test_df_new)\n",
    "        return test_df_new"
   ]
  },
  {
   "cell_type": "code",
   "execution_count": null,
   "metadata": {
    "id": "YxKGFjiZSyLA"
   },
   "outputs": [],
   "source": [
    "mpr = MostPopularRecommender()\n",
    "mpr.fit(df_train_gb)"
   ]
  },
  {
   "cell_type": "code",
   "execution_count": null,
   "metadata": {
    "id": "GkgFpxLLSyLB"
   },
   "outputs": [],
   "source": [
    "test_pivot = mpr.predict(test_pivot)"
   ]
  },
  {
   "cell_type": "code",
   "execution_count": null,
   "metadata": {
    "id": "FFguRVqUSyLB",
    "outputId": "7cab24f8-e0b9-4669-b4ad-f65389ba0ee8"
   },
   "outputs": [
    {
     "data": {
      "text/html": [
       "<div>\n",
       "<style scoped>\n",
       "    .dataframe tbody tr th:only-of-type {\n",
       "        vertical-align: middle;\n",
       "    }\n",
       "\n",
       "    .dataframe tbody tr th {\n",
       "        vertical-align: top;\n",
       "    }\n",
       "\n",
       "    .dataframe thead th {\n",
       "        text-align: right;\n",
       "    }\n",
       "</style>\n",
       "<table border=\"1\" class=\"dataframe\">\n",
       "  <thead>\n",
       "    <tr style=\"text-align: right;\">\n",
       "      <th></th>\n",
       "      <th>user_id</th>\n",
       "      <th>ground_truth</th>\n",
       "      <th>most_popular</th>\n",
       "    </tr>\n",
       "  </thead>\n",
       "  <tbody>\n",
       "    <tr>\n",
       "      <td>0</td>\n",
       "      <td>1</td>\n",
       "      <td>[196, 25133, 38928, 26405, 39657, 10258, 13032...</td>\n",
       "      <td>[24852, 13176, 21137, 21903, 47209, 47766, 476...</td>\n",
       "    </tr>\n",
       "    <tr>\n",
       "      <td>1</td>\n",
       "      <td>2</td>\n",
       "      <td>[22963, 7963, 16589, 32792, 41787, 22825, 1364...</td>\n",
       "      <td>[24852, 13176, 21137, 21903, 47209, 47766, 476...</td>\n",
       "    </tr>\n",
       "    <tr>\n",
       "      <td>2</td>\n",
       "      <td>3</td>\n",
       "      <td>[39190, 18599, 23650, 21903, 47766, 24810]</td>\n",
       "      <td>[24852, 13176, 21137, 21903, 47209, 47766, 476...</td>\n",
       "    </tr>\n",
       "    <tr>\n",
       "      <td>3</td>\n",
       "      <td>4</td>\n",
       "      <td>[26576, 25623, 21573]</td>\n",
       "      <td>[24852, 13176, 21137, 21903, 47209, 47766, 476...</td>\n",
       "    </tr>\n",
       "    <tr>\n",
       "      <td>4</td>\n",
       "      <td>5</td>\n",
       "      <td>[15349, 19057, 16185, 21413, 20843, 20114, 482...</td>\n",
       "      <td>[24852, 13176, 21137, 21903, 47209, 47766, 476...</td>\n",
       "    </tr>\n",
       "    <tr>\n",
       "      <td>...</td>\n",
       "      <td>...</td>\n",
       "      <td>...</td>\n",
       "      <td>...</td>\n",
       "    </tr>\n",
       "    <tr>\n",
       "      <td>206204</td>\n",
       "      <td>206205</td>\n",
       "      <td>[27845, 21137, 28745, 22035, 24852, 46886, 314...</td>\n",
       "      <td>[24852, 13176, 21137, 21903, 47209, 47766, 476...</td>\n",
       "    </tr>\n",
       "    <tr>\n",
       "      <td>206205</td>\n",
       "      <td>206206</td>\n",
       "      <td>[11520, 23029, 42623]</td>\n",
       "      <td>[24852, 13176, 21137, 21903, 47209, 47766, 476...</td>\n",
       "    </tr>\n",
       "    <tr>\n",
       "      <td>206206</td>\n",
       "      <td>206207</td>\n",
       "      <td>[27845, 36011, 39180, 13176, 33787, 44632, 337...</td>\n",
       "      <td>[24852, 13176, 21137, 21903, 47209, 47766, 476...</td>\n",
       "    </tr>\n",
       "    <tr>\n",
       "      <td>206207</td>\n",
       "      <td>206208</td>\n",
       "      <td>[13176, 34213, 23579, 33000, 31404, 35688, 236...</td>\n",
       "      <td>[24852, 13176, 21137, 21903, 47209, 47766, 476...</td>\n",
       "    </tr>\n",
       "    <tr>\n",
       "      <td>206208</td>\n",
       "      <td>206209</td>\n",
       "      <td>[6846, 9405, 24852, 40603, 15655, 42606, 37966...</td>\n",
       "      <td>[24852, 13176, 21137, 21903, 47209, 47766, 476...</td>\n",
       "    </tr>\n",
       "  </tbody>\n",
       "</table>\n",
       "<p>206209 rows × 3 columns</p>\n",
       "</div>"
      ],
      "text/plain": [
       "        user_id                                       ground_truth  \\\n",
       "0             1  [196, 25133, 38928, 26405, 39657, 10258, 13032...   \n",
       "1             2  [22963, 7963, 16589, 32792, 41787, 22825, 1364...   \n",
       "2             3         [39190, 18599, 23650, 21903, 47766, 24810]   \n",
       "3             4                              [26576, 25623, 21573]   \n",
       "4             5  [15349, 19057, 16185, 21413, 20843, 20114, 482...   \n",
       "...         ...                                                ...   \n",
       "206204   206205  [27845, 21137, 28745, 22035, 24852, 46886, 314...   \n",
       "206205   206206                              [11520, 23029, 42623]   \n",
       "206206   206207  [27845, 36011, 39180, 13176, 33787, 44632, 337...   \n",
       "206207   206208  [13176, 34213, 23579, 33000, 31404, 35688, 236...   \n",
       "206208   206209  [6846, 9405, 24852, 40603, 15655, 42606, 37966...   \n",
       "\n",
       "                                             most_popular  \n",
       "0       [24852, 13176, 21137, 21903, 47209, 47766, 476...  \n",
       "1       [24852, 13176, 21137, 21903, 47209, 47766, 476...  \n",
       "2       [24852, 13176, 21137, 21903, 47209, 47766, 476...  \n",
       "3       [24852, 13176, 21137, 21903, 47209, 47766, 476...  \n",
       "4       [24852, 13176, 21137, 21903, 47209, 47766, 476...  \n",
       "...                                                   ...  \n",
       "206204  [24852, 13176, 21137, 21903, 47209, 47766, 476...  \n",
       "206205  [24852, 13176, 21137, 21903, 47209, 47766, 476...  \n",
       "206206  [24852, 13176, 21137, 21903, 47209, 47766, 476...  \n",
       "206207  [24852, 13176, 21137, 21903, 47209, 47766, 476...  \n",
       "206208  [24852, 13176, 21137, 21903, 47209, 47766, 476...  \n",
       "\n",
       "[206209 rows x 3 columns]"
      ]
     },
     "execution_count": 58,
     "metadata": {
      "tags": []
     },
     "output_type": "execute_result"
    }
   ],
   "source": [
    "test_pivot"
   ]
  },
  {
   "cell_type": "code",
   "execution_count": null,
   "metadata": {
    "id": "rf5IDkAySyLC",
    "outputId": "37353c40-7ac0-410d-f67f-8333e7d5154a"
   },
   "outputs": [
    {
     "name": "stdout",
     "output_type": "stream",
     "text": [
      "      metric     value\n",
      "0  HitRate@k  0.457027\n",
      "1      MAP@k  0.220286\n",
      "2     NDCG@k  0.097616\n"
     ]
    }
   ],
   "source": [
    "print_metrics(test_pivot['ground_truth'].values, test_pivot['most_popular'].values, 10)"
   ]
  },
  {
   "cell_type": "code",
   "execution_count": null,
   "metadata": {
    "id": "LFSC8JpISyLC"
   },
   "outputs": [],
   "source": [
    "test_pivot.to_csv('data/test_pivot_mp.csv')"
   ]
  },
  {
   "cell_type": "code",
   "execution_count": null,
   "metadata": {
    "id": "SFqNoK0uSyLD"
   },
   "outputs": [],
   "source": []
  },
  {
   "cell_type": "code",
   "execution_count": null,
   "metadata": {
    "id": "e0K4DVxnSyLD",
    "outputId": "c7bfc88f-07b0-473b-9b39-ccad9afbb508"
   },
   "outputs": [
    {
     "data": {
      "text/html": [
       "<div>\n",
       "<style scoped>\n",
       "    .dataframe tbody tr th:only-of-type {\n",
       "        vertical-align: middle;\n",
       "    }\n",
       "\n",
       "    .dataframe tbody tr th {\n",
       "        vertical-align: top;\n",
       "    }\n",
       "\n",
       "    .dataframe thead th {\n",
       "        text-align: right;\n",
       "    }\n",
       "</style>\n",
       "<table border=\"1\" class=\"dataframe\">\n",
       "  <thead>\n",
       "    <tr style=\"text-align: right;\">\n",
       "      <th></th>\n",
       "      <th>user_id</th>\n",
       "      <th>ground_truth</th>\n",
       "      <th>most_popular</th>\n",
       "    </tr>\n",
       "  </thead>\n",
       "  <tbody>\n",
       "    <tr>\n",
       "      <td>0</td>\n",
       "      <td>1</td>\n",
       "      <td>[196, 25133, 38928, 26405, 39657, 10258, 13032...</td>\n",
       "      <td>[24852, 13176, 21137, 21903, 47209, 47766, 476...</td>\n",
       "    </tr>\n",
       "    <tr>\n",
       "      <td>1</td>\n",
       "      <td>2</td>\n",
       "      <td>[22963, 7963, 16589, 32792, 41787, 22825, 1364...</td>\n",
       "      <td>[24852, 13176, 21137, 21903, 47209, 47766, 476...</td>\n",
       "    </tr>\n",
       "    <tr>\n",
       "      <td>2</td>\n",
       "      <td>3</td>\n",
       "      <td>[39190, 18599, 23650, 21903, 47766, 24810]</td>\n",
       "      <td>[24852, 13176, 21137, 21903, 47209, 47766, 476...</td>\n",
       "    </tr>\n",
       "    <tr>\n",
       "      <td>3</td>\n",
       "      <td>4</td>\n",
       "      <td>[26576, 25623, 21573]</td>\n",
       "      <td>[24852, 13176, 21137, 21903, 47209, 47766, 476...</td>\n",
       "    </tr>\n",
       "    <tr>\n",
       "      <td>4</td>\n",
       "      <td>5</td>\n",
       "      <td>[15349, 19057, 16185, 21413, 20843, 20114, 482...</td>\n",
       "      <td>[24852, 13176, 21137, 21903, 47209, 47766, 476...</td>\n",
       "    </tr>\n",
       "  </tbody>\n",
       "</table>\n",
       "</div>"
      ],
      "text/plain": [
       "   user_id                                       ground_truth  \\\n",
       "0        1  [196, 25133, 38928, 26405, 39657, 10258, 13032...   \n",
       "1        2  [22963, 7963, 16589, 32792, 41787, 22825, 1364...   \n",
       "2        3         [39190, 18599, 23650, 21903, 47766, 24810]   \n",
       "3        4                              [26576, 25623, 21573]   \n",
       "4        5  [15349, 19057, 16185, 21413, 20843, 20114, 482...   \n",
       "\n",
       "                                        most_popular  \n",
       "0  [24852, 13176, 21137, 21903, 47209, 47766, 476...  \n",
       "1  [24852, 13176, 21137, 21903, 47209, 47766, 476...  \n",
       "2  [24852, 13176, 21137, 21903, 47209, 47766, 476...  \n",
       "3  [24852, 13176, 21137, 21903, 47209, 47766, 476...  \n",
       "4  [24852, 13176, 21137, 21903, 47209, 47766, 476...  "
      ]
     },
     "execution_count": 2,
     "metadata": {
      "tags": []
     },
     "output_type": "execute_result"
    }
   ],
   "source": [
    "test_pivot = pd.read_csv('data/test_pivot_mp.csv')\n",
    "test_pivot = test_pivot.drop(labels=['Unnamed: 0'], axis=1)\n",
    "test_pivot['ground_truth'] = test_pivot['ground_truth'].apply(eval)\n",
    "test_pivot['most_popular'] = test_pivot['most_popular'].apply(eval)\n",
    "test_pivot.head()"
   ]
  },
  {
   "cell_type": "markdown",
   "metadata": {
    "id": "Pri3uXbAGeXw"
   },
   "source": [
    "### SVD based recommender"
   ]
  },
  {
   "cell_type": "code",
   "execution_count": null,
   "metadata": {
    "id": "7860-f9cSyLE"
   },
   "outputs": [],
   "source": [
    "USER_COL = 'user_id'\n",
    "ITEM_COL = 'product_id'\n",
    "DEFAULT_RATING_COL = 'rating'\n",
    "DEFAULT_K = 10\n",
    "DEFAULT_M = 90\n",
    "\n",
    "class SVDRecommender:\n",
    "\n",
    "    def __init__(self):\n",
    "        pass\n",
    "\n",
    "    def fit(self, train_df, \n",
    "            col_user=USER_COL, \n",
    "            col_item=ITEM_COL, \n",
    "            col_rating=DEFAULT_RATING_COL,\n",
    "            m=DEFAULT_M) -> None:\n",
    "        \"\"\"\n",
    "        perform train procedure for the recommendation algorithm\n",
    "        :param col_item: name for items column\n",
    "        :param col_user: name for user column\n",
    "        :param col_rating: name for rating column\n",
    "        :param train_df: pandas data frame with users, items and ratings columns\n",
    "        :param m: number of most significant features\n",
    "        :return: None\n",
    "        \"\"\"\n",
    "        self.train_df = train_df.copy()\n",
    "        self.col_user = col_user\n",
    "        self.col_item = col_item\n",
    "        self.col_rating = col_rating\n",
    "        \n",
    "        self.items = np.unique(self.train_df[self.col_item].values)\n",
    "        item_to_encodeditem = {x: i for i, x in enumerate(self.items)}\n",
    "        self.train_df[self.col_item] = self.train_df[self.col_item].map(item_to_encodeditem)\n",
    "        \n",
    "        self.users = np.unique(self.train_df[self.col_user].values)\n",
    "        self.user_to_encodeduser = {x: i for i, x in enumerate(self.users)}\n",
    "        self.train_df[self.col_user] = self.train_df[self.col_user].map(self.user_to_encodeduser)\n",
    "\n",
    "        sparse_matrix = csc_matrix((self.train_df[self.col_rating], \n",
    "                            (self.train_df[self.col_user].values, self.train_df[self.col_item].values)), \n",
    "                            shape = (len(self.users), len(self.items)))\n",
    "        \n",
    "        U, S, Vt = sparsesvd(sparse_matrix, m)\n",
    "        \n",
    "        S_diag = np.zeros((len(S), len(S)), dtype=np.float32)\n",
    "        \n",
    "        for i in range(len(S)):\n",
    "            S_diag[i, i] = math.sqrt(S[i])\n",
    "    \n",
    "        self.U = csr_matrix(np.transpose(U), dtype=np.float32)\n",
    "        \n",
    "        S_diag = csr_matrix(S_diag, dtype=np.float32)\n",
    "        Vt = csr_matrix(Vt, dtype=np.float32)\n",
    "        self.right_term = S_diag * Vt\n",
    "\n",
    "    def predict(self, test_df, col_user=USER_COL, k=DEFAULT_K) -> pd.DataFrame:\n",
    "        \"\"\"\n",
    "        predicts recommendations for test users\n",
    "        :param test_df: pandas data frame with users column\n",
    "        :param k: number of items to predict per user\n",
    "        :return: prediction pandas data frame with two columns first contains user's\n",
    "        and second contains list of recommended items\n",
    "        \"\"\"        \n",
    "        test_df_new = test_df.copy()\n",
    "        estimatedRatings = []\n",
    "        \n",
    "        encodeditem_to_item = {i: x for i, x in enumerate(self.items)}\n",
    "        \n",
    "        test_df_new[col_user] = test_df_new[col_user].map(self.user_to_encodeduser)\n",
    "        user_list = test_df_new[col_user].values\n",
    "        \n",
    "        for i in user_list:\n",
    "            prod = self.U[i, :] * self.right_term\n",
    "            prod_dense = prod.todense()\n",
    "            prod_dense_top = (-prod_dense).argsort()[0, :k].tolist()[0]\n",
    "            prod_dense_top_encoded = [encodeditem_to_item.get(prod_dense_top[j]) for j in range(k)]\n",
    "            estimatedRatings.append(prod_dense_top_encoded)\n",
    "        \n",
    "        encodeduser_to_user = {i: x for i, x in enumerate(self.users)}\n",
    "        test_df_new[col_user] = test_df_new[col_user].map(encodeduser_to_user)\n",
    "        \n",
    "        test_df_new['svd'] = estimatedRatings\n",
    "        return test_df_new"
   ]
  },
  {
   "cell_type": "code",
   "execution_count": null,
   "metadata": {
    "id": "BaNEKaq2SyLE"
   },
   "outputs": [],
   "source": [
    "svd = SVDRecommender()\n",
    "svd.fit(df_train_gb)"
   ]
  },
  {
   "cell_type": "code",
   "execution_count": null,
   "metadata": {
    "id": "7IYoFCiBSyLE"
   },
   "outputs": [],
   "source": [
    "test_pivot = svd.predict(test_pivot)"
   ]
  },
  {
   "cell_type": "code",
   "execution_count": null,
   "metadata": {
    "id": "lHsgxxuoSyLF",
    "outputId": "3a9ef7e6-9739-4446-c730-a6759071285d"
   },
   "outputs": [
    {
     "data": {
      "text/html": [
       "<div>\n",
       "<style scoped>\n",
       "    .dataframe tbody tr th:only-of-type {\n",
       "        vertical-align: middle;\n",
       "    }\n",
       "\n",
       "    .dataframe tbody tr th {\n",
       "        vertical-align: top;\n",
       "    }\n",
       "\n",
       "    .dataframe thead th {\n",
       "        text-align: right;\n",
       "    }\n",
       "</style>\n",
       "<table border=\"1\" class=\"dataframe\">\n",
       "  <thead>\n",
       "    <tr style=\"text-align: right;\">\n",
       "      <th></th>\n",
       "      <th>user_id</th>\n",
       "      <th>ground_truth</th>\n",
       "      <th>most_popular</th>\n",
       "      <th>svd</th>\n",
       "    </tr>\n",
       "  </thead>\n",
       "  <tbody>\n",
       "    <tr>\n",
       "      <td>0</td>\n",
       "      <td>1</td>\n",
       "      <td>[196, 25133, 38928, 26405, 39657, 10258, 13032...</td>\n",
       "      <td>[24852, 13176, 21137, 21903, 47209, 47766, 476...</td>\n",
       "      <td>[196, 46149, 43154, 49235, 38928, 13176, 35951...</td>\n",
       "    </tr>\n",
       "    <tr>\n",
       "      <td>1</td>\n",
       "      <td>2</td>\n",
       "      <td>[22963, 7963, 16589, 32792, 41787, 22825, 1364...</td>\n",
       "      <td>[24852, 13176, 21137, 21903, 47209, 47766, 476...</td>\n",
       "      <td>[47209, 24852, 47766, 33754, 45066, 4957, 1852...</td>\n",
       "    </tr>\n",
       "    <tr>\n",
       "      <td>2</td>\n",
       "      <td>3</td>\n",
       "      <td>[39190, 18599, 23650, 21903, 47766, 24810]</td>\n",
       "      <td>[24852, 13176, 21137, 21903, 47209, 47766, 476...</td>\n",
       "      <td>[47766, 21903, 9387, 22035, 43961, 16797, 5212...</td>\n",
       "    </tr>\n",
       "    <tr>\n",
       "      <td>3</td>\n",
       "      <td>4</td>\n",
       "      <td>[26576, 25623, 21573]</td>\n",
       "      <td>[24852, 13176, 21137, 21903, 47209, 47766, 476...</td>\n",
       "      <td>[37646, 19057, 8174, 1940, 46969, 30233, 27344...</td>\n",
       "    </tr>\n",
       "    <tr>\n",
       "      <td>4</td>\n",
       "      <td>5</td>\n",
       "      <td>[15349, 19057, 16185, 21413, 20843, 20114, 482...</td>\n",
       "      <td>[24852, 13176, 21137, 21903, 47209, 47766, 476...</td>\n",
       "      <td>[26604, 40706, 8518, 31717, 21616, 11777, 2734...</td>\n",
       "    </tr>\n",
       "  </tbody>\n",
       "</table>\n",
       "</div>"
      ],
      "text/plain": [
       "   user_id                                       ground_truth  \\\n",
       "0        1  [196, 25133, 38928, 26405, 39657, 10258, 13032...   \n",
       "1        2  [22963, 7963, 16589, 32792, 41787, 22825, 1364...   \n",
       "2        3         [39190, 18599, 23650, 21903, 47766, 24810]   \n",
       "3        4                              [26576, 25623, 21573]   \n",
       "4        5  [15349, 19057, 16185, 21413, 20843, 20114, 482...   \n",
       "\n",
       "                                        most_popular  \\\n",
       "0  [24852, 13176, 21137, 21903, 47209, 47766, 476...   \n",
       "1  [24852, 13176, 21137, 21903, 47209, 47766, 476...   \n",
       "2  [24852, 13176, 21137, 21903, 47209, 47766, 476...   \n",
       "3  [24852, 13176, 21137, 21903, 47209, 47766, 476...   \n",
       "4  [24852, 13176, 21137, 21903, 47209, 47766, 476...   \n",
       "\n",
       "                                                 svd  \n",
       "0  [196, 46149, 43154, 49235, 38928, 13176, 35951...  \n",
       "1  [47209, 24852, 47766, 33754, 45066, 4957, 1852...  \n",
       "2  [47766, 21903, 9387, 22035, 43961, 16797, 5212...  \n",
       "3  [37646, 19057, 8174, 1940, 46969, 30233, 27344...  \n",
       "4  [26604, 40706, 8518, 31717, 21616, 11777, 2734...  "
      ]
     },
     "execution_count": 71,
     "metadata": {
      "tags": []
     },
     "output_type": "execute_result"
    }
   ],
   "source": [
    "test_pivot.head()"
   ]
  },
  {
   "cell_type": "code",
   "execution_count": null,
   "metadata": {
    "id": "a8JyO2LbSyLF",
    "outputId": "d99525da-5e7c-4a2f-94ad-0d5649637d21"
   },
   "outputs": [
    {
     "name": "stdout",
     "output_type": "stream",
     "text": [
      "      metric     value\n",
      "0  HitRate@k  0.657988\n",
      "1      MAP@k  0.406248\n",
      "2     NDCG@k  0.226957\n"
     ]
    }
   ],
   "source": [
    "print_metrics(test_pivot['ground_truth'].values, test_pivot['svd'].values, 10)"
   ]
  },
  {
   "cell_type": "code",
   "execution_count": null,
   "metadata": {
    "id": "H5JRgk6FSyLG"
   },
   "outputs": [],
   "source": [
    "test_pivot.to_csv('data/test_pivot_mp_svd.csv')"
   ]
  },
  {
   "cell_type": "code",
   "execution_count": null,
   "metadata": {
    "id": "9QjddG40SyLG"
   },
   "outputs": [],
   "source": []
  },
  {
   "cell_type": "code",
   "execution_count": null,
   "metadata": {
    "id": "_DJH4HnZSyLH",
    "outputId": "2db7c961-8d3b-46e8-a24f-9f4d71c17657"
   },
   "outputs": [
    {
     "data": {
      "text/html": [
       "<div>\n",
       "<style scoped>\n",
       "    .dataframe tbody tr th:only-of-type {\n",
       "        vertical-align: middle;\n",
       "    }\n",
       "\n",
       "    .dataframe tbody tr th {\n",
       "        vertical-align: top;\n",
       "    }\n",
       "\n",
       "    .dataframe thead th {\n",
       "        text-align: right;\n",
       "    }\n",
       "</style>\n",
       "<table border=\"1\" class=\"dataframe\">\n",
       "  <thead>\n",
       "    <tr style=\"text-align: right;\">\n",
       "      <th></th>\n",
       "      <th>user_id</th>\n",
       "      <th>ground_truth</th>\n",
       "      <th>most_popular</th>\n",
       "      <th>svd</th>\n",
       "    </tr>\n",
       "  </thead>\n",
       "  <tbody>\n",
       "    <tr>\n",
       "      <td>0</td>\n",
       "      <td>1</td>\n",
       "      <td>[196, 25133, 38928, 26405, 39657, 10258, 13032...</td>\n",
       "      <td>[24852, 13176, 21137, 21903, 47209, 47766, 476...</td>\n",
       "      <td>[196, 46149, 43154, 49235, 38928, 13176, 35951...</td>\n",
       "    </tr>\n",
       "    <tr>\n",
       "      <td>1</td>\n",
       "      <td>2</td>\n",
       "      <td>[22963, 7963, 16589, 32792, 41787, 22825, 1364...</td>\n",
       "      <td>[24852, 13176, 21137, 21903, 47209, 47766, 476...</td>\n",
       "      <td>[47209, 24852, 47766, 33754, 45066, 4957, 1852...</td>\n",
       "    </tr>\n",
       "    <tr>\n",
       "      <td>2</td>\n",
       "      <td>3</td>\n",
       "      <td>[39190, 18599, 23650, 21903, 47766, 24810]</td>\n",
       "      <td>[24852, 13176, 21137, 21903, 47209, 47766, 476...</td>\n",
       "      <td>[47766, 21903, 9387, 22035, 43961, 16797, 5212...</td>\n",
       "    </tr>\n",
       "    <tr>\n",
       "      <td>3</td>\n",
       "      <td>4</td>\n",
       "      <td>[26576, 25623, 21573]</td>\n",
       "      <td>[24852, 13176, 21137, 21903, 47209, 47766, 476...</td>\n",
       "      <td>[37646, 19057, 8174, 1940, 46969, 30233, 27344...</td>\n",
       "    </tr>\n",
       "    <tr>\n",
       "      <td>4</td>\n",
       "      <td>5</td>\n",
       "      <td>[15349, 19057, 16185, 21413, 20843, 20114, 482...</td>\n",
       "      <td>[24852, 13176, 21137, 21903, 47209, 47766, 476...</td>\n",
       "      <td>[26604, 40706, 8518, 31717, 21616, 11777, 2734...</td>\n",
       "    </tr>\n",
       "  </tbody>\n",
       "</table>\n",
       "</div>"
      ],
      "text/plain": [
       "   user_id                                       ground_truth  \\\n",
       "0        1  [196, 25133, 38928, 26405, 39657, 10258, 13032...   \n",
       "1        2  [22963, 7963, 16589, 32792, 41787, 22825, 1364...   \n",
       "2        3         [39190, 18599, 23650, 21903, 47766, 24810]   \n",
       "3        4                              [26576, 25623, 21573]   \n",
       "4        5  [15349, 19057, 16185, 21413, 20843, 20114, 482...   \n",
       "\n",
       "                                        most_popular  \\\n",
       "0  [24852, 13176, 21137, 21903, 47209, 47766, 476...   \n",
       "1  [24852, 13176, 21137, 21903, 47209, 47766, 476...   \n",
       "2  [24852, 13176, 21137, 21903, 47209, 47766, 476...   \n",
       "3  [24852, 13176, 21137, 21903, 47209, 47766, 476...   \n",
       "4  [24852, 13176, 21137, 21903, 47209, 47766, 476...   \n",
       "\n",
       "                                                 svd  \n",
       "0  [196, 46149, 43154, 49235, 38928, 13176, 35951...  \n",
       "1  [47209, 24852, 47766, 33754, 45066, 4957, 1852...  \n",
       "2  [47766, 21903, 9387, 22035, 43961, 16797, 5212...  \n",
       "3  [37646, 19057, 8174, 1940, 46969, 30233, 27344...  \n",
       "4  [26604, 40706, 8518, 31717, 21616, 11777, 2734...  "
      ]
     },
     "execution_count": 15,
     "metadata": {
      "tags": []
     },
     "output_type": "execute_result"
    }
   ],
   "source": [
    "test_pivot = pd.read_csv('data/test_pivot_mp_svd.csv')\n",
    "test_pivot = test_pivot.drop(labels=['Unnamed: 0'], axis=1)\n",
    "test_pivot['ground_truth'] = test_pivot['ground_truth'].apply(eval)\n",
    "test_pivot['most_popular'] = test_pivot['most_popular'].apply(eval)\n",
    "test_pivot['svd'] = test_pivot['svd'].apply(eval)\n",
    "test_pivot.head()"
   ]
  },
  {
   "cell_type": "markdown",
   "metadata": {
    "id": "t--XLqnAGke8"
   },
   "source": [
    "### Neural Network recommender"
   ]
  },
  {
   "cell_type": "markdown",
   "metadata": {
    "id": "bpwqwwowSyLH"
   },
   "source": [
    "Я сократила датасет для более быстрого обучения: взяла первые 10000 пользователей. Также сгенерировала \"отрицательные примеры\": для каждого пользователя сгенерировала записи о продуктах,которые он не покупал с рейтингом 0 в количестве, равном количеству купленных продуктов."
   ]
  },
  {
   "cell_type": "code",
   "execution_count": null,
   "metadata": {
    "id": "A_JQVOMISyLI",
    "outputId": "2f09f02e-6936-4663-8571-8fb2755e79df"
   },
   "outputs": [
    {
     "data": {
      "text/plain": [
       "616499"
      ]
     },
     "execution_count": 28,
     "metadata": {
      "tags": []
     },
     "output_type": "execute_result"
    }
   ],
   "source": [
    "df = (df_train_gb[df_train_gb['user_id'] <= 10000]).copy()\n",
    "len(df)"
   ]
  },
  {
   "cell_type": "code",
   "execution_count": null,
   "metadata": {
    "id": "pwiq1-y-SyLI",
    "outputId": "e1c1da01-5be1-421b-b8a0-e4da9b754f2e"
   },
   "outputs": [
    {
     "data": {
      "text/html": [
       "<div>\n",
       "<style scoped>\n",
       "    .dataframe tbody tr th:only-of-type {\n",
       "        vertical-align: middle;\n",
       "    }\n",
       "\n",
       "    .dataframe tbody tr th {\n",
       "        vertical-align: top;\n",
       "    }\n",
       "\n",
       "    .dataframe thead th {\n",
       "        text-align: right;\n",
       "    }\n",
       "</style>\n",
       "<table border=\"1\" class=\"dataframe\">\n",
       "  <thead>\n",
       "    <tr style=\"text-align: right;\">\n",
       "      <th></th>\n",
       "      <th>user_id</th>\n",
       "      <th>product_id</th>\n",
       "    </tr>\n",
       "  </thead>\n",
       "  <tbody>\n",
       "    <tr>\n",
       "      <td>0</td>\n",
       "      <td>1</td>\n",
       "      <td>[196, 10258, 10326, 12427, 13032, 13176, 14084...</td>\n",
       "    </tr>\n",
       "    <tr>\n",
       "      <td>1</td>\n",
       "      <td>2</td>\n",
       "      <td>[23, 79, 1559, 2002, 2573, 3151, 4071, 4957, 5...</td>\n",
       "    </tr>\n",
       "    <tr>\n",
       "      <td>2</td>\n",
       "      <td>3</td>\n",
       "      <td>[248, 1005, 1819, 7503, 8021, 9387, 12845, 149...</td>\n",
       "    </tr>\n",
       "    <tr>\n",
       "      <td>3</td>\n",
       "      <td>4</td>\n",
       "      <td>[1200, 2707, 7160, 7350, 11865, 17769, 19057, ...</td>\n",
       "    </tr>\n",
       "    <tr>\n",
       "      <td>4</td>\n",
       "      <td>5</td>\n",
       "      <td>[3376, 5999, 6808, 8518, 11777, 13870, 13988, ...</td>\n",
       "    </tr>\n",
       "  </tbody>\n",
       "</table>\n",
       "</div>"
      ],
      "text/plain": [
       "   user_id                                         product_id\n",
       "0        1  [196, 10258, 10326, 12427, 13032, 13176, 14084...\n",
       "1        2  [23, 79, 1559, 2002, 2573, 3151, 4071, 4957, 5...\n",
       "2        3  [248, 1005, 1819, 7503, 8021, 9387, 12845, 149...\n",
       "3        4  [1200, 2707, 7160, 7350, 11865, 17769, 19057, ...\n",
       "4        5  [3376, 5999, 6808, 8518, 11777, 13870, 13988, ..."
      ]
     },
     "execution_count": 29,
     "metadata": {
      "tags": []
     },
     "output_type": "execute_result"
    }
   ],
   "source": [
    "df_pivot = df.pivot_table(index='user_id', values=['product_id'], aggfunc={'product_id': lambda x: list(x)}).reset_index()\n",
    "df_pivot.head()"
   ]
  },
  {
   "cell_type": "code",
   "execution_count": null,
   "metadata": {
    "id": "a1Y2MZA-SyLJ",
    "outputId": "a9a8ed1b-c621-49f2-f5c0-083246ab8334"
   },
   "outputs": [
    {
     "data": {
      "text/plain": [
       "(array([    1,     2,     3, ..., 49685, 49687, 49688], dtype=int64), 34980)"
      ]
     },
     "execution_count": 30,
     "metadata": {
      "tags": []
     },
     "output_type": "execute_result"
    }
   ],
   "source": [
    "products_unique = np.unique(df['product_id'])\n",
    "products_unique, len(products_unique)"
   ]
  },
  {
   "cell_type": "code",
   "execution_count": null,
   "metadata": {
    "id": "J2XYsBfdSyLJ"
   },
   "outputs": [],
   "source": [
    "for i in range(len(df_pivot)):\n",
    "    products_not_purchased = list(set(products_unique) - set(df_pivot['product_id'][i]))\n",
    "    k = len(set(df_pivot['product_id'][i]))\n",
    "    new_products = random.choices(products_not_purchased, k=k)\n",
    "    df_tmp = pd.DataFrame({'user_id': [df_pivot['user_id'][i]] * k, 'product_id' : new_products, 'rating' : [0] * k})\n",
    "    df = df.append(df_tmp)"
   ]
  },
  {
   "cell_type": "code",
   "execution_count": null,
   "metadata": {
    "id": "b6ywcJKISyLK",
    "outputId": "28c92391-8438-416b-aab7-751bc897578c"
   },
   "outputs": [
    {
     "data": {
      "text/plain": [
       "1232998"
      ]
     },
     "execution_count": 35,
     "metadata": {
      "tags": []
     },
     "output_type": "execute_result"
    }
   ],
   "source": [
    "len(df)"
   ]
  },
  {
   "cell_type": "code",
   "execution_count": null,
   "metadata": {
    "id": "BBXlw9NySyLL"
   },
   "outputs": [],
   "source": [
    "df.to_csv('data/df_neuron.csv')"
   ]
  },
  {
   "cell_type": "code",
   "execution_count": null,
   "metadata": {
    "id": "aH222-CCSyLL"
   },
   "outputs": [],
   "source": []
  },
  {
   "cell_type": "code",
   "execution_count": null,
   "metadata": {
    "id": "8vU0eq2oSyLL",
    "outputId": "e3f8958c-9ede-4d1c-b24c-65b6c9c84a75"
   },
   "outputs": [
    {
     "data": {
      "text/html": [
       "<div>\n",
       "<style scoped>\n",
       "    .dataframe tbody tr th:only-of-type {\n",
       "        vertical-align: middle;\n",
       "    }\n",
       "\n",
       "    .dataframe tbody tr th {\n",
       "        vertical-align: top;\n",
       "    }\n",
       "\n",
       "    .dataframe thead th {\n",
       "        text-align: right;\n",
       "    }\n",
       "</style>\n",
       "<table border=\"1\" class=\"dataframe\">\n",
       "  <thead>\n",
       "    <tr style=\"text-align: right;\">\n",
       "      <th></th>\n",
       "      <th>user_id</th>\n",
       "      <th>product_id</th>\n",
       "      <th>rating</th>\n",
       "    </tr>\n",
       "  </thead>\n",
       "  <tbody>\n",
       "    <tr>\n",
       "      <td>0</td>\n",
       "      <td>1</td>\n",
       "      <td>196</td>\n",
       "      <td>10</td>\n",
       "    </tr>\n",
       "    <tr>\n",
       "      <td>1</td>\n",
       "      <td>1</td>\n",
       "      <td>10258</td>\n",
       "      <td>9</td>\n",
       "    </tr>\n",
       "    <tr>\n",
       "      <td>2</td>\n",
       "      <td>1</td>\n",
       "      <td>10326</td>\n",
       "      <td>1</td>\n",
       "    </tr>\n",
       "    <tr>\n",
       "      <td>3</td>\n",
       "      <td>1</td>\n",
       "      <td>12427</td>\n",
       "      <td>10</td>\n",
       "    </tr>\n",
       "    <tr>\n",
       "      <td>4</td>\n",
       "      <td>1</td>\n",
       "      <td>13032</td>\n",
       "      <td>3</td>\n",
       "    </tr>\n",
       "  </tbody>\n",
       "</table>\n",
       "</div>"
      ],
      "text/plain": [
       "   user_id  product_id  rating\n",
       "0        1         196      10\n",
       "1        1       10258       9\n",
       "2        1       10326       1\n",
       "3        1       12427      10\n",
       "4        1       13032       3"
      ]
     },
     "execution_count": 36,
     "metadata": {
      "tags": []
     },
     "output_type": "execute_result"
    }
   ],
   "source": [
    "df = pd.read_csv('data/df_neuron.csv')\n",
    "df = df.drop(labels=['Unnamed: 0'], axis=1)\n",
    "df.head()"
   ]
  },
  {
   "cell_type": "code",
   "execution_count": null,
   "metadata": {
    "id": "vpsnpZyPSyLM",
    "outputId": "24a3cd5e-a128-4554-bd13-1c7806ef2fa1"
   },
   "outputs": [
    {
     "data": {
      "text/plain": [
       "1232998"
      ]
     },
     "execution_count": 37,
     "metadata": {
      "tags": []
     },
     "output_type": "execute_result"
    }
   ],
   "source": [
    "len(df)"
   ]
  },
  {
   "cell_type": "code",
   "execution_count": null,
   "metadata": {
    "id": "8OAA2JRaSyLM"
   },
   "outputs": [],
   "source": [
    "df = df.sample(frac=1, random_state=42)"
   ]
  },
  {
   "cell_type": "code",
   "execution_count": null,
   "metadata": {
    "id": "gvqsE96VSyLM"
   },
   "outputs": [],
   "source": [
    "user_ids = df[\"user_id\"].unique().tolist()\n",
    "user2user_encoded = {x: i for i, x in enumerate(user_ids)}\n",
    "userencoded2user = {i: x for i, x in enumerate(user_ids)}\n",
    "df[\"user_id_new\"] = df[\"user_id\"].map(user2user_encoded)\n",
    "\n",
    "product_ids = df[\"product_id\"].unique().tolist()\n",
    "product2product_encoded = {x: i for i, x in enumerate(product_ids)}\n",
    "product_encoded2product = {i: x for i, x in enumerate(product_ids)}\n",
    "df[\"product_id_new\"] = df[\"product_id\"].map(product2product_encoded)"
   ]
  },
  {
   "cell_type": "code",
   "execution_count": null,
   "metadata": {
    "id": "BKRelR9cSyLN"
   },
   "outputs": [],
   "source": [
    "num_users = len(user2user_encoded)\n",
    "num_products = len(product_encoded2product)"
   ]
  },
  {
   "cell_type": "code",
   "execution_count": null,
   "metadata": {
    "id": "O2hMchrkSyLN"
   },
   "outputs": [],
   "source": [
    "x = df[[\"user_id_new\", \"product_id_new\"]].values\n",
    "min_rating = min(df[\"rating\"])\n",
    "max_rating = max(df[\"rating\"])\n",
    "y = df[\"rating\"].apply(lambda x: (x - min_rating) / (max_rating - min_rating)).values"
   ]
  },
  {
   "cell_type": "code",
   "execution_count": null,
   "metadata": {
    "id": "cleoX_W1SyLO"
   },
   "outputs": [],
   "source": [
    "train_indices = int(0.9 * df.shape[0])\n",
    "x_train, x_val, y_train, y_val = (\n",
    "    x[:train_indices],\n",
    "    x[train_indices:],\n",
    "    y[:train_indices],\n",
    "    y[train_indices:]\n",
    ")"
   ]
  },
  {
   "cell_type": "code",
   "execution_count": null,
   "metadata": {
    "id": "mBLcyVVsSyLO"
   },
   "outputs": [],
   "source": [
    "EMBEDDING_SIZE = 50\n",
    "N_USERS = 206209\n",
    "N_ITEMS = 49688\n",
    "\n",
    "class RecommenderNet(keras.Model):\n",
    "    def __init__(self, num_users=N_USERS, num_movies=N_ITEMS, embedding_size=EMBEDDING_SIZE, **kwargs):\n",
    "        super(RecommenderNet, self).__init__(**kwargs)\n",
    "        self.num_users = num_users\n",
    "        self.num_movies = num_movies\n",
    "        self.embedding_size = embedding_size\n",
    "        self.user_embedding = layers.Embedding(\n",
    "            num_users,\n",
    "            embedding_size,\n",
    "            embeddings_initializer=\"he_normal\",\n",
    "            embeddings_regularizer=keras.regularizers.l2(1e-6),\n",
    "        )\n",
    "        self.user_bias = layers.Embedding(num_users, 1)\n",
    "        self.movie_embedding = layers.Embedding(\n",
    "            num_movies,\n",
    "            embedding_size,\n",
    "            embeddings_initializer=\"he_normal\",\n",
    "            embeddings_regularizer=keras.regularizers.l2(1e-6),\n",
    "        )\n",
    "        self.movie_bias = layers.Embedding(num_movies, 1)\n",
    "\n",
    "    def call(self, inputs):\n",
    "        user_vector = self.user_embedding(inputs[:, 0])\n",
    "        user_bias = self.user_bias(inputs[:, 0])\n",
    "        movie_vector = self.movie_embedding(inputs[:, 1])\n",
    "        movie_bias = self.movie_bias(inputs[:, 1])\n",
    "        dot_user_movie = tf.tensordot(user_vector, movie_vector, 2)\n",
    "        # Add all the components (including bias)\n",
    "        x = dot_user_movie + user_bias + movie_bias\n",
    "        # The sigmoid activation forces the rating to between 0 and 1\n",
    "        return tf.nn.sigmoid(x)"
   ]
  },
  {
   "cell_type": "code",
   "execution_count": null,
   "metadata": {
    "id": "w_3APhxpSyLP"
   },
   "outputs": [],
   "source": [
    "model = RecommenderNet(num_users, num_products)\n",
    "model.compile(\n",
    "    loss=tf.keras.losses.BinaryCrossentropy(), optimizer=keras.optimizers.Adam(lr=0.001)\n",
    ")"
   ]
  },
  {
   "cell_type": "code",
   "execution_count": null,
   "metadata": {
    "id": "b7Bgj2dCSyLP",
    "outputId": "efba1a41-1c81-4f02-934f-0fdd9c1fb809"
   },
   "outputs": [
    {
     "name": "stdout",
     "output_type": "stream",
     "text": [
      "Epoch 1/5\n",
      "17340/17340 [==============================] - 266s 15ms/step - loss: 0.2472 - val_loss: 0.0805\n",
      "Epoch 2/5\n",
      "17340/17340 [==============================] - 275s 16ms/step - loss: 0.0798 - val_loss: 0.0803\n",
      "Epoch 3/5\n",
      "17340/17340 [==============================] - 280s 16ms/step - loss: 0.0793 - val_loss: 0.0791\n",
      "Epoch 4/5\n",
      "17340/17340 [==============================] - 271s 16ms/step - loss: 0.0779 - val_loss: 0.0773\n",
      "Epoch 5/5\n",
      "17340/17340 [==============================] - 272s 16ms/step - loss: 0.0763 - val_loss: 0.0757\n"
     ]
    }
   ],
   "source": [
    "history = model.fit(\n",
    "    x=x_train,\n",
    "    y=y_train,\n",
    "    batch_size=64,\n",
    "    epochs=5,\n",
    "    verbose=1,\n",
    "    validation_data=(x_val, y_val),\n",
    ")"
   ]
  },
  {
   "cell_type": "code",
   "execution_count": null,
   "metadata": {
    "id": "UZ3twGcYSyLQ",
    "outputId": "b1835af9-6628-4b8c-9ab9-c1506431a384"
   },
   "outputs": [
    {
     "name": "stdout",
     "output_type": "stream",
     "text": [
      "Model: \"recommender_net_1\"\n",
      "_________________________________________________________________\n",
      "Layer (type)                 Output Shape              Param #   \n",
      "=================================================================\n",
      "embedding_4 (Embedding)      multiple                  500000    \n",
      "_________________________________________________________________\n",
      "embedding_5 (Embedding)      multiple                  10000     \n",
      "_________________________________________________________________\n",
      "embedding_6 (Embedding)      multiple                  1749000   \n",
      "_________________________________________________________________\n",
      "embedding_7 (Embedding)      multiple                  34980     \n",
      "=================================================================\n",
      "Total params: 2,293,980\n",
      "Trainable params: 2,293,980\n",
      "Non-trainable params: 0\n",
      "_________________________________________________________________\n"
     ]
    }
   ],
   "source": [
    "model.summary()"
   ]
  },
  {
   "cell_type": "code",
   "execution_count": null,
   "metadata": {
    "id": "gYAsLHxMSyLQ",
    "outputId": "7f884d5d-946d-42a4-c08b-5c650fc2b814"
   },
   "outputs": [
    {
     "data": {
      "image/png": "[encoded data removed]",
      "text/plain": [
       "<Figure size 432x288 with 1 Axes>"
      ]
     },
     "metadata": {
      "needs_background": "light",
      "tags": []
     },
     "output_type": "display_data"
    }
   ],
   "source": [
    "plt.plot(history.history[\"loss\"])\n",
    "plt.plot(history.history[\"val_loss\"])\n",
    "plt.title(\"model loss\")\n",
    "plt.ylabel(\"loss\")\n",
    "plt.xlabel(\"epoch\")\n",
    "plt.legend([\"train\", \"test\"], loc=\"upper left\")\n",
    "plt.show()"
   ]
  },
  {
   "cell_type": "code",
   "execution_count": null,
   "metadata": {
    "id": "F-vlo6CiSyLQ"
   },
   "outputs": [],
   "source": [
    "checkpoint_path = \"training_5/cp.ckpt\"\n",
    "checkpoint_dir = os.path.dirname(checkpoint_path)"
   ]
  },
  {
   "cell_type": "code",
   "execution_count": null,
   "metadata": {
    "id": "F3GyxpW8SyLR"
   },
   "outputs": [],
   "source": [
    "model.save_weights(checkpoint_path.format(epoch=5))"
   ]
  },
  {
   "cell_type": "code",
   "execution_count": null,
   "metadata": {
    "id": "AVM7bXyCSyLR"
   },
   "outputs": [],
   "source": []
  },
  {
   "cell_type": "code",
   "execution_count": null,
   "metadata": {
    "id": "OCUsGRn1SyLR"
   },
   "outputs": [],
   "source": [
    "# model = RecommenderNet(num_users, num_products)\n",
    "# model.load_weights(tf.train.latest_checkpoint(checkpoint_dir))"
   ]
  },
  {
   "cell_type": "code",
   "execution_count": null,
   "metadata": {
    "id": "SCbxB1EZSyLS"
   },
   "outputs": [],
   "source": [
    "products = np.unique(df['product_id'])\n",
    "products_enc = [[product2product_encoded.get(x)] for x in products]"
   ]
  },
  {
   "cell_type": "code",
   "execution_count": null,
   "metadata": {
    "id": "kleUNexiSyLS",
    "outputId": "075baf0e-b48f-4a1b-ffc3-bb8a1d26694f"
   },
   "outputs": [
    {
     "name": "stdout",
     "output_type": "stream",
     "text": [
      "Wall time: 1h 57s\n"
     ]
    }
   ],
   "source": [
    "%%time\n",
    "top_ratings_indices_list = []\n",
    "k = 10\n",
    "\n",
    "for i in test_pivot['user_id'][:10000].values:\n",
    "    user_enc = user2user_encoded.get(i)\n",
    "    user_product_array = np.hstack(\n",
    "        ([[user_enc]] * len(products_enc), products_enc)\n",
    "    )\n",
    "    ratings = model.predict(user_product_array).flatten()\n",
    "    top_ratings_indices_enc = ratings.argsort()[-k:][::-1]\n",
    "    top_ratings_indices = [\n",
    "        product_encoded2product.get(products_enc[x][0]) for x in top_ratings_indices_enc\n",
    "    ]\n",
    "    top_ratings_indices_list.append(top_ratings_indices)"
   ]
  },
  {
   "cell_type": "code",
   "execution_count": null,
   "metadata": {
    "id": "dYiFK-ycSyLS",
    "outputId": "7217f143-425e-4b86-a265-52e4eeaebb30"
   },
   "outputs": [
    {
     "name": "stdout",
     "output_type": "stream",
     "text": [
      "      metric     value\n",
      "0  HitRate@k  0.247900\n",
      "1      MAP@k  0.095903\n",
      "2     NDCG@k  0.037399\n"
     ]
    }
   ],
   "source": [
    "print_metrics(test_pivot['ground_truth'][:10000], top_ratings_indices_list, 10)"
   ]
  },
  {
   "cell_type": "code",
   "execution_count": null,
   "metadata": {
    "id": "yTJg-6zLSyLT"
   },
   "outputs": [],
   "source": []
  },
  {
   "cell_type": "code",
   "execution_count": null,
   "metadata": {
    "id": "NUlNUZYRSyLT"
   },
   "outputs": [],
   "source": [
    "test_pivot_10000 = test_pivot.iloc[:10000].copy()"
   ]
  },
  {
   "cell_type": "code",
   "execution_count": null,
   "metadata": {
    "id": "uaJ9zTi2SyLT"
   },
   "outputs": [],
   "source": [
    "test_pivot_10000['nn'] = top_ratings_indices_list"
   ]
  },
  {
   "cell_type": "code",
   "execution_count": null,
   "metadata": {
    "id": "e6ds9MWHSyLT",
    "outputId": "f46ca4d6-23c7-423a-c0de-22d1c28ceade"
   },
   "outputs": [
    {
     "data": {
      "text/html": [
       "<div>\n",
       "<style scoped>\n",
       "    .dataframe tbody tr th:only-of-type {\n",
       "        vertical-align: middle;\n",
       "    }\n",
       "\n",
       "    .dataframe tbody tr th {\n",
       "        vertical-align: top;\n",
       "    }\n",
       "\n",
       "    .dataframe thead th {\n",
       "        text-align: right;\n",
       "    }\n",
       "</style>\n",
       "<table border=\"1\" class=\"dataframe\">\n",
       "  <thead>\n",
       "    <tr style=\"text-align: right;\">\n",
       "      <th></th>\n",
       "      <th>user_id</th>\n",
       "      <th>ground_truth</th>\n",
       "      <th>most_popular</th>\n",
       "      <th>svd</th>\n",
       "      <th>nn</th>\n",
       "    </tr>\n",
       "  </thead>\n",
       "  <tbody>\n",
       "    <tr>\n",
       "      <td>0</td>\n",
       "      <td>1</td>\n",
       "      <td>[196, 25133, 38928, 26405, 39657, 10258, 13032...</td>\n",
       "      <td>[24852, 13176, 21137, 21903, 47209, 47766, 476...</td>\n",
       "      <td>[196, 46149, 43154, 49235, 38928, 13176, 35951...</td>\n",
       "      <td>[24852, 44632, 27845, 36865, 11520, 38689, 294...</td>\n",
       "    </tr>\n",
       "    <tr>\n",
       "      <td>1</td>\n",
       "      <td>2</td>\n",
       "      <td>[22963, 7963, 16589, 32792, 41787, 22825, 1364...</td>\n",
       "      <td>[24852, 13176, 21137, 21903, 47209, 47766, 476...</td>\n",
       "      <td>[47209, 24852, 47766, 33754, 45066, 4957, 1852...</td>\n",
       "      <td>[24852, 38544, 49683, 4210, 44632, 27845, 1157...</td>\n",
       "    </tr>\n",
       "    <tr>\n",
       "      <td>2</td>\n",
       "      <td>3</td>\n",
       "      <td>[39190, 18599, 23650, 21903, 47766, 24810]</td>\n",
       "      <td>[24852, 13176, 21137, 21903, 47209, 47766, 476...</td>\n",
       "      <td>[47766, 21903, 9387, 22035, 43961, 16797, 5212...</td>\n",
       "      <td>[24852, 44632, 29447, 30233, 19660, 11576, 496...</td>\n",
       "    </tr>\n",
       "    <tr>\n",
       "      <td>3</td>\n",
       "      <td>4</td>\n",
       "      <td>[26576, 25623, 21573]</td>\n",
       "      <td>[24852, 13176, 21137, 21903, 47209, 47766, 476...</td>\n",
       "      <td>[37646, 19057, 8174, 1940, 46969, 30233, 27344...</td>\n",
       "      <td>[24852, 13176, 29447, 38689, 27845, 47209, 115...</td>\n",
       "    </tr>\n",
       "    <tr>\n",
       "      <td>4</td>\n",
       "      <td>5</td>\n",
       "      <td>[15349, 19057, 16185, 21413, 20843, 20114, 482...</td>\n",
       "      <td>[24852, 13176, 21137, 21903, 47209, 47766, 476...</td>\n",
       "      <td>[26604, 40706, 8518, 31717, 21616, 11777, 2734...</td>\n",
       "      <td>[27845, 29447, 24852, 44632, 38689, 13176, 492...</td>\n",
       "    </tr>\n",
       "  </tbody>\n",
       "</table>\n",
       "</div>"
      ],
      "text/plain": [
       "   user_id                                       ground_truth  \\\n",
       "0        1  [196, 25133, 38928, 26405, 39657, 10258, 13032...   \n",
       "1        2  [22963, 7963, 16589, 32792, 41787, 22825, 1364...   \n",
       "2        3         [39190, 18599, 23650, 21903, 47766, 24810]   \n",
       "3        4                              [26576, 25623, 21573]   \n",
       "4        5  [15349, 19057, 16185, 21413, 20843, 20114, 482...   \n",
       "\n",
       "                                        most_popular  \\\n",
       "0  [24852, 13176, 21137, 21903, 47209, 47766, 476...   \n",
       "1  [24852, 13176, 21137, 21903, 47209, 47766, 476...   \n",
       "2  [24852, 13176, 21137, 21903, 47209, 47766, 476...   \n",
       "3  [24852, 13176, 21137, 21903, 47209, 47766, 476...   \n",
       "4  [24852, 13176, 21137, 21903, 47209, 47766, 476...   \n",
       "\n",
       "                                                 svd  \\\n",
       "0  [196, 46149, 43154, 49235, 38928, 13176, 35951...   \n",
       "1  [47209, 24852, 47766, 33754, 45066, 4957, 1852...   \n",
       "2  [47766, 21903, 9387, 22035, 43961, 16797, 5212...   \n",
       "3  [37646, 19057, 8174, 1940, 46969, 30233, 27344...   \n",
       "4  [26604, 40706, 8518, 31717, 21616, 11777, 2734...   \n",
       "\n",
       "                                                  nn  \n",
       "0  [24852, 44632, 27845, 36865, 11520, 38689, 294...  \n",
       "1  [24852, 38544, 49683, 4210, 44632, 27845, 1157...  \n",
       "2  [24852, 44632, 29447, 30233, 19660, 11576, 496...  \n",
       "3  [24852, 13176, 29447, 38689, 27845, 47209, 115...  \n",
       "4  [27845, 29447, 24852, 44632, 38689, 13176, 492...  "
      ]
     },
     "execution_count": 86,
     "metadata": {
      "tags": []
     },
     "output_type": "execute_result"
    }
   ],
   "source": [
    "test_pivot_10000.head()"
   ]
  },
  {
   "cell_type": "code",
   "execution_count": null,
   "metadata": {
    "id": "so_kUSzXSyLU"
   },
   "outputs": [],
   "source": [
    "test_pivot_10000.to_csv('data/test_pivot_10000.csv')"
   ]
  },
  {
   "cell_type": "markdown",
   "metadata": {
    "id": "-NFqzUCASyLU"
   },
   "source": [
    "### ALS"
   ]
  },
  {
   "cell_type": "code",
   "execution_count": null,
   "metadata": {
    "id": "9B5ziu8fSyLU",
    "outputId": "74083aac-8b87-46c6-f111-cb0159f18b06"
   },
   "outputs": [
    {
     "data": {
      "text/html": [
       "<div>\n",
       "<style scoped>\n",
       "    .dataframe tbody tr th:only-of-type {\n",
       "        vertical-align: middle;\n",
       "    }\n",
       "\n",
       "    .dataframe tbody tr th {\n",
       "        vertical-align: top;\n",
       "    }\n",
       "\n",
       "    .dataframe thead th {\n",
       "        text-align: right;\n",
       "    }\n",
       "</style>\n",
       "<table border=\"1\" class=\"dataframe\">\n",
       "  <thead>\n",
       "    <tr style=\"text-align: right;\">\n",
       "      <th></th>\n",
       "      <th>user_id</th>\n",
       "      <th>product_id</th>\n",
       "      <th>rating</th>\n",
       "    </tr>\n",
       "  </thead>\n",
       "  <tbody>\n",
       "    <tr>\n",
       "      <td>0</td>\n",
       "      <td>1</td>\n",
       "      <td>196</td>\n",
       "      <td>10</td>\n",
       "    </tr>\n",
       "    <tr>\n",
       "      <td>1</td>\n",
       "      <td>1</td>\n",
       "      <td>10258</td>\n",
       "      <td>9</td>\n",
       "    </tr>\n",
       "    <tr>\n",
       "      <td>2</td>\n",
       "      <td>1</td>\n",
       "      <td>10326</td>\n",
       "      <td>1</td>\n",
       "    </tr>\n",
       "    <tr>\n",
       "      <td>3</td>\n",
       "      <td>1</td>\n",
       "      <td>12427</td>\n",
       "      <td>10</td>\n",
       "    </tr>\n",
       "    <tr>\n",
       "      <td>4</td>\n",
       "      <td>1</td>\n",
       "      <td>13032</td>\n",
       "      <td>3</td>\n",
       "    </tr>\n",
       "  </tbody>\n",
       "</table>\n",
       "</div>"
      ],
      "text/plain": [
       "   user_id  product_id  rating\n",
       "0        1         196      10\n",
       "1        1       10258       9\n",
       "2        1       10326       1\n",
       "3        1       12427      10\n",
       "4        1       13032       3"
      ]
     },
     "execution_count": 100,
     "metadata": {
      "tags": []
     },
     "output_type": "execute_result"
    }
   ],
   "source": [
    "df_train_gb_new = df_train_gb.copy()\n",
    "df_train_gb_new.head()"
   ]
  },
  {
   "cell_type": "code",
   "execution_count": null,
   "metadata": {
    "id": "RO1Ke94HSyLV"
   },
   "outputs": [],
   "source": [
    "items = np.unique(df_train_gb_new['product_id'].values)\n",
    "item_to_encodeditem = {x: i for i, x in enumerate(items)}\n",
    "df_train_gb_new['product_id_new'] = df_train_gb_new['product_id'].map(item_to_encodeditem)\n",
    "encodeditem_to_item = {i: x for i, x in enumerate(items)}   \n",
    "\n",
    "users = np.unique(df_train_gb_new['user_id'].values)\n",
    "user_to_encodeduser = {x: i for i, x in enumerate(users)}\n",
    "df_train_gb_new['user_id_new'] = df_train_gb_new['user_id'].map(user_to_encodeduser)\n",
    "encodeduser_to_user = {i: x for i, x in enumerate(users)}"
   ]
  },
  {
   "cell_type": "code",
   "execution_count": null,
   "metadata": {
    "id": "VjXlQxDzSyLV"
   },
   "outputs": [],
   "source": [
    "sparse_item_user = csr_matrix((df_train_gb_new['rating'].astype(float), \n",
    "                               (df_train_gb_new['product_id_new'], df_train_gb_new['user_id_new'])))\n",
    "sparse_user_item = csr_matrix((df_train_gb_new['rating'].astype(float), \n",
    "                               (df_train_gb_new['user_id_new'], df_train_gb_new['product_id_new'])))"
   ]
  },
  {
   "cell_type": "code",
   "execution_count": null,
   "metadata": {
    "colab": {
     "referenced_widgets": [
      "95995edfa25d497bad1c52cd0c883586"
     ]
    },
    "id": "j45cgDF7SyLW",
    "outputId": "5152ab85-c4b9-4e67-a505-720c1a51d645"
   },
   "outputs": [
    {
     "data": {
      "application/vnd.jupyter.widget-view+json": {
       "model_id": "95995edfa25d497bad1c52cd0c883586",
       "version_major": 2,
       "version_minor": 0
      },
      "text/plain": [
       "HBox(children=(IntProgress(value=0, max=20), HTML(value='')))"
      ]
     },
     "metadata": {
      "tags": []
     },
     "output_type": "display_data"
    },
    {
     "name": "stdout",
     "output_type": "stream",
     "text": [
      "\n"
     ]
    }
   ],
   "source": [
    "model_als = implicit.als.AlternatingLeastSquares(regularization=0.3, iterations=20)\n",
    "model_als.fit(sparse_item_user)"
   ]
  },
  {
   "cell_type": "code",
   "execution_count": null,
   "metadata": {
    "colab": {
     "referenced_widgets": [
      "7a9a5e27403f4c81967b78b0222b2d0b"
     ]
    },
    "id": "-KMa-7QaSyLW",
    "outputId": "6945cdbd-cd51-4bfb-aedd-0c68323dccdd"
   },
   "outputs": [
    {
     "data": {
      "application/vnd.jupyter.widget-view+json": {
       "model_id": "7a9a5e27403f4c81967b78b0222b2d0b",
       "version_major": 2,
       "version_minor": 0
      },
      "text/plain": [
       "HBox(children=(IntProgress(value=0, max=206209), HTML(value='')))"
      ]
     },
     "metadata": {
      "tags": []
     },
     "output_type": "display_data"
    },
    {
     "name": "stdout",
     "output_type": "stream",
     "text": [
      "\n"
     ]
    }
   ],
   "source": [
    "recommendations_ids_enc = model_als.recommend_all(sparse_user_item, filter_already_liked_items=False)"
   ]
  },
  {
   "cell_type": "code",
   "execution_count": null,
   "metadata": {
    "id": "QB8qAj3lSyLW"
   },
   "outputs": [],
   "source": [
    "recommendations_ids = [[encodeditem_to_item.get(j) for j in i] for i in recommendations_ids_enc]"
   ]
  },
  {
   "cell_type": "code",
   "execution_count": null,
   "metadata": {
    "id": "iKlLWmNWSyLX",
    "outputId": "6afd99cf-6072-48eb-eb45-4707d4043f15"
   },
   "outputs": [
    {
     "name": "stdout",
     "output_type": "stream",
     "text": [
      "      metric     value\n",
      "0  HitRate@k  0.705406\n",
      "1      MAP@k  0.356779\n",
      "2     NDCG@k  0.219324\n"
     ]
    }
   ],
   "source": [
    "print_metrics(test_pivot['ground_truth'], recommendations_ids, 10)"
   ]
  },
  {
   "cell_type": "code",
   "execution_count": null,
   "metadata": {
    "id": "64jaBckgSyLX"
   },
   "outputs": [],
   "source": [
    "test_pivot['als'] = recommendations_ids"
   ]
  },
  {
   "cell_type": "code",
   "execution_count": null,
   "metadata": {
    "id": "FWtmDcFZSyLX"
   },
   "outputs": [],
   "source": [
    "test_pivot.to_csv('data/test_pivot_mp_svd_als.csv')"
   ]
  },
  {
   "cell_type": "code",
   "execution_count": null,
   "metadata": {
    "id": "rGXJpEouSyLY"
   },
   "outputs": [],
   "source": []
  },
  {
   "cell_type": "code",
   "execution_count": null,
   "metadata": {
    "id": "RJ9ZI9ciSyLY",
    "outputId": "eeacc90b-3e14-4d3e-c535-fe3f9f102e16"
   },
   "outputs": [
    {
     "data": {
      "text/html": [
       "<div>\n",
       "<style scoped>\n",
       "    .dataframe tbody tr th:only-of-type {\n",
       "        vertical-align: middle;\n",
       "    }\n",
       "\n",
       "    .dataframe tbody tr th {\n",
       "        vertical-align: top;\n",
       "    }\n",
       "\n",
       "    .dataframe thead th {\n",
       "        text-align: right;\n",
       "    }\n",
       "</style>\n",
       "<table border=\"1\" class=\"dataframe\">\n",
       "  <thead>\n",
       "    <tr style=\"text-align: right;\">\n",
       "      <th></th>\n",
       "      <th>user_id</th>\n",
       "      <th>ground_truth</th>\n",
       "      <th>most_popular</th>\n",
       "      <th>svd</th>\n",
       "      <th>als</th>\n",
       "    </tr>\n",
       "  </thead>\n",
       "  <tbody>\n",
       "    <tr>\n",
       "      <td>0</td>\n",
       "      <td>1</td>\n",
       "      <td>[196, 25133, 38928, 26405, 39657, 10258, 13032...</td>\n",
       "      <td>[24852, 13176, 21137, 21903, 47209, 47766, 476...</td>\n",
       "      <td>[196, 46149, 43154, 49235, 38928, 13176, 35951...</td>\n",
       "      <td>[13176, 196, 49235, 37710, 6184, 46149, 38928,...</td>\n",
       "    </tr>\n",
       "    <tr>\n",
       "      <td>1</td>\n",
       "      <td>2</td>\n",
       "      <td>[22963, 7963, 16589, 32792, 41787, 22825, 1364...</td>\n",
       "      <td>[24852, 13176, 21137, 21903, 47209, 47766, 476...</td>\n",
       "      <td>[47209, 24852, 47766, 33754, 45066, 4957, 1852...</td>\n",
       "      <td>[33754, 13176, 18523, 24852, 4957, 33787, 4720...</td>\n",
       "    </tr>\n",
       "    <tr>\n",
       "      <td>2</td>\n",
       "      <td>3</td>\n",
       "      <td>[39190, 18599, 23650, 21903, 47766, 24810]</td>\n",
       "      <td>[24852, 13176, 21137, 21903, 47209, 47766, 476...</td>\n",
       "      <td>[47766, 21903, 9387, 22035, 43961, 16797, 5212...</td>\n",
       "      <td>[21903, 47766, 16797, 42265, 21137, 43961, 496...</td>\n",
       "    </tr>\n",
       "    <tr>\n",
       "      <td>3</td>\n",
       "      <td>4</td>\n",
       "      <td>[26576, 25623, 21573]</td>\n",
       "      <td>[24852, 13176, 21137, 21903, 47209, 47766, 476...</td>\n",
       "      <td>[37646, 19057, 8174, 1940, 46969, 30233, 27344...</td>\n",
       "      <td>[37646, 19057, 28204, 25146, 22825, 8174, 1074...</td>\n",
       "    </tr>\n",
       "    <tr>\n",
       "      <td>4</td>\n",
       "      <td>5</td>\n",
       "      <td>[15349, 19057, 16185, 21413, 20843, 20114, 482...</td>\n",
       "      <td>[24852, 13176, 21137, 21903, 47209, 47766, 476...</td>\n",
       "      <td>[26604, 40706, 8518, 31717, 21616, 11777, 2734...</td>\n",
       "      <td>[26604, 40706, 8518, 11777, 21616, 31717, 2796...</td>\n",
       "    </tr>\n",
       "  </tbody>\n",
       "</table>\n",
       "</div>"
      ],
      "text/plain": [
       "   user_id                                       ground_truth  \\\n",
       "0        1  [196, 25133, 38928, 26405, 39657, 10258, 13032...   \n",
       "1        2  [22963, 7963, 16589, 32792, 41787, 22825, 1364...   \n",
       "2        3         [39190, 18599, 23650, 21903, 47766, 24810]   \n",
       "3        4                              [26576, 25623, 21573]   \n",
       "4        5  [15349, 19057, 16185, 21413, 20843, 20114, 482...   \n",
       "\n",
       "                                        most_popular  \\\n",
       "0  [24852, 13176, 21137, 21903, 47209, 47766, 476...   \n",
       "1  [24852, 13176, 21137, 21903, 47209, 47766, 476...   \n",
       "2  [24852, 13176, 21137, 21903, 47209, 47766, 476...   \n",
       "3  [24852, 13176, 21137, 21903, 47209, 47766, 476...   \n",
       "4  [24852, 13176, 21137, 21903, 47209, 47766, 476...   \n",
       "\n",
       "                                                 svd  \\\n",
       "0  [196, 46149, 43154, 49235, 38928, 13176, 35951...   \n",
       "1  [47209, 24852, 47766, 33754, 45066, 4957, 1852...   \n",
       "2  [47766, 21903, 9387, 22035, 43961, 16797, 5212...   \n",
       "3  [37646, 19057, 8174, 1940, 46969, 30233, 27344...   \n",
       "4  [26604, 40706, 8518, 31717, 21616, 11777, 2734...   \n",
       "\n",
       "                                                 als  \n",
       "0  [13176, 196, 49235, 37710, 6184, 46149, 38928,...  \n",
       "1  [33754, 13176, 18523, 24852, 4957, 33787, 4720...  \n",
       "2  [21903, 47766, 16797, 42265, 21137, 43961, 496...  \n",
       "3  [37646, 19057, 28204, 25146, 22825, 8174, 1074...  \n",
       "4  [26604, 40706, 8518, 11777, 21616, 31717, 2796...  "
      ]
     },
     "execution_count": 14,
     "metadata": {
      "tags": []
     },
     "output_type": "execute_result"
    }
   ],
   "source": [
    "test_pivot = pd.read_csv('data/test_pivot_mp_svd_als.csv')\n",
    "test_pivot = test_pivot.drop(labels=['Unnamed: 0'], axis=1)\n",
    "test_pivot['ground_truth'] = test_pivot['ground_truth'].apply(eval)\n",
    "test_pivot['most_popular'] = test_pivot['most_popular'].apply(eval)\n",
    "test_pivot['svd'] = test_pivot['svd'].apply(eval)\n",
    "test_pivot['als'] = test_pivot['als'].apply(eval)\n",
    "test_pivot.head()"
   ]
  },
  {
   "cell_type": "markdown",
   "metadata": {
    "id": "VoxK9EBKSyLZ"
   },
   "source": [
    "### Annoy KNN"
   ]
  },
  {
   "cell_type": "code",
   "execution_count": null,
   "metadata": {
    "id": "E00JDU-PSyLZ",
    "outputId": "ad9bf969-902f-413d-d804-7cfd22ddb106"
   },
   "outputs": [
    {
     "data": {
      "text/html": [
       "<div>\n",
       "<style scoped>\n",
       "    .dataframe tbody tr th:only-of-type {\n",
       "        vertical-align: middle;\n",
       "    }\n",
       "\n",
       "    .dataframe tbody tr th {\n",
       "        vertical-align: top;\n",
       "    }\n",
       "\n",
       "    .dataframe thead th {\n",
       "        text-align: right;\n",
       "    }\n",
       "</style>\n",
       "<table border=\"1\" class=\"dataframe\">\n",
       "  <thead>\n",
       "    <tr style=\"text-align: right;\">\n",
       "      <th></th>\n",
       "      <th>user_id</th>\n",
       "      <th>product_id</th>\n",
       "      <th>rating</th>\n",
       "    </tr>\n",
       "  </thead>\n",
       "  <tbody>\n",
       "    <tr>\n",
       "      <td>0</td>\n",
       "      <td>1</td>\n",
       "      <td>196</td>\n",
       "      <td>10</td>\n",
       "    </tr>\n",
       "    <tr>\n",
       "      <td>1</td>\n",
       "      <td>1</td>\n",
       "      <td>10258</td>\n",
       "      <td>9</td>\n",
       "    </tr>\n",
       "    <tr>\n",
       "      <td>2</td>\n",
       "      <td>1</td>\n",
       "      <td>10326</td>\n",
       "      <td>1</td>\n",
       "    </tr>\n",
       "    <tr>\n",
       "      <td>3</td>\n",
       "      <td>1</td>\n",
       "      <td>12427</td>\n",
       "      <td>10</td>\n",
       "    </tr>\n",
       "    <tr>\n",
       "      <td>4</td>\n",
       "      <td>1</td>\n",
       "      <td>13032</td>\n",
       "      <td>3</td>\n",
       "    </tr>\n",
       "  </tbody>\n",
       "</table>\n",
       "</div>"
      ],
      "text/plain": [
       "   user_id  product_id  rating\n",
       "0        1         196      10\n",
       "1        1       10258       9\n",
       "2        1       10326       1\n",
       "3        1       12427      10\n",
       "4        1       13032       3"
      ]
     },
     "execution_count": 15,
     "metadata": {
      "tags": []
     },
     "output_type": "execute_result"
    }
   ],
   "source": [
    "df_train_gb_new = df_train_gb.copy()\n",
    "df_train_gb_new.head()"
   ]
  },
  {
   "cell_type": "code",
   "execution_count": null,
   "metadata": {
    "id": "q6WswTf1SyLZ"
   },
   "outputs": [],
   "source": [
    "items = np.unique(df_train_gb_new['product_id'].values)\n",
    "item_to_encodeditem = {x: i for i, x in enumerate(items)}\n",
    "df_train_gb_new['product_id_new'] = df_train_gb_new['product_id'].map(item_to_encodeditem)\n",
    "encodeditem_to_item = {i: x for i, x in enumerate(items)}   \n",
    "\n",
    "users = np.unique(df_train_gb_new['user_id'].values)\n",
    "user_to_encodeduser = {x: i for i, x in enumerate(users)}\n",
    "df_train_gb_new['user_id_new'] = df_train_gb_new['user_id'].map(user_to_encodeduser)\n",
    "encodeduser_to_user = {i: x for i, x in enumerate(users)}"
   ]
  },
  {
   "cell_type": "code",
   "execution_count": null,
   "metadata": {
    "id": "4GWbbhg1SyLa"
   },
   "outputs": [],
   "source": [
    "sparse_user_item = csc_matrix((df_train_gb_new['rating'].astype(float), \n",
    "                               (df_train_gb_new['user_id_new'], df_train_gb_new['product_id_new'])), \n",
    "                                shape = (len(users), len(items)))"
   ]
  },
  {
   "cell_type": "code",
   "execution_count": null,
   "metadata": {
    "id": "llvh2L1oSyLa"
   },
   "outputs": [],
   "source": [
    "embedding_size = 90\n",
    "U, S, Vt = sparsesvd(sparse_user_item, embedding_size)\n",
    "Ut = U.T"
   ]
  },
  {
   "cell_type": "code",
   "execution_count": null,
   "metadata": {
    "id": "VnkcyNuwSyLa",
    "outputId": "c2fafb50-e484-4a75-aecb-292c5986180c"
   },
   "outputs": [
    {
     "name": "stdout",
     "output_type": "stream",
     "text": [
      "Wall time: 2.14 s\n"
     ]
    }
   ],
   "source": [
    "%%time\n",
    "annoy_index = AnnoyIndex(embedding_size, 'euclidean')\n",
    "for i in range(len(Ut)):\n",
    "    annoy_index.add_item(i, Ut[i])"
   ]
  },
  {
   "cell_type": "code",
   "execution_count": null,
   "metadata": {
    "id": "-Eo4m7lBSyLb",
    "outputId": "ef60394c-d174-4f3a-e99d-02f020591386"
   },
   "outputs": [
    {
     "data": {
      "text/plain": [
       "(90, 206209)"
      ]
     },
     "execution_count": 23,
     "metadata": {
      "tags": []
     },
     "output_type": "execute_result"
    }
   ],
   "source": [
    "embedding_size, len(users)"
   ]
  },
  {
   "cell_type": "code",
   "execution_count": null,
   "metadata": {
    "id": "EZWBH1FdSyLb",
    "outputId": "cd427e57-4ee7-452d-debc-55a7775d332e"
   },
   "outputs": [
    {
     "data": {
      "text/plain": [
       "True"
      ]
     },
     "execution_count": 24,
     "metadata": {
      "tags": []
     },
     "output_type": "execute_result"
    }
   ],
   "source": [
    "annoy_index.build(-1)\n",
    "annoy_index.save('test.ann')"
   ]
  },
  {
   "cell_type": "code",
   "execution_count": null,
   "metadata": {
    "id": "B7Hzq7maSyLb",
    "outputId": "b026a6f5-71eb-443f-a325-631a85f3bd14"
   },
   "outputs": [
    {
     "data": {
      "text/plain": [
       "True"
      ]
     },
     "execution_count": 25,
     "metadata": {
      "tags": []
     },
     "output_type": "execute_result"
    }
   ],
   "source": [
    "annoy_index = AnnoyIndex(embedding_size, 'euclidean')\n",
    "annoy_index.load('test.ann')"
   ]
  },
  {
   "cell_type": "code",
   "execution_count": null,
   "metadata": {
    "id": "gw2LO-qESyLc",
    "outputId": "f673819c-d5d9-41c7-8d9f-1510b83d6307"
   },
   "outputs": [
    {
     "name": "stdout",
     "output_type": "stream",
     "text": [
      "Wall time: 21.7 s\n"
     ]
    }
   ],
   "source": [
    "%%time\n",
    "n_neighbors = 7\n",
    "nn_list = []\n",
    "for i in range(len(users)):\n",
    "    nn_enc = annoy_index.get_nns_by_item(i, n_neighbors)\n",
    "    nn = [encodeduser_to_user.get(j) for j in nn_enc]\n",
    "    nn_list.append(nn)"
   ]
  },
  {
   "cell_type": "code",
   "execution_count": null,
   "metadata": {
    "id": "_FKD_XXiSyLc",
    "outputId": "67b2d90d-a245-455c-bead-b1ee6a2548e3"
   },
   "outputs": [
    {
     "data": {
      "text/plain": [
       "[[1, 205906, 52664, 28862, 85517, 187763, 111241],\n",
       " [2, 85197, 204422, 80026, 45801, 4391, 205746],\n",
       " [3, 129364, 113968, 73630, 66115, 35173, 38656]]"
      ]
     },
     "execution_count": 48,
     "metadata": {
      "tags": []
     },
     "output_type": "execute_result"
    }
   ],
   "source": [
    "nn_list[:3]"
   ]
  },
  {
   "cell_type": "markdown",
   "metadata": {
    "id": "S0gRoWs9SyLd"
   },
   "source": [
    "Рекомендации для первых 10000 пользователей с использованием информации о прошлых покупках пользователей (пользователь сам себе сосед)\":"
   ]
  },
  {
   "cell_type": "code",
   "execution_count": null,
   "metadata": {
    "id": "Mb_ccjfqSyLd",
    "outputId": "50829307-2005-4575-de55-4638587494d3"
   },
   "outputs": [
    {
     "name": "stdout",
     "output_type": "stream",
     "text": [
      "Wall time: 18min 4s\n"
     ]
    }
   ],
   "source": [
    "%%time\n",
    "recommendations_list = []\n",
    "for i in nn_list[:10000]:\n",
    "    df_tmp = df_train_gb_new[df_train_gb_new['user_id'].isin(i)].copy()\n",
    "    df_tmp = df_tmp.groupby(['product_id'], as_index=False)['rating'].sum()\n",
    "    df_tmp['rating'] = df_tmp['rating'] / n_neighbors\n",
    "    recommendations = df_tmp.sort_values(by=['rating'], ascending=False)['product_id'][:10].values\n",
    "    recommendations_list.append(recommendations)"
   ]
  },
  {
   "cell_type": "code",
   "execution_count": null,
   "metadata": {
    "id": "gPHiCA4PSyLd",
    "outputId": "8baa85a5-1220-4148-da5e-9355a921e525"
   },
   "outputs": [
    {
     "data": {
      "text/plain": [
       "10000"
      ]
     },
     "execution_count": 43,
     "metadata": {
      "tags": []
     },
     "output_type": "execute_result"
    }
   ],
   "source": [
    "len(recommendations_list)"
   ]
  },
  {
   "cell_type": "code",
   "execution_count": null,
   "metadata": {
    "id": "eawnlVecSyLe",
    "outputId": "ac9445ad-6b95-410d-9547-dc75e8eb3318"
   },
   "outputs": [
    {
     "name": "stdout",
     "output_type": "stream",
     "text": [
      "      metric     value\n",
      "0  HitRate@k  0.720600\n",
      "1      MAP@k  0.421925\n",
      "2     NDCG@k  0.246440\n"
     ]
    }
   ],
   "source": [
    "print_metrics(test_pivot['ground_truth'][:10000], recommendations_list, 10)"
   ]
  },
  {
   "cell_type": "markdown",
   "metadata": {
    "id": "KmGRgeneSyLg"
   },
   "source": [
    "Рекомендации для первых 10000 пользователей без использования информации о прошлых покупках пользователей (пользователь сам себе не сосед)\":"
   ]
  },
  {
   "cell_type": "code",
   "execution_count": null,
   "metadata": {
    "id": "h73As3v3SyLg"
   },
   "outputs": [],
   "source": [
    "recommendations_list_2 = []\n",
    "for i in nn_list[:10000]:\n",
    "    df_tmp = df_train_gb_new[df_train_gb_new['user_id'].isin(i[1:])].copy()\n",
    "    df_tmp = df_tmp.groupby(['product_id'], as_index=False)['rating'].sum()\n",
    "    df_tmp['rating'] = df_tmp['rating'] / n_neighbors\n",
    "    recommendations = df_tmp.sort_values(by=['rating'], ascending=False)['product_id'][:10].values\n",
    "    recommendations_list_2.append(recommendations)"
   ]
  },
  {
   "cell_type": "code",
   "execution_count": null,
   "metadata": {
    "id": "-IZsUAjCSyLg",
    "outputId": "f2856cea-6814-4a3d-cd7a-44e7af2946e0"
   },
   "outputs": [
    {
     "name": "stdout",
     "output_type": "stream",
     "text": [
      "      metric     value\n",
      "0  HitRate@k  0.540600\n",
      "1      MAP@k  0.378562\n",
      "2     NDCG@k  0.162881\n"
     ]
    }
   ],
   "source": [
    "print_metrics(test_pivot['ground_truth'][:10000], recommendations_list_2, 10)"
   ]
  },
  {
   "cell_type": "code",
   "execution_count": null,
   "metadata": {
    "id": "TsbJAvrGSyLh"
   },
   "outputs": [],
   "source": []
  }
 ],
 "metadata": {
  "colab": {
   "collapsed_sections": [
    "qErr0o0q3QHf",
    "xrwDJ1kN3ToX",
    "TpUJqqzq3eNS",
    "P9UtXDVOdfi-",
    "eA-O2lm9e_LH",
    "nFwSehFbkNFs",
    "YX00tjUYn_Tt",
    "YmYIOrJHoBS-",
    "CvfgHa6DQQfK"
   ],
   "name": "Task_1.ipynb",
   "provenance": []
  },
  "kernelspec": {
   "display_name": "Python 3",
   "language": "python",
   "name": "python3"
  },
  "language_info": {
   "codemirror_mode": {
    "name": "ipython",
    "version": 3
   },
   "file_extension": ".py",
   "mimetype": "text/x-python",
   "name": "python",
   "nbconvert_exporter": "python",
   "pygments_lexer": "ipython3",
   "version": "3.6.13"
  }
 },
 "nbformat": 4,
 "nbformat_minor": 4
}
